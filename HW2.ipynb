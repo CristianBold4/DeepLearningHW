{
  "nbformat": 4,
  "nbformat_minor": 0,
  "metadata": {
    "colab": {
      "name": "HW2.ipynb",
      "provenance": [],
      "collapsed_sections": []
    },
    "kernelspec": {
      "display_name": "Python 3",
      "name": "python3"
    },
    "widgets": {
      "application/vnd.jupyter.widget-state+json": {
        "d328231dc7284a4bab3eb1760b93c193": {
          "model_module": "@jupyter-widgets/controls",
          "model_name": "HBoxModel",
          "model_module_version": "1.5.0",
          "state": {
            "_dom_classes": [],
            "_model_module": "@jupyter-widgets/controls",
            "_model_module_version": "1.5.0",
            "_model_name": "HBoxModel",
            "_view_count": null,
            "_view_module": "@jupyter-widgets/controls",
            "_view_module_version": "1.5.0",
            "_view_name": "HBoxView",
            "box_style": "",
            "children": [
              "IPY_MODEL_a105bcaa87df40e9b0d8549dee793b9a",
              "IPY_MODEL_f52c9861315049db8bf6608424737d5c",
              "IPY_MODEL_5c419f28a66048c496d4cd800b16d8d0"
            ],
            "layout": "IPY_MODEL_4eab719fbea140cab99aefd27b98a107"
          }
        },
        "a105bcaa87df40e9b0d8549dee793b9a": {
          "model_module": "@jupyter-widgets/controls",
          "model_name": "HTMLModel",
          "model_module_version": "1.5.0",
          "state": {
            "_dom_classes": [],
            "_model_module": "@jupyter-widgets/controls",
            "_model_module_version": "1.5.0",
            "_model_name": "HTMLModel",
            "_view_count": null,
            "_view_module": "@jupyter-widgets/controls",
            "_view_module_version": "1.5.0",
            "_view_name": "HTMLView",
            "description": "",
            "description_tooltip": null,
            "layout": "IPY_MODEL_16979325255e4dda9bda656d4cbc0039",
            "placeholder": "​",
            "style": "IPY_MODEL_97df293ba6754289bcec36f7f1edee4f",
            "value": "Dl Completed...: "
          }
        },
        "f52c9861315049db8bf6608424737d5c": {
          "model_module": "@jupyter-widgets/controls",
          "model_name": "FloatProgressModel",
          "model_module_version": "1.5.0",
          "state": {
            "_dom_classes": [],
            "_model_module": "@jupyter-widgets/controls",
            "_model_module_version": "1.5.0",
            "_model_name": "FloatProgressModel",
            "_view_count": null,
            "_view_module": "@jupyter-widgets/controls",
            "_view_module_version": "1.5.0",
            "_view_name": "ProgressView",
            "bar_style": "success",
            "description": "",
            "description_tooltip": null,
            "layout": "IPY_MODEL_d0d36538ab874fb5be0f63c50e4fb86c",
            "max": 1,
            "min": 0,
            "orientation": "horizontal",
            "style": "IPY_MODEL_db675c1820c74b24899ec7933c0b12c9",
            "value": 0
          }
        },
        "5c419f28a66048c496d4cd800b16d8d0": {
          "model_module": "@jupyter-widgets/controls",
          "model_name": "HTMLModel",
          "model_module_version": "1.5.0",
          "state": {
            "_dom_classes": [],
            "_model_module": "@jupyter-widgets/controls",
            "_model_module_version": "1.5.0",
            "_model_name": "HTMLModel",
            "_view_count": null,
            "_view_module": "@jupyter-widgets/controls",
            "_view_module_version": "1.5.0",
            "_view_name": "HTMLView",
            "description": "",
            "description_tooltip": null,
            "layout": "IPY_MODEL_afeb2cf38f8248a293fa8b9095332c0c",
            "placeholder": "​",
            "style": "IPY_MODEL_b6e2fa8070f041d78fd6f019fa4204ec",
            "value": " 0/0 [00:00&lt;?, ? url/s]"
          }
        },
        "4eab719fbea140cab99aefd27b98a107": {
          "model_module": "@jupyter-widgets/base",
          "model_name": "LayoutModel",
          "model_module_version": "1.2.0",
          "state": {
            "_model_module": "@jupyter-widgets/base",
            "_model_module_version": "1.2.0",
            "_model_name": "LayoutModel",
            "_view_count": null,
            "_view_module": "@jupyter-widgets/base",
            "_view_module_version": "1.2.0",
            "_view_name": "LayoutView",
            "align_content": null,
            "align_items": null,
            "align_self": null,
            "border": null,
            "bottom": null,
            "display": null,
            "flex": null,
            "flex_flow": null,
            "grid_area": null,
            "grid_auto_columns": null,
            "grid_auto_flow": null,
            "grid_auto_rows": null,
            "grid_column": null,
            "grid_gap": null,
            "grid_row": null,
            "grid_template_areas": null,
            "grid_template_columns": null,
            "grid_template_rows": null,
            "height": null,
            "justify_content": null,
            "justify_items": null,
            "left": null,
            "margin": null,
            "max_height": null,
            "max_width": null,
            "min_height": null,
            "min_width": null,
            "object_fit": null,
            "object_position": null,
            "order": null,
            "overflow": null,
            "overflow_x": null,
            "overflow_y": null,
            "padding": null,
            "right": null,
            "top": null,
            "visibility": null,
            "width": null
          }
        },
        "16979325255e4dda9bda656d4cbc0039": {
          "model_module": "@jupyter-widgets/base",
          "model_name": "LayoutModel",
          "model_module_version": "1.2.0",
          "state": {
            "_model_module": "@jupyter-widgets/base",
            "_model_module_version": "1.2.0",
            "_model_name": "LayoutModel",
            "_view_count": null,
            "_view_module": "@jupyter-widgets/base",
            "_view_module_version": "1.2.0",
            "_view_name": "LayoutView",
            "align_content": null,
            "align_items": null,
            "align_self": null,
            "border": null,
            "bottom": null,
            "display": null,
            "flex": null,
            "flex_flow": null,
            "grid_area": null,
            "grid_auto_columns": null,
            "grid_auto_flow": null,
            "grid_auto_rows": null,
            "grid_column": null,
            "grid_gap": null,
            "grid_row": null,
            "grid_template_areas": null,
            "grid_template_columns": null,
            "grid_template_rows": null,
            "height": null,
            "justify_content": null,
            "justify_items": null,
            "left": null,
            "margin": null,
            "max_height": null,
            "max_width": null,
            "min_height": null,
            "min_width": null,
            "object_fit": null,
            "object_position": null,
            "order": null,
            "overflow": null,
            "overflow_x": null,
            "overflow_y": null,
            "padding": null,
            "right": null,
            "top": null,
            "visibility": null,
            "width": null
          }
        },
        "97df293ba6754289bcec36f7f1edee4f": {
          "model_module": "@jupyter-widgets/controls",
          "model_name": "DescriptionStyleModel",
          "model_module_version": "1.5.0",
          "state": {
            "_model_module": "@jupyter-widgets/controls",
            "_model_module_version": "1.5.0",
            "_model_name": "DescriptionStyleModel",
            "_view_count": null,
            "_view_module": "@jupyter-widgets/base",
            "_view_module_version": "1.2.0",
            "_view_name": "StyleView",
            "description_width": ""
          }
        },
        "d0d36538ab874fb5be0f63c50e4fb86c": {
          "model_module": "@jupyter-widgets/base",
          "model_name": "LayoutModel",
          "model_module_version": "1.2.0",
          "state": {
            "_model_module": "@jupyter-widgets/base",
            "_model_module_version": "1.2.0",
            "_model_name": "LayoutModel",
            "_view_count": null,
            "_view_module": "@jupyter-widgets/base",
            "_view_module_version": "1.2.0",
            "_view_name": "LayoutView",
            "align_content": null,
            "align_items": null,
            "align_self": null,
            "border": null,
            "bottom": null,
            "display": null,
            "flex": null,
            "flex_flow": null,
            "grid_area": null,
            "grid_auto_columns": null,
            "grid_auto_flow": null,
            "grid_auto_rows": null,
            "grid_column": null,
            "grid_gap": null,
            "grid_row": null,
            "grid_template_areas": null,
            "grid_template_columns": null,
            "grid_template_rows": null,
            "height": null,
            "justify_content": null,
            "justify_items": null,
            "left": null,
            "margin": null,
            "max_height": null,
            "max_width": null,
            "min_height": null,
            "min_width": null,
            "object_fit": null,
            "object_position": null,
            "order": null,
            "overflow": null,
            "overflow_x": null,
            "overflow_y": null,
            "padding": null,
            "right": null,
            "top": null,
            "visibility": null,
            "width": "20px"
          }
        },
        "db675c1820c74b24899ec7933c0b12c9": {
          "model_module": "@jupyter-widgets/controls",
          "model_name": "ProgressStyleModel",
          "model_module_version": "1.5.0",
          "state": {
            "_model_module": "@jupyter-widgets/controls",
            "_model_module_version": "1.5.0",
            "_model_name": "ProgressStyleModel",
            "_view_count": null,
            "_view_module": "@jupyter-widgets/base",
            "_view_module_version": "1.2.0",
            "_view_name": "StyleView",
            "bar_color": null,
            "description_width": ""
          }
        },
        "afeb2cf38f8248a293fa8b9095332c0c": {
          "model_module": "@jupyter-widgets/base",
          "model_name": "LayoutModel",
          "model_module_version": "1.2.0",
          "state": {
            "_model_module": "@jupyter-widgets/base",
            "_model_module_version": "1.2.0",
            "_model_name": "LayoutModel",
            "_view_count": null,
            "_view_module": "@jupyter-widgets/base",
            "_view_module_version": "1.2.0",
            "_view_name": "LayoutView",
            "align_content": null,
            "align_items": null,
            "align_self": null,
            "border": null,
            "bottom": null,
            "display": null,
            "flex": null,
            "flex_flow": null,
            "grid_area": null,
            "grid_auto_columns": null,
            "grid_auto_flow": null,
            "grid_auto_rows": null,
            "grid_column": null,
            "grid_gap": null,
            "grid_row": null,
            "grid_template_areas": null,
            "grid_template_columns": null,
            "grid_template_rows": null,
            "height": null,
            "justify_content": null,
            "justify_items": null,
            "left": null,
            "margin": null,
            "max_height": null,
            "max_width": null,
            "min_height": null,
            "min_width": null,
            "object_fit": null,
            "object_position": null,
            "order": null,
            "overflow": null,
            "overflow_x": null,
            "overflow_y": null,
            "padding": null,
            "right": null,
            "top": null,
            "visibility": null,
            "width": null
          }
        },
        "b6e2fa8070f041d78fd6f019fa4204ec": {
          "model_module": "@jupyter-widgets/controls",
          "model_name": "DescriptionStyleModel",
          "model_module_version": "1.5.0",
          "state": {
            "_model_module": "@jupyter-widgets/controls",
            "_model_module_version": "1.5.0",
            "_model_name": "DescriptionStyleModel",
            "_view_count": null,
            "_view_module": "@jupyter-widgets/base",
            "_view_module_version": "1.2.0",
            "_view_name": "StyleView",
            "description_width": ""
          }
        },
        "4cd5e2ae5f11475193042725a9ef2946": {
          "model_module": "@jupyter-widgets/controls",
          "model_name": "HBoxModel",
          "model_module_version": "1.5.0",
          "state": {
            "_dom_classes": [],
            "_model_module": "@jupyter-widgets/controls",
            "_model_module_version": "1.5.0",
            "_model_name": "HBoxModel",
            "_view_count": null,
            "_view_module": "@jupyter-widgets/controls",
            "_view_module_version": "1.5.0",
            "_view_name": "HBoxView",
            "box_style": "",
            "children": [
              "IPY_MODEL_07a73ae532ce4543adbe1595293caeb7",
              "IPY_MODEL_54c8ff3df60e4f1fad00b0b72555bd7b",
              "IPY_MODEL_93a52aaf33924812ab7edbb217069fe2"
            ],
            "layout": "IPY_MODEL_b258b869e3bb4117ab82aa615aea8001"
          }
        },
        "07a73ae532ce4543adbe1595293caeb7": {
          "model_module": "@jupyter-widgets/controls",
          "model_name": "HTMLModel",
          "model_module_version": "1.5.0",
          "state": {
            "_dom_classes": [],
            "_model_module": "@jupyter-widgets/controls",
            "_model_module_version": "1.5.0",
            "_model_name": "HTMLModel",
            "_view_count": null,
            "_view_module": "@jupyter-widgets/controls",
            "_view_module_version": "1.5.0",
            "_view_name": "HTMLView",
            "description": "",
            "description_tooltip": null,
            "layout": "IPY_MODEL_0a3190ab89674125a6c10409981698fb",
            "placeholder": "​",
            "style": "IPY_MODEL_42b2ae8939a34c7ebf3a2d0bfb13f510",
            "value": "Dl Size...: "
          }
        },
        "54c8ff3df60e4f1fad00b0b72555bd7b": {
          "model_module": "@jupyter-widgets/controls",
          "model_name": "FloatProgressModel",
          "model_module_version": "1.5.0",
          "state": {
            "_dom_classes": [],
            "_model_module": "@jupyter-widgets/controls",
            "_model_module_version": "1.5.0",
            "_model_name": "FloatProgressModel",
            "_view_count": null,
            "_view_module": "@jupyter-widgets/controls",
            "_view_module_version": "1.5.0",
            "_view_name": "ProgressView",
            "bar_style": "success",
            "description": "",
            "description_tooltip": null,
            "layout": "IPY_MODEL_bf9f8dd174bf491ea58ce71c46a74c56",
            "max": 1,
            "min": 0,
            "orientation": "horizontal",
            "style": "IPY_MODEL_51cffcb6dd89478f9a46f9d560b833b5",
            "value": 0
          }
        },
        "93a52aaf33924812ab7edbb217069fe2": {
          "model_module": "@jupyter-widgets/controls",
          "model_name": "HTMLModel",
          "model_module_version": "1.5.0",
          "state": {
            "_dom_classes": [],
            "_model_module": "@jupyter-widgets/controls",
            "_model_module_version": "1.5.0",
            "_model_name": "HTMLModel",
            "_view_count": null,
            "_view_module": "@jupyter-widgets/controls",
            "_view_module_version": "1.5.0",
            "_view_name": "HTMLView",
            "description": "",
            "description_tooltip": null,
            "layout": "IPY_MODEL_5e5f89a25ad24905856407f889af64f0",
            "placeholder": "​",
            "style": "IPY_MODEL_26b06553a09046bcaf4bf9b630759d36",
            "value": " 0/0 [00:00&lt;?, ? MiB/s]"
          }
        },
        "b258b869e3bb4117ab82aa615aea8001": {
          "model_module": "@jupyter-widgets/base",
          "model_name": "LayoutModel",
          "model_module_version": "1.2.0",
          "state": {
            "_model_module": "@jupyter-widgets/base",
            "_model_module_version": "1.2.0",
            "_model_name": "LayoutModel",
            "_view_count": null,
            "_view_module": "@jupyter-widgets/base",
            "_view_module_version": "1.2.0",
            "_view_name": "LayoutView",
            "align_content": null,
            "align_items": null,
            "align_self": null,
            "border": null,
            "bottom": null,
            "display": null,
            "flex": null,
            "flex_flow": null,
            "grid_area": null,
            "grid_auto_columns": null,
            "grid_auto_flow": null,
            "grid_auto_rows": null,
            "grid_column": null,
            "grid_gap": null,
            "grid_row": null,
            "grid_template_areas": null,
            "grid_template_columns": null,
            "grid_template_rows": null,
            "height": null,
            "justify_content": null,
            "justify_items": null,
            "left": null,
            "margin": null,
            "max_height": null,
            "max_width": null,
            "min_height": null,
            "min_width": null,
            "object_fit": null,
            "object_position": null,
            "order": null,
            "overflow": null,
            "overflow_x": null,
            "overflow_y": null,
            "padding": null,
            "right": null,
            "top": null,
            "visibility": null,
            "width": null
          }
        },
        "0a3190ab89674125a6c10409981698fb": {
          "model_module": "@jupyter-widgets/base",
          "model_name": "LayoutModel",
          "model_module_version": "1.2.0",
          "state": {
            "_model_module": "@jupyter-widgets/base",
            "_model_module_version": "1.2.0",
            "_model_name": "LayoutModel",
            "_view_count": null,
            "_view_module": "@jupyter-widgets/base",
            "_view_module_version": "1.2.0",
            "_view_name": "LayoutView",
            "align_content": null,
            "align_items": null,
            "align_self": null,
            "border": null,
            "bottom": null,
            "display": null,
            "flex": null,
            "flex_flow": null,
            "grid_area": null,
            "grid_auto_columns": null,
            "grid_auto_flow": null,
            "grid_auto_rows": null,
            "grid_column": null,
            "grid_gap": null,
            "grid_row": null,
            "grid_template_areas": null,
            "grid_template_columns": null,
            "grid_template_rows": null,
            "height": null,
            "justify_content": null,
            "justify_items": null,
            "left": null,
            "margin": null,
            "max_height": null,
            "max_width": null,
            "min_height": null,
            "min_width": null,
            "object_fit": null,
            "object_position": null,
            "order": null,
            "overflow": null,
            "overflow_x": null,
            "overflow_y": null,
            "padding": null,
            "right": null,
            "top": null,
            "visibility": null,
            "width": null
          }
        },
        "42b2ae8939a34c7ebf3a2d0bfb13f510": {
          "model_module": "@jupyter-widgets/controls",
          "model_name": "DescriptionStyleModel",
          "model_module_version": "1.5.0",
          "state": {
            "_model_module": "@jupyter-widgets/controls",
            "_model_module_version": "1.5.0",
            "_model_name": "DescriptionStyleModel",
            "_view_count": null,
            "_view_module": "@jupyter-widgets/base",
            "_view_module_version": "1.2.0",
            "_view_name": "StyleView",
            "description_width": ""
          }
        },
        "bf9f8dd174bf491ea58ce71c46a74c56": {
          "model_module": "@jupyter-widgets/base",
          "model_name": "LayoutModel",
          "model_module_version": "1.2.0",
          "state": {
            "_model_module": "@jupyter-widgets/base",
            "_model_module_version": "1.2.0",
            "_model_name": "LayoutModel",
            "_view_count": null,
            "_view_module": "@jupyter-widgets/base",
            "_view_module_version": "1.2.0",
            "_view_name": "LayoutView",
            "align_content": null,
            "align_items": null,
            "align_self": null,
            "border": null,
            "bottom": null,
            "display": null,
            "flex": null,
            "flex_flow": null,
            "grid_area": null,
            "grid_auto_columns": null,
            "grid_auto_flow": null,
            "grid_auto_rows": null,
            "grid_column": null,
            "grid_gap": null,
            "grid_row": null,
            "grid_template_areas": null,
            "grid_template_columns": null,
            "grid_template_rows": null,
            "height": null,
            "justify_content": null,
            "justify_items": null,
            "left": null,
            "margin": null,
            "max_height": null,
            "max_width": null,
            "min_height": null,
            "min_width": null,
            "object_fit": null,
            "object_position": null,
            "order": null,
            "overflow": null,
            "overflow_x": null,
            "overflow_y": null,
            "padding": null,
            "right": null,
            "top": null,
            "visibility": null,
            "width": "20px"
          }
        },
        "51cffcb6dd89478f9a46f9d560b833b5": {
          "model_module": "@jupyter-widgets/controls",
          "model_name": "ProgressStyleModel",
          "model_module_version": "1.5.0",
          "state": {
            "_model_module": "@jupyter-widgets/controls",
            "_model_module_version": "1.5.0",
            "_model_name": "ProgressStyleModel",
            "_view_count": null,
            "_view_module": "@jupyter-widgets/base",
            "_view_module_version": "1.2.0",
            "_view_name": "StyleView",
            "bar_color": null,
            "description_width": ""
          }
        },
        "5e5f89a25ad24905856407f889af64f0": {
          "model_module": "@jupyter-widgets/base",
          "model_name": "LayoutModel",
          "model_module_version": "1.2.0",
          "state": {
            "_model_module": "@jupyter-widgets/base",
            "_model_module_version": "1.2.0",
            "_model_name": "LayoutModel",
            "_view_count": null,
            "_view_module": "@jupyter-widgets/base",
            "_view_module_version": "1.2.0",
            "_view_name": "LayoutView",
            "align_content": null,
            "align_items": null,
            "align_self": null,
            "border": null,
            "bottom": null,
            "display": null,
            "flex": null,
            "flex_flow": null,
            "grid_area": null,
            "grid_auto_columns": null,
            "grid_auto_flow": null,
            "grid_auto_rows": null,
            "grid_column": null,
            "grid_gap": null,
            "grid_row": null,
            "grid_template_areas": null,
            "grid_template_columns": null,
            "grid_template_rows": null,
            "height": null,
            "justify_content": null,
            "justify_items": null,
            "left": null,
            "margin": null,
            "max_height": null,
            "max_width": null,
            "min_height": null,
            "min_width": null,
            "object_fit": null,
            "object_position": null,
            "order": null,
            "overflow": null,
            "overflow_x": null,
            "overflow_y": null,
            "padding": null,
            "right": null,
            "top": null,
            "visibility": null,
            "width": null
          }
        },
        "26b06553a09046bcaf4bf9b630759d36": {
          "model_module": "@jupyter-widgets/controls",
          "model_name": "DescriptionStyleModel",
          "model_module_version": "1.5.0",
          "state": {
            "_model_module": "@jupyter-widgets/controls",
            "_model_module_version": "1.5.0",
            "_model_name": "DescriptionStyleModel",
            "_view_count": null,
            "_view_module": "@jupyter-widgets/base",
            "_view_module_version": "1.2.0",
            "_view_name": "StyleView",
            "description_width": ""
          }
        },
        "4635fce8d1ac4dfb801205e92b486497": {
          "model_module": "@jupyter-widgets/controls",
          "model_name": "HBoxModel",
          "model_module_version": "1.5.0",
          "state": {
            "_dom_classes": [],
            "_model_module": "@jupyter-widgets/controls",
            "_model_module_version": "1.5.0",
            "_model_name": "HBoxModel",
            "_view_count": null,
            "_view_module": "@jupyter-widgets/controls",
            "_view_module_version": "1.5.0",
            "_view_name": "HBoxView",
            "box_style": "",
            "children": [
              "IPY_MODEL_2373e391739341bd8f0936dbd815aee6",
              "IPY_MODEL_17d61948ba00408c86fe9b91403b0a8c",
              "IPY_MODEL_e51f784e29a54595b05ebc353ca72a3d"
            ],
            "layout": "IPY_MODEL_d379449623594d2e920df1a485b1074a"
          }
        },
        "2373e391739341bd8f0936dbd815aee6": {
          "model_module": "@jupyter-widgets/controls",
          "model_name": "HTMLModel",
          "model_module_version": "1.5.0",
          "state": {
            "_dom_classes": [],
            "_model_module": "@jupyter-widgets/controls",
            "_model_module_version": "1.5.0",
            "_model_name": "HTMLModel",
            "_view_count": null,
            "_view_module": "@jupyter-widgets/controls",
            "_view_module_version": "1.5.0",
            "_view_name": "HTMLView",
            "description": "",
            "description_tooltip": null,
            "layout": "IPY_MODEL_c1f59064b4f447b0a269e15df6a45337",
            "placeholder": "​",
            "style": "IPY_MODEL_65cf292abdbc4965a5df8dd3e0c30883",
            "value": "Extraction completed...: 100%"
          }
        },
        "17d61948ba00408c86fe9b91403b0a8c": {
          "model_module": "@jupyter-widgets/controls",
          "model_name": "FloatProgressModel",
          "model_module_version": "1.5.0",
          "state": {
            "_dom_classes": [],
            "_model_module": "@jupyter-widgets/controls",
            "_model_module_version": "1.5.0",
            "_model_name": "FloatProgressModel",
            "_view_count": null,
            "_view_module": "@jupyter-widgets/controls",
            "_view_module_version": "1.5.0",
            "_view_name": "ProgressView",
            "bar_style": "success",
            "description": "",
            "description_tooltip": null,
            "layout": "IPY_MODEL_35442aa225cc4a5db34902c917713f73",
            "max": 1,
            "min": 0,
            "orientation": "horizontal",
            "style": "IPY_MODEL_743b15926285480d91b7894d830860cd",
            "value": 1
          }
        },
        "e51f784e29a54595b05ebc353ca72a3d": {
          "model_module": "@jupyter-widgets/controls",
          "model_name": "HTMLModel",
          "model_module_version": "1.5.0",
          "state": {
            "_dom_classes": [],
            "_model_module": "@jupyter-widgets/controls",
            "_model_module_version": "1.5.0",
            "_model_name": "HTMLModel",
            "_view_count": null,
            "_view_module": "@jupyter-widgets/controls",
            "_view_module_version": "1.5.0",
            "_view_name": "HTMLView",
            "description": "",
            "description_tooltip": null,
            "layout": "IPY_MODEL_e9031622f6fe43a4ae971907bc385009",
            "placeholder": "​",
            "style": "IPY_MODEL_fee099dbb1294e23a90de83cae44f51e",
            "value": " 1/1 [00:00&lt;00:00,  2.55 file/s]"
          }
        },
        "d379449623594d2e920df1a485b1074a": {
          "model_module": "@jupyter-widgets/base",
          "model_name": "LayoutModel",
          "model_module_version": "1.2.0",
          "state": {
            "_model_module": "@jupyter-widgets/base",
            "_model_module_version": "1.2.0",
            "_model_name": "LayoutModel",
            "_view_count": null,
            "_view_module": "@jupyter-widgets/base",
            "_view_module_version": "1.2.0",
            "_view_name": "LayoutView",
            "align_content": null,
            "align_items": null,
            "align_self": null,
            "border": null,
            "bottom": null,
            "display": null,
            "flex": null,
            "flex_flow": null,
            "grid_area": null,
            "grid_auto_columns": null,
            "grid_auto_flow": null,
            "grid_auto_rows": null,
            "grid_column": null,
            "grid_gap": null,
            "grid_row": null,
            "grid_template_areas": null,
            "grid_template_columns": null,
            "grid_template_rows": null,
            "height": null,
            "justify_content": null,
            "justify_items": null,
            "left": null,
            "margin": null,
            "max_height": null,
            "max_width": null,
            "min_height": null,
            "min_width": null,
            "object_fit": null,
            "object_position": null,
            "order": null,
            "overflow": null,
            "overflow_x": null,
            "overflow_y": null,
            "padding": null,
            "right": null,
            "top": null,
            "visibility": null,
            "width": null
          }
        },
        "c1f59064b4f447b0a269e15df6a45337": {
          "model_module": "@jupyter-widgets/base",
          "model_name": "LayoutModel",
          "model_module_version": "1.2.0",
          "state": {
            "_model_module": "@jupyter-widgets/base",
            "_model_module_version": "1.2.0",
            "_model_name": "LayoutModel",
            "_view_count": null,
            "_view_module": "@jupyter-widgets/base",
            "_view_module_version": "1.2.0",
            "_view_name": "LayoutView",
            "align_content": null,
            "align_items": null,
            "align_self": null,
            "border": null,
            "bottom": null,
            "display": null,
            "flex": null,
            "flex_flow": null,
            "grid_area": null,
            "grid_auto_columns": null,
            "grid_auto_flow": null,
            "grid_auto_rows": null,
            "grid_column": null,
            "grid_gap": null,
            "grid_row": null,
            "grid_template_areas": null,
            "grid_template_columns": null,
            "grid_template_rows": null,
            "height": null,
            "justify_content": null,
            "justify_items": null,
            "left": null,
            "margin": null,
            "max_height": null,
            "max_width": null,
            "min_height": null,
            "min_width": null,
            "object_fit": null,
            "object_position": null,
            "order": null,
            "overflow": null,
            "overflow_x": null,
            "overflow_y": null,
            "padding": null,
            "right": null,
            "top": null,
            "visibility": null,
            "width": null
          }
        },
        "65cf292abdbc4965a5df8dd3e0c30883": {
          "model_module": "@jupyter-widgets/controls",
          "model_name": "DescriptionStyleModel",
          "model_module_version": "1.5.0",
          "state": {
            "_model_module": "@jupyter-widgets/controls",
            "_model_module_version": "1.5.0",
            "_model_name": "DescriptionStyleModel",
            "_view_count": null,
            "_view_module": "@jupyter-widgets/base",
            "_view_module_version": "1.2.0",
            "_view_name": "StyleView",
            "description_width": ""
          }
        },
        "35442aa225cc4a5db34902c917713f73": {
          "model_module": "@jupyter-widgets/base",
          "model_name": "LayoutModel",
          "model_module_version": "1.2.0",
          "state": {
            "_model_module": "@jupyter-widgets/base",
            "_model_module_version": "1.2.0",
            "_model_name": "LayoutModel",
            "_view_count": null,
            "_view_module": "@jupyter-widgets/base",
            "_view_module_version": "1.2.0",
            "_view_name": "LayoutView",
            "align_content": null,
            "align_items": null,
            "align_self": null,
            "border": null,
            "bottom": null,
            "display": null,
            "flex": null,
            "flex_flow": null,
            "grid_area": null,
            "grid_auto_columns": null,
            "grid_auto_flow": null,
            "grid_auto_rows": null,
            "grid_column": null,
            "grid_gap": null,
            "grid_row": null,
            "grid_template_areas": null,
            "grid_template_columns": null,
            "grid_template_rows": null,
            "height": null,
            "justify_content": null,
            "justify_items": null,
            "left": null,
            "margin": null,
            "max_height": null,
            "max_width": null,
            "min_height": null,
            "min_width": null,
            "object_fit": null,
            "object_position": null,
            "order": null,
            "overflow": null,
            "overflow_x": null,
            "overflow_y": null,
            "padding": null,
            "right": null,
            "top": null,
            "visibility": null,
            "width": "20px"
          }
        },
        "743b15926285480d91b7894d830860cd": {
          "model_module": "@jupyter-widgets/controls",
          "model_name": "ProgressStyleModel",
          "model_module_version": "1.5.0",
          "state": {
            "_model_module": "@jupyter-widgets/controls",
            "_model_module_version": "1.5.0",
            "_model_name": "ProgressStyleModel",
            "_view_count": null,
            "_view_module": "@jupyter-widgets/base",
            "_view_module_version": "1.2.0",
            "_view_name": "StyleView",
            "bar_color": null,
            "description_width": ""
          }
        },
        "e9031622f6fe43a4ae971907bc385009": {
          "model_module": "@jupyter-widgets/base",
          "model_name": "LayoutModel",
          "model_module_version": "1.2.0",
          "state": {
            "_model_module": "@jupyter-widgets/base",
            "_model_module_version": "1.2.0",
            "_model_name": "LayoutModel",
            "_view_count": null,
            "_view_module": "@jupyter-widgets/base",
            "_view_module_version": "1.2.0",
            "_view_name": "LayoutView",
            "align_content": null,
            "align_items": null,
            "align_self": null,
            "border": null,
            "bottom": null,
            "display": null,
            "flex": null,
            "flex_flow": null,
            "grid_area": null,
            "grid_auto_columns": null,
            "grid_auto_flow": null,
            "grid_auto_rows": null,
            "grid_column": null,
            "grid_gap": null,
            "grid_row": null,
            "grid_template_areas": null,
            "grid_template_columns": null,
            "grid_template_rows": null,
            "height": null,
            "justify_content": null,
            "justify_items": null,
            "left": null,
            "margin": null,
            "max_height": null,
            "max_width": null,
            "min_height": null,
            "min_width": null,
            "object_fit": null,
            "object_position": null,
            "order": null,
            "overflow": null,
            "overflow_x": null,
            "overflow_y": null,
            "padding": null,
            "right": null,
            "top": null,
            "visibility": null,
            "width": null
          }
        },
        "fee099dbb1294e23a90de83cae44f51e": {
          "model_module": "@jupyter-widgets/controls",
          "model_name": "DescriptionStyleModel",
          "model_module_version": "1.5.0",
          "state": {
            "_model_module": "@jupyter-widgets/controls",
            "_model_module_version": "1.5.0",
            "_model_name": "DescriptionStyleModel",
            "_view_count": null,
            "_view_module": "@jupyter-widgets/base",
            "_view_module_version": "1.2.0",
            "_view_name": "StyleView",
            "description_width": ""
          }
        },
        "a51de75a8a964ca3bbd1a680bf2d47e8": {
          "model_module": "@jupyter-widgets/controls",
          "model_name": "HBoxModel",
          "model_module_version": "1.5.0",
          "state": {
            "_dom_classes": [],
            "_model_module": "@jupyter-widgets/controls",
            "_model_module_version": "1.5.0",
            "_model_name": "HBoxModel",
            "_view_count": null,
            "_view_module": "@jupyter-widgets/controls",
            "_view_module_version": "1.5.0",
            "_view_name": "HBoxView",
            "box_style": "",
            "children": [
              "IPY_MODEL_d8dbe3f41dc742c39eef67d6fce4d974",
              "IPY_MODEL_daf4dae6daf04761a6dc3e0dbacbc3c9",
              "IPY_MODEL_6aae9efecd9d40cc806f2cab84da0793"
            ],
            "layout": "IPY_MODEL_a6e44a9af1c9446a9c8280b9f4e052e6"
          }
        },
        "d8dbe3f41dc742c39eef67d6fce4d974": {
          "model_module": "@jupyter-widgets/controls",
          "model_name": "HTMLModel",
          "model_module_version": "1.5.0",
          "state": {
            "_dom_classes": [],
            "_model_module": "@jupyter-widgets/controls",
            "_model_module_version": "1.5.0",
            "_model_name": "HTMLModel",
            "_view_count": null,
            "_view_module": "@jupyter-widgets/controls",
            "_view_module_version": "1.5.0",
            "_view_name": "HTMLView",
            "description": "",
            "description_tooltip": null,
            "layout": "IPY_MODEL_096635f646c94b9fa8007a9428916af5",
            "placeholder": "​",
            "style": "IPY_MODEL_f950c5611f6b4564be16e4cc5f0c284e",
            "value": ""
          }
        },
        "daf4dae6daf04761a6dc3e0dbacbc3c9": {
          "model_module": "@jupyter-widgets/controls",
          "model_name": "FloatProgressModel",
          "model_module_version": "1.5.0",
          "state": {
            "_dom_classes": [],
            "_model_module": "@jupyter-widgets/controls",
            "_model_module_version": "1.5.0",
            "_model_name": "FloatProgressModel",
            "_view_count": null,
            "_view_module": "@jupyter-widgets/controls",
            "_view_module_version": "1.5.0",
            "_view_name": "ProgressView",
            "bar_style": "info",
            "description": "",
            "description_tooltip": null,
            "layout": "IPY_MODEL_6260d95c712c431eac05dd54becc3248",
            "max": 1,
            "min": 0,
            "orientation": "horizontal",
            "style": "IPY_MODEL_b3939efed9c642b69b5bd731e12fca0b",
            "value": 1
          }
        },
        "6aae9efecd9d40cc806f2cab84da0793": {
          "model_module": "@jupyter-widgets/controls",
          "model_name": "HTMLModel",
          "model_module_version": "1.5.0",
          "state": {
            "_dom_classes": [],
            "_model_module": "@jupyter-widgets/controls",
            "_model_module_version": "1.5.0",
            "_model_name": "HTMLModel",
            "_view_count": null,
            "_view_module": "@jupyter-widgets/controls",
            "_view_module_version": "1.5.0",
            "_view_name": "HTMLView",
            "description": "",
            "description_tooltip": null,
            "layout": "IPY_MODEL_e0c9430fbf534ffb9e0c1cd9a262652d",
            "placeholder": "​",
            "style": "IPY_MODEL_8f994e5000984343adbe537bf4d00910",
            "value": " 119912/0 [00:33&lt;00:00, 3521.83 examples/s]"
          }
        },
        "a6e44a9af1c9446a9c8280b9f4e052e6": {
          "model_module": "@jupyter-widgets/base",
          "model_name": "LayoutModel",
          "model_module_version": "1.2.0",
          "state": {
            "_model_module": "@jupyter-widgets/base",
            "_model_module_version": "1.2.0",
            "_model_name": "LayoutModel",
            "_view_count": null,
            "_view_module": "@jupyter-widgets/base",
            "_view_module_version": "1.2.0",
            "_view_name": "LayoutView",
            "align_content": null,
            "align_items": null,
            "align_self": null,
            "border": null,
            "bottom": null,
            "display": null,
            "flex": null,
            "flex_flow": null,
            "grid_area": null,
            "grid_auto_columns": null,
            "grid_auto_flow": null,
            "grid_auto_rows": null,
            "grid_column": null,
            "grid_gap": null,
            "grid_row": null,
            "grid_template_areas": null,
            "grid_template_columns": null,
            "grid_template_rows": null,
            "height": null,
            "justify_content": null,
            "justify_items": null,
            "left": null,
            "margin": null,
            "max_height": null,
            "max_width": null,
            "min_height": null,
            "min_width": null,
            "object_fit": null,
            "object_position": null,
            "order": null,
            "overflow": null,
            "overflow_x": null,
            "overflow_y": null,
            "padding": null,
            "right": null,
            "top": null,
            "visibility": null,
            "width": null
          }
        },
        "096635f646c94b9fa8007a9428916af5": {
          "model_module": "@jupyter-widgets/base",
          "model_name": "LayoutModel",
          "model_module_version": "1.2.0",
          "state": {
            "_model_module": "@jupyter-widgets/base",
            "_model_module_version": "1.2.0",
            "_model_name": "LayoutModel",
            "_view_count": null,
            "_view_module": "@jupyter-widgets/base",
            "_view_module_version": "1.2.0",
            "_view_name": "LayoutView",
            "align_content": null,
            "align_items": null,
            "align_self": null,
            "border": null,
            "bottom": null,
            "display": null,
            "flex": null,
            "flex_flow": null,
            "grid_area": null,
            "grid_auto_columns": null,
            "grid_auto_flow": null,
            "grid_auto_rows": null,
            "grid_column": null,
            "grid_gap": null,
            "grid_row": null,
            "grid_template_areas": null,
            "grid_template_columns": null,
            "grid_template_rows": null,
            "height": null,
            "justify_content": null,
            "justify_items": null,
            "left": null,
            "margin": null,
            "max_height": null,
            "max_width": null,
            "min_height": null,
            "min_width": null,
            "object_fit": null,
            "object_position": null,
            "order": null,
            "overflow": null,
            "overflow_x": null,
            "overflow_y": null,
            "padding": null,
            "right": null,
            "top": null,
            "visibility": null,
            "width": null
          }
        },
        "f950c5611f6b4564be16e4cc5f0c284e": {
          "model_module": "@jupyter-widgets/controls",
          "model_name": "DescriptionStyleModel",
          "model_module_version": "1.5.0",
          "state": {
            "_model_module": "@jupyter-widgets/controls",
            "_model_module_version": "1.5.0",
            "_model_name": "DescriptionStyleModel",
            "_view_count": null,
            "_view_module": "@jupyter-widgets/base",
            "_view_module_version": "1.2.0",
            "_view_name": "StyleView",
            "description_width": ""
          }
        },
        "6260d95c712c431eac05dd54becc3248": {
          "model_module": "@jupyter-widgets/base",
          "model_name": "LayoutModel",
          "model_module_version": "1.2.0",
          "state": {
            "_model_module": "@jupyter-widgets/base",
            "_model_module_version": "1.2.0",
            "_model_name": "LayoutModel",
            "_view_count": null,
            "_view_module": "@jupyter-widgets/base",
            "_view_module_version": "1.2.0",
            "_view_name": "LayoutView",
            "align_content": null,
            "align_items": null,
            "align_self": null,
            "border": null,
            "bottom": null,
            "display": null,
            "flex": null,
            "flex_flow": null,
            "grid_area": null,
            "grid_auto_columns": null,
            "grid_auto_flow": null,
            "grid_auto_rows": null,
            "grid_column": null,
            "grid_gap": null,
            "grid_row": null,
            "grid_template_areas": null,
            "grid_template_columns": null,
            "grid_template_rows": null,
            "height": null,
            "justify_content": null,
            "justify_items": null,
            "left": null,
            "margin": null,
            "max_height": null,
            "max_width": null,
            "min_height": null,
            "min_width": null,
            "object_fit": null,
            "object_position": null,
            "order": null,
            "overflow": null,
            "overflow_x": null,
            "overflow_y": null,
            "padding": null,
            "right": null,
            "top": null,
            "visibility": null,
            "width": "20px"
          }
        },
        "b3939efed9c642b69b5bd731e12fca0b": {
          "model_module": "@jupyter-widgets/controls",
          "model_name": "ProgressStyleModel",
          "model_module_version": "1.5.0",
          "state": {
            "_model_module": "@jupyter-widgets/controls",
            "_model_module_version": "1.5.0",
            "_model_name": "ProgressStyleModel",
            "_view_count": null,
            "_view_module": "@jupyter-widgets/base",
            "_view_module_version": "1.2.0",
            "_view_name": "StyleView",
            "bar_color": null,
            "description_width": ""
          }
        },
        "e0c9430fbf534ffb9e0c1cd9a262652d": {
          "model_module": "@jupyter-widgets/base",
          "model_name": "LayoutModel",
          "model_module_version": "1.2.0",
          "state": {
            "_model_module": "@jupyter-widgets/base",
            "_model_module_version": "1.2.0",
            "_model_name": "LayoutModel",
            "_view_count": null,
            "_view_module": "@jupyter-widgets/base",
            "_view_module_version": "1.2.0",
            "_view_name": "LayoutView",
            "align_content": null,
            "align_items": null,
            "align_self": null,
            "border": null,
            "bottom": null,
            "display": null,
            "flex": null,
            "flex_flow": null,
            "grid_area": null,
            "grid_auto_columns": null,
            "grid_auto_flow": null,
            "grid_auto_rows": null,
            "grid_column": null,
            "grid_gap": null,
            "grid_row": null,
            "grid_template_areas": null,
            "grid_template_columns": null,
            "grid_template_rows": null,
            "height": null,
            "justify_content": null,
            "justify_items": null,
            "left": null,
            "margin": null,
            "max_height": null,
            "max_width": null,
            "min_height": null,
            "min_width": null,
            "object_fit": null,
            "object_position": null,
            "order": null,
            "overflow": null,
            "overflow_x": null,
            "overflow_y": null,
            "padding": null,
            "right": null,
            "top": null,
            "visibility": null,
            "width": null
          }
        },
        "8f994e5000984343adbe537bf4d00910": {
          "model_module": "@jupyter-widgets/controls",
          "model_name": "DescriptionStyleModel",
          "model_module_version": "1.5.0",
          "state": {
            "_model_module": "@jupyter-widgets/controls",
            "_model_module_version": "1.5.0",
            "_model_name": "DescriptionStyleModel",
            "_view_count": null,
            "_view_module": "@jupyter-widgets/base",
            "_view_module_version": "1.2.0",
            "_view_name": "StyleView",
            "description_width": ""
          }
        },
        "4f86fe9010aa4deea3313f809c4443b2": {
          "model_module": "@jupyter-widgets/controls",
          "model_name": "HBoxModel",
          "model_module_version": "1.5.0",
          "state": {
            "_dom_classes": [],
            "_model_module": "@jupyter-widgets/controls",
            "_model_module_version": "1.5.0",
            "_model_name": "HBoxModel",
            "_view_count": null,
            "_view_module": "@jupyter-widgets/controls",
            "_view_module_version": "1.5.0",
            "_view_name": "HBoxView",
            "box_style": "",
            "children": [
              "IPY_MODEL_6c6ba754dc92432ea6685959e36bd329",
              "IPY_MODEL_d8cab84962b14f89a9e264888658cc19",
              "IPY_MODEL_cf4df8d606b346fabb4b65c89c3f870b"
            ],
            "layout": "IPY_MODEL_540e871040814410bf7b62b5e2de0ea1"
          }
        },
        "6c6ba754dc92432ea6685959e36bd329": {
          "model_module": "@jupyter-widgets/controls",
          "model_name": "HTMLModel",
          "model_module_version": "1.5.0",
          "state": {
            "_dom_classes": [],
            "_model_module": "@jupyter-widgets/controls",
            "_model_module_version": "1.5.0",
            "_model_name": "HTMLModel",
            "_view_count": null,
            "_view_module": "@jupyter-widgets/controls",
            "_view_module_version": "1.5.0",
            "_view_name": "HTMLView",
            "description": "",
            "description_tooltip": null,
            "layout": "IPY_MODEL_86ab394451a64350afb60947ccce612c",
            "placeholder": "​",
            "style": "IPY_MODEL_59c22fe34db74cda83561b3ccdc44a27",
            "value": "100%"
          }
        },
        "d8cab84962b14f89a9e264888658cc19": {
          "model_module": "@jupyter-widgets/controls",
          "model_name": "FloatProgressModel",
          "model_module_version": "1.5.0",
          "state": {
            "_dom_classes": [],
            "_model_module": "@jupyter-widgets/controls",
            "_model_module_version": "1.5.0",
            "_model_name": "FloatProgressModel",
            "_view_count": null,
            "_view_module": "@jupyter-widgets/controls",
            "_view_module_version": "1.5.0",
            "_view_name": "ProgressView",
            "bar_style": "danger",
            "description": "",
            "description_tooltip": null,
            "layout": "IPY_MODEL_36f427453d404a2cb19cf3b4436293fb",
            "max": 120000,
            "min": 0,
            "orientation": "horizontal",
            "style": "IPY_MODEL_d13c534e33074c978b52d2753752b98e",
            "value": 119999
          }
        },
        "cf4df8d606b346fabb4b65c89c3f870b": {
          "model_module": "@jupyter-widgets/controls",
          "model_name": "HTMLModel",
          "model_module_version": "1.5.0",
          "state": {
            "_dom_classes": [],
            "_model_module": "@jupyter-widgets/controls",
            "_model_module_version": "1.5.0",
            "_model_name": "HTMLModel",
            "_view_count": null,
            "_view_module": "@jupyter-widgets/controls",
            "_view_module_version": "1.5.0",
            "_view_name": "HTMLView",
            "description": "",
            "description_tooltip": null,
            "layout": "IPY_MODEL_c91f2fcc827d4f7f842c9610a85dc312",
            "placeholder": "​",
            "style": "IPY_MODEL_b98c9e1e8fad4e23a9d9c4030fb796a7",
            "value": " 119999/120000 [00:00&lt;00:00, 288469.93 examples/s]"
          }
        },
        "540e871040814410bf7b62b5e2de0ea1": {
          "model_module": "@jupyter-widgets/base",
          "model_name": "LayoutModel",
          "model_module_version": "1.2.0",
          "state": {
            "_model_module": "@jupyter-widgets/base",
            "_model_module_version": "1.2.0",
            "_model_name": "LayoutModel",
            "_view_count": null,
            "_view_module": "@jupyter-widgets/base",
            "_view_module_version": "1.2.0",
            "_view_name": "LayoutView",
            "align_content": null,
            "align_items": null,
            "align_self": null,
            "border": null,
            "bottom": null,
            "display": null,
            "flex": null,
            "flex_flow": null,
            "grid_area": null,
            "grid_auto_columns": null,
            "grid_auto_flow": null,
            "grid_auto_rows": null,
            "grid_column": null,
            "grid_gap": null,
            "grid_row": null,
            "grid_template_areas": null,
            "grid_template_columns": null,
            "grid_template_rows": null,
            "height": null,
            "justify_content": null,
            "justify_items": null,
            "left": null,
            "margin": null,
            "max_height": null,
            "max_width": null,
            "min_height": null,
            "min_width": null,
            "object_fit": null,
            "object_position": null,
            "order": null,
            "overflow": null,
            "overflow_x": null,
            "overflow_y": null,
            "padding": null,
            "right": null,
            "top": null,
            "visibility": null,
            "width": null
          }
        },
        "86ab394451a64350afb60947ccce612c": {
          "model_module": "@jupyter-widgets/base",
          "model_name": "LayoutModel",
          "model_module_version": "1.2.0",
          "state": {
            "_model_module": "@jupyter-widgets/base",
            "_model_module_version": "1.2.0",
            "_model_name": "LayoutModel",
            "_view_count": null,
            "_view_module": "@jupyter-widgets/base",
            "_view_module_version": "1.2.0",
            "_view_name": "LayoutView",
            "align_content": null,
            "align_items": null,
            "align_self": null,
            "border": null,
            "bottom": null,
            "display": null,
            "flex": null,
            "flex_flow": null,
            "grid_area": null,
            "grid_auto_columns": null,
            "grid_auto_flow": null,
            "grid_auto_rows": null,
            "grid_column": null,
            "grid_gap": null,
            "grid_row": null,
            "grid_template_areas": null,
            "grid_template_columns": null,
            "grid_template_rows": null,
            "height": null,
            "justify_content": null,
            "justify_items": null,
            "left": null,
            "margin": null,
            "max_height": null,
            "max_width": null,
            "min_height": null,
            "min_width": null,
            "object_fit": null,
            "object_position": null,
            "order": null,
            "overflow": null,
            "overflow_x": null,
            "overflow_y": null,
            "padding": null,
            "right": null,
            "top": null,
            "visibility": null,
            "width": null
          }
        },
        "59c22fe34db74cda83561b3ccdc44a27": {
          "model_module": "@jupyter-widgets/controls",
          "model_name": "DescriptionStyleModel",
          "model_module_version": "1.5.0",
          "state": {
            "_model_module": "@jupyter-widgets/controls",
            "_model_module_version": "1.5.0",
            "_model_name": "DescriptionStyleModel",
            "_view_count": null,
            "_view_module": "@jupyter-widgets/base",
            "_view_module_version": "1.2.0",
            "_view_name": "StyleView",
            "description_width": ""
          }
        },
        "36f427453d404a2cb19cf3b4436293fb": {
          "model_module": "@jupyter-widgets/base",
          "model_name": "LayoutModel",
          "model_module_version": "1.2.0",
          "state": {
            "_model_module": "@jupyter-widgets/base",
            "_model_module_version": "1.2.0",
            "_model_name": "LayoutModel",
            "_view_count": null,
            "_view_module": "@jupyter-widgets/base",
            "_view_module_version": "1.2.0",
            "_view_name": "LayoutView",
            "align_content": null,
            "align_items": null,
            "align_self": null,
            "border": null,
            "bottom": null,
            "display": null,
            "flex": null,
            "flex_flow": null,
            "grid_area": null,
            "grid_auto_columns": null,
            "grid_auto_flow": null,
            "grid_auto_rows": null,
            "grid_column": null,
            "grid_gap": null,
            "grid_row": null,
            "grid_template_areas": null,
            "grid_template_columns": null,
            "grid_template_rows": null,
            "height": null,
            "justify_content": null,
            "justify_items": null,
            "left": null,
            "margin": null,
            "max_height": null,
            "max_width": null,
            "min_height": null,
            "min_width": null,
            "object_fit": null,
            "object_position": null,
            "order": null,
            "overflow": null,
            "overflow_x": null,
            "overflow_y": null,
            "padding": null,
            "right": null,
            "top": null,
            "visibility": null,
            "width": null
          }
        },
        "d13c534e33074c978b52d2753752b98e": {
          "model_module": "@jupyter-widgets/controls",
          "model_name": "ProgressStyleModel",
          "model_module_version": "1.5.0",
          "state": {
            "_model_module": "@jupyter-widgets/controls",
            "_model_module_version": "1.5.0",
            "_model_name": "ProgressStyleModel",
            "_view_count": null,
            "_view_module": "@jupyter-widgets/base",
            "_view_module_version": "1.2.0",
            "_view_name": "StyleView",
            "bar_color": null,
            "description_width": ""
          }
        },
        "c91f2fcc827d4f7f842c9610a85dc312": {
          "model_module": "@jupyter-widgets/base",
          "model_name": "LayoutModel",
          "model_module_version": "1.2.0",
          "state": {
            "_model_module": "@jupyter-widgets/base",
            "_model_module_version": "1.2.0",
            "_model_name": "LayoutModel",
            "_view_count": null,
            "_view_module": "@jupyter-widgets/base",
            "_view_module_version": "1.2.0",
            "_view_name": "LayoutView",
            "align_content": null,
            "align_items": null,
            "align_self": null,
            "border": null,
            "bottom": null,
            "display": null,
            "flex": null,
            "flex_flow": null,
            "grid_area": null,
            "grid_auto_columns": null,
            "grid_auto_flow": null,
            "grid_auto_rows": null,
            "grid_column": null,
            "grid_gap": null,
            "grid_row": null,
            "grid_template_areas": null,
            "grid_template_columns": null,
            "grid_template_rows": null,
            "height": null,
            "justify_content": null,
            "justify_items": null,
            "left": null,
            "margin": null,
            "max_height": null,
            "max_width": null,
            "min_height": null,
            "min_width": null,
            "object_fit": null,
            "object_position": null,
            "order": null,
            "overflow": null,
            "overflow_x": null,
            "overflow_y": null,
            "padding": null,
            "right": null,
            "top": null,
            "visibility": null,
            "width": null
          }
        },
        "b98c9e1e8fad4e23a9d9c4030fb796a7": {
          "model_module": "@jupyter-widgets/controls",
          "model_name": "DescriptionStyleModel",
          "model_module_version": "1.5.0",
          "state": {
            "_model_module": "@jupyter-widgets/controls",
            "_model_module_version": "1.5.0",
            "_model_name": "DescriptionStyleModel",
            "_view_count": null,
            "_view_module": "@jupyter-widgets/base",
            "_view_module_version": "1.2.0",
            "_view_name": "StyleView",
            "description_width": ""
          }
        },
        "c943cb62f0284f2c96a1b89ac69237c8": {
          "model_module": "@jupyter-widgets/controls",
          "model_name": "HBoxModel",
          "model_module_version": "1.5.0",
          "state": {
            "_dom_classes": [],
            "_model_module": "@jupyter-widgets/controls",
            "_model_module_version": "1.5.0",
            "_model_name": "HBoxModel",
            "_view_count": null,
            "_view_module": "@jupyter-widgets/controls",
            "_view_module_version": "1.5.0",
            "_view_name": "HBoxView",
            "box_style": "",
            "children": [
              "IPY_MODEL_899ac8ebffb340398377022d8622a92a",
              "IPY_MODEL_d15f2bfd9fe540a6a5e23f37ae32ae7f",
              "IPY_MODEL_f258f55201794071aaa1b5812dcd33ab"
            ],
            "layout": "IPY_MODEL_aacfb0d1d8c54796be350c851b2157f9"
          }
        },
        "899ac8ebffb340398377022d8622a92a": {
          "model_module": "@jupyter-widgets/controls",
          "model_name": "HTMLModel",
          "model_module_version": "1.5.0",
          "state": {
            "_dom_classes": [],
            "_model_module": "@jupyter-widgets/controls",
            "_model_module_version": "1.5.0",
            "_model_name": "HTMLModel",
            "_view_count": null,
            "_view_module": "@jupyter-widgets/controls",
            "_view_module_version": "1.5.0",
            "_view_name": "HTMLView",
            "description": "",
            "description_tooltip": null,
            "layout": "IPY_MODEL_f0b374ed8ec140da85b81640dea92f64",
            "placeholder": "​",
            "style": "IPY_MODEL_46edfe391c96424894514488d272eba0",
            "value": ""
          }
        },
        "d15f2bfd9fe540a6a5e23f37ae32ae7f": {
          "model_module": "@jupyter-widgets/controls",
          "model_name": "FloatProgressModel",
          "model_module_version": "1.5.0",
          "state": {
            "_dom_classes": [],
            "_model_module": "@jupyter-widgets/controls",
            "_model_module_version": "1.5.0",
            "_model_name": "FloatProgressModel",
            "_view_count": null,
            "_view_module": "@jupyter-widgets/controls",
            "_view_module_version": "1.5.0",
            "_view_name": "ProgressView",
            "bar_style": "info",
            "description": "",
            "description_tooltip": null,
            "layout": "IPY_MODEL_b7e51aa6a52849edaaf12375ec9bf7fe",
            "max": 1,
            "min": 0,
            "orientation": "horizontal",
            "style": "IPY_MODEL_1cbad580180a4daca509356e7957f5c7",
            "value": 1
          }
        },
        "f258f55201794071aaa1b5812dcd33ab": {
          "model_module": "@jupyter-widgets/controls",
          "model_name": "HTMLModel",
          "model_module_version": "1.5.0",
          "state": {
            "_dom_classes": [],
            "_model_module": "@jupyter-widgets/controls",
            "_model_module_version": "1.5.0",
            "_model_name": "HTMLModel",
            "_view_count": null,
            "_view_module": "@jupyter-widgets/controls",
            "_view_module_version": "1.5.0",
            "_view_name": "HTMLView",
            "description": "",
            "description_tooltip": null,
            "layout": "IPY_MODEL_946ac9cdbdb34b8f8f5ebea41a25e632",
            "placeholder": "​",
            "style": "IPY_MODEL_38bd9ed9316c4e8daaca528e2c770b9c",
            "value": " 7360/0 [00:02&lt;00:00, 4310.80 examples/s]"
          }
        },
        "aacfb0d1d8c54796be350c851b2157f9": {
          "model_module": "@jupyter-widgets/base",
          "model_name": "LayoutModel",
          "model_module_version": "1.2.0",
          "state": {
            "_model_module": "@jupyter-widgets/base",
            "_model_module_version": "1.2.0",
            "_model_name": "LayoutModel",
            "_view_count": null,
            "_view_module": "@jupyter-widgets/base",
            "_view_module_version": "1.2.0",
            "_view_name": "LayoutView",
            "align_content": null,
            "align_items": null,
            "align_self": null,
            "border": null,
            "bottom": null,
            "display": null,
            "flex": null,
            "flex_flow": null,
            "grid_area": null,
            "grid_auto_columns": null,
            "grid_auto_flow": null,
            "grid_auto_rows": null,
            "grid_column": null,
            "grid_gap": null,
            "grid_row": null,
            "grid_template_areas": null,
            "grid_template_columns": null,
            "grid_template_rows": null,
            "height": null,
            "justify_content": null,
            "justify_items": null,
            "left": null,
            "margin": null,
            "max_height": null,
            "max_width": null,
            "min_height": null,
            "min_width": null,
            "object_fit": null,
            "object_position": null,
            "order": null,
            "overflow": null,
            "overflow_x": null,
            "overflow_y": null,
            "padding": null,
            "right": null,
            "top": null,
            "visibility": null,
            "width": null
          }
        },
        "f0b374ed8ec140da85b81640dea92f64": {
          "model_module": "@jupyter-widgets/base",
          "model_name": "LayoutModel",
          "model_module_version": "1.2.0",
          "state": {
            "_model_module": "@jupyter-widgets/base",
            "_model_module_version": "1.2.0",
            "_model_name": "LayoutModel",
            "_view_count": null,
            "_view_module": "@jupyter-widgets/base",
            "_view_module_version": "1.2.0",
            "_view_name": "LayoutView",
            "align_content": null,
            "align_items": null,
            "align_self": null,
            "border": null,
            "bottom": null,
            "display": null,
            "flex": null,
            "flex_flow": null,
            "grid_area": null,
            "grid_auto_columns": null,
            "grid_auto_flow": null,
            "grid_auto_rows": null,
            "grid_column": null,
            "grid_gap": null,
            "grid_row": null,
            "grid_template_areas": null,
            "grid_template_columns": null,
            "grid_template_rows": null,
            "height": null,
            "justify_content": null,
            "justify_items": null,
            "left": null,
            "margin": null,
            "max_height": null,
            "max_width": null,
            "min_height": null,
            "min_width": null,
            "object_fit": null,
            "object_position": null,
            "order": null,
            "overflow": null,
            "overflow_x": null,
            "overflow_y": null,
            "padding": null,
            "right": null,
            "top": null,
            "visibility": null,
            "width": null
          }
        },
        "46edfe391c96424894514488d272eba0": {
          "model_module": "@jupyter-widgets/controls",
          "model_name": "DescriptionStyleModel",
          "model_module_version": "1.5.0",
          "state": {
            "_model_module": "@jupyter-widgets/controls",
            "_model_module_version": "1.5.0",
            "_model_name": "DescriptionStyleModel",
            "_view_count": null,
            "_view_module": "@jupyter-widgets/base",
            "_view_module_version": "1.2.0",
            "_view_name": "StyleView",
            "description_width": ""
          }
        },
        "b7e51aa6a52849edaaf12375ec9bf7fe": {
          "model_module": "@jupyter-widgets/base",
          "model_name": "LayoutModel",
          "model_module_version": "1.2.0",
          "state": {
            "_model_module": "@jupyter-widgets/base",
            "_model_module_version": "1.2.0",
            "_model_name": "LayoutModel",
            "_view_count": null,
            "_view_module": "@jupyter-widgets/base",
            "_view_module_version": "1.2.0",
            "_view_name": "LayoutView",
            "align_content": null,
            "align_items": null,
            "align_self": null,
            "border": null,
            "bottom": null,
            "display": null,
            "flex": null,
            "flex_flow": null,
            "grid_area": null,
            "grid_auto_columns": null,
            "grid_auto_flow": null,
            "grid_auto_rows": null,
            "grid_column": null,
            "grid_gap": null,
            "grid_row": null,
            "grid_template_areas": null,
            "grid_template_columns": null,
            "grid_template_rows": null,
            "height": null,
            "justify_content": null,
            "justify_items": null,
            "left": null,
            "margin": null,
            "max_height": null,
            "max_width": null,
            "min_height": null,
            "min_width": null,
            "object_fit": null,
            "object_position": null,
            "order": null,
            "overflow": null,
            "overflow_x": null,
            "overflow_y": null,
            "padding": null,
            "right": null,
            "top": null,
            "visibility": null,
            "width": "20px"
          }
        },
        "1cbad580180a4daca509356e7957f5c7": {
          "model_module": "@jupyter-widgets/controls",
          "model_name": "ProgressStyleModel",
          "model_module_version": "1.5.0",
          "state": {
            "_model_module": "@jupyter-widgets/controls",
            "_model_module_version": "1.5.0",
            "_model_name": "ProgressStyleModel",
            "_view_count": null,
            "_view_module": "@jupyter-widgets/base",
            "_view_module_version": "1.2.0",
            "_view_name": "StyleView",
            "bar_color": null,
            "description_width": ""
          }
        },
        "946ac9cdbdb34b8f8f5ebea41a25e632": {
          "model_module": "@jupyter-widgets/base",
          "model_name": "LayoutModel",
          "model_module_version": "1.2.0",
          "state": {
            "_model_module": "@jupyter-widgets/base",
            "_model_module_version": "1.2.0",
            "_model_name": "LayoutModel",
            "_view_count": null,
            "_view_module": "@jupyter-widgets/base",
            "_view_module_version": "1.2.0",
            "_view_name": "LayoutView",
            "align_content": null,
            "align_items": null,
            "align_self": null,
            "border": null,
            "bottom": null,
            "display": null,
            "flex": null,
            "flex_flow": null,
            "grid_area": null,
            "grid_auto_columns": null,
            "grid_auto_flow": null,
            "grid_auto_rows": null,
            "grid_column": null,
            "grid_gap": null,
            "grid_row": null,
            "grid_template_areas": null,
            "grid_template_columns": null,
            "grid_template_rows": null,
            "height": null,
            "justify_content": null,
            "justify_items": null,
            "left": null,
            "margin": null,
            "max_height": null,
            "max_width": null,
            "min_height": null,
            "min_width": null,
            "object_fit": null,
            "object_position": null,
            "order": null,
            "overflow": null,
            "overflow_x": null,
            "overflow_y": null,
            "padding": null,
            "right": null,
            "top": null,
            "visibility": null,
            "width": null
          }
        },
        "38bd9ed9316c4e8daaca528e2c770b9c": {
          "model_module": "@jupyter-widgets/controls",
          "model_name": "DescriptionStyleModel",
          "model_module_version": "1.5.0",
          "state": {
            "_model_module": "@jupyter-widgets/controls",
            "_model_module_version": "1.5.0",
            "_model_name": "DescriptionStyleModel",
            "_view_count": null,
            "_view_module": "@jupyter-widgets/base",
            "_view_module_version": "1.2.0",
            "_view_name": "StyleView",
            "description_width": ""
          }
        },
        "bd7c26cae4e044758e214e8170427a50": {
          "model_module": "@jupyter-widgets/controls",
          "model_name": "HBoxModel",
          "model_module_version": "1.5.0",
          "state": {
            "_dom_classes": [],
            "_model_module": "@jupyter-widgets/controls",
            "_model_module_version": "1.5.0",
            "_model_name": "HBoxModel",
            "_view_count": null,
            "_view_module": "@jupyter-widgets/controls",
            "_view_module_version": "1.5.0",
            "_view_name": "HBoxView",
            "box_style": "",
            "children": [
              "IPY_MODEL_e23d4c4c7c0046f98d880a40c163f6db",
              "IPY_MODEL_a7bf028b4d394fa883b21b6a21ddbc8c",
              "IPY_MODEL_c07503a5db5f43819d7b2bba16f41a9b"
            ],
            "layout": "IPY_MODEL_5d720f3230cc4abdac30002d7d512224"
          }
        },
        "e23d4c4c7c0046f98d880a40c163f6db": {
          "model_module": "@jupyter-widgets/controls",
          "model_name": "HTMLModel",
          "model_module_version": "1.5.0",
          "state": {
            "_dom_classes": [],
            "_model_module": "@jupyter-widgets/controls",
            "_model_module_version": "1.5.0",
            "_model_name": "HTMLModel",
            "_view_count": null,
            "_view_module": "@jupyter-widgets/controls",
            "_view_module_version": "1.5.0",
            "_view_name": "HTMLView",
            "description": "",
            "description_tooltip": null,
            "layout": "IPY_MODEL_7725167486d24a1bb98876f4f343c2b7",
            "placeholder": "​",
            "style": "IPY_MODEL_00164c015e2043de9df1f0a3ad40d9b7",
            "value": "100%"
          }
        },
        "a7bf028b4d394fa883b21b6a21ddbc8c": {
          "model_module": "@jupyter-widgets/controls",
          "model_name": "FloatProgressModel",
          "model_module_version": "1.5.0",
          "state": {
            "_dom_classes": [],
            "_model_module": "@jupyter-widgets/controls",
            "_model_module_version": "1.5.0",
            "_model_name": "FloatProgressModel",
            "_view_count": null,
            "_view_module": "@jupyter-widgets/controls",
            "_view_module_version": "1.5.0",
            "_view_name": "ProgressView",
            "bar_style": "danger",
            "description": "",
            "description_tooltip": null,
            "layout": "IPY_MODEL_fd0dfd2979c5489fbfc0d8cf5ab6e64b",
            "max": 7600,
            "min": 0,
            "orientation": "horizontal",
            "style": "IPY_MODEL_1ff0a3fedefe48a698fd2ba474f21fae",
            "value": 7599
          }
        },
        "c07503a5db5f43819d7b2bba16f41a9b": {
          "model_module": "@jupyter-widgets/controls",
          "model_name": "HTMLModel",
          "model_module_version": "1.5.0",
          "state": {
            "_dom_classes": [],
            "_model_module": "@jupyter-widgets/controls",
            "_model_module_version": "1.5.0",
            "_model_name": "HTMLModel",
            "_view_count": null,
            "_view_module": "@jupyter-widgets/controls",
            "_view_module_version": "1.5.0",
            "_view_name": "HTMLView",
            "description": "",
            "description_tooltip": null,
            "layout": "IPY_MODEL_bbf3be6620834a12bc831fadda75e9e9",
            "placeholder": "​",
            "style": "IPY_MODEL_e198a2f9adf54de49243a88cf7fca374",
            "value": " 7599/7600 [00:00&lt;00:00, 97680.96 examples/s]"
          }
        },
        "5d720f3230cc4abdac30002d7d512224": {
          "model_module": "@jupyter-widgets/base",
          "model_name": "LayoutModel",
          "model_module_version": "1.2.0",
          "state": {
            "_model_module": "@jupyter-widgets/base",
            "_model_module_version": "1.2.0",
            "_model_name": "LayoutModel",
            "_view_count": null,
            "_view_module": "@jupyter-widgets/base",
            "_view_module_version": "1.2.0",
            "_view_name": "LayoutView",
            "align_content": null,
            "align_items": null,
            "align_self": null,
            "border": null,
            "bottom": null,
            "display": null,
            "flex": null,
            "flex_flow": null,
            "grid_area": null,
            "grid_auto_columns": null,
            "grid_auto_flow": null,
            "grid_auto_rows": null,
            "grid_column": null,
            "grid_gap": null,
            "grid_row": null,
            "grid_template_areas": null,
            "grid_template_columns": null,
            "grid_template_rows": null,
            "height": null,
            "justify_content": null,
            "justify_items": null,
            "left": null,
            "margin": null,
            "max_height": null,
            "max_width": null,
            "min_height": null,
            "min_width": null,
            "object_fit": null,
            "object_position": null,
            "order": null,
            "overflow": null,
            "overflow_x": null,
            "overflow_y": null,
            "padding": null,
            "right": null,
            "top": null,
            "visibility": null,
            "width": null
          }
        },
        "7725167486d24a1bb98876f4f343c2b7": {
          "model_module": "@jupyter-widgets/base",
          "model_name": "LayoutModel",
          "model_module_version": "1.2.0",
          "state": {
            "_model_module": "@jupyter-widgets/base",
            "_model_module_version": "1.2.0",
            "_model_name": "LayoutModel",
            "_view_count": null,
            "_view_module": "@jupyter-widgets/base",
            "_view_module_version": "1.2.0",
            "_view_name": "LayoutView",
            "align_content": null,
            "align_items": null,
            "align_self": null,
            "border": null,
            "bottom": null,
            "display": null,
            "flex": null,
            "flex_flow": null,
            "grid_area": null,
            "grid_auto_columns": null,
            "grid_auto_flow": null,
            "grid_auto_rows": null,
            "grid_column": null,
            "grid_gap": null,
            "grid_row": null,
            "grid_template_areas": null,
            "grid_template_columns": null,
            "grid_template_rows": null,
            "height": null,
            "justify_content": null,
            "justify_items": null,
            "left": null,
            "margin": null,
            "max_height": null,
            "max_width": null,
            "min_height": null,
            "min_width": null,
            "object_fit": null,
            "object_position": null,
            "order": null,
            "overflow": null,
            "overflow_x": null,
            "overflow_y": null,
            "padding": null,
            "right": null,
            "top": null,
            "visibility": null,
            "width": null
          }
        },
        "00164c015e2043de9df1f0a3ad40d9b7": {
          "model_module": "@jupyter-widgets/controls",
          "model_name": "DescriptionStyleModel",
          "model_module_version": "1.5.0",
          "state": {
            "_model_module": "@jupyter-widgets/controls",
            "_model_module_version": "1.5.0",
            "_model_name": "DescriptionStyleModel",
            "_view_count": null,
            "_view_module": "@jupyter-widgets/base",
            "_view_module_version": "1.2.0",
            "_view_name": "StyleView",
            "description_width": ""
          }
        },
        "fd0dfd2979c5489fbfc0d8cf5ab6e64b": {
          "model_module": "@jupyter-widgets/base",
          "model_name": "LayoutModel",
          "model_module_version": "1.2.0",
          "state": {
            "_model_module": "@jupyter-widgets/base",
            "_model_module_version": "1.2.0",
            "_model_name": "LayoutModel",
            "_view_count": null,
            "_view_module": "@jupyter-widgets/base",
            "_view_module_version": "1.2.0",
            "_view_name": "LayoutView",
            "align_content": null,
            "align_items": null,
            "align_self": null,
            "border": null,
            "bottom": null,
            "display": null,
            "flex": null,
            "flex_flow": null,
            "grid_area": null,
            "grid_auto_columns": null,
            "grid_auto_flow": null,
            "grid_auto_rows": null,
            "grid_column": null,
            "grid_gap": null,
            "grid_row": null,
            "grid_template_areas": null,
            "grid_template_columns": null,
            "grid_template_rows": null,
            "height": null,
            "justify_content": null,
            "justify_items": null,
            "left": null,
            "margin": null,
            "max_height": null,
            "max_width": null,
            "min_height": null,
            "min_width": null,
            "object_fit": null,
            "object_position": null,
            "order": null,
            "overflow": null,
            "overflow_x": null,
            "overflow_y": null,
            "padding": null,
            "right": null,
            "top": null,
            "visibility": null,
            "width": null
          }
        },
        "1ff0a3fedefe48a698fd2ba474f21fae": {
          "model_module": "@jupyter-widgets/controls",
          "model_name": "ProgressStyleModel",
          "model_module_version": "1.5.0",
          "state": {
            "_model_module": "@jupyter-widgets/controls",
            "_model_module_version": "1.5.0",
            "_model_name": "ProgressStyleModel",
            "_view_count": null,
            "_view_module": "@jupyter-widgets/base",
            "_view_module_version": "1.2.0",
            "_view_name": "StyleView",
            "bar_color": null,
            "description_width": ""
          }
        },
        "bbf3be6620834a12bc831fadda75e9e9": {
          "model_module": "@jupyter-widgets/base",
          "model_name": "LayoutModel",
          "model_module_version": "1.2.0",
          "state": {
            "_model_module": "@jupyter-widgets/base",
            "_model_module_version": "1.2.0",
            "_model_name": "LayoutModel",
            "_view_count": null,
            "_view_module": "@jupyter-widgets/base",
            "_view_module_version": "1.2.0",
            "_view_name": "LayoutView",
            "align_content": null,
            "align_items": null,
            "align_self": null,
            "border": null,
            "bottom": null,
            "display": null,
            "flex": null,
            "flex_flow": null,
            "grid_area": null,
            "grid_auto_columns": null,
            "grid_auto_flow": null,
            "grid_auto_rows": null,
            "grid_column": null,
            "grid_gap": null,
            "grid_row": null,
            "grid_template_areas": null,
            "grid_template_columns": null,
            "grid_template_rows": null,
            "height": null,
            "justify_content": null,
            "justify_items": null,
            "left": null,
            "margin": null,
            "max_height": null,
            "max_width": null,
            "min_height": null,
            "min_width": null,
            "object_fit": null,
            "object_position": null,
            "order": null,
            "overflow": null,
            "overflow_x": null,
            "overflow_y": null,
            "padding": null,
            "right": null,
            "top": null,
            "visibility": null,
            "width": null
          }
        },
        "e198a2f9adf54de49243a88cf7fca374": {
          "model_module": "@jupyter-widgets/controls",
          "model_name": "DescriptionStyleModel",
          "model_module_version": "1.5.0",
          "state": {
            "_model_module": "@jupyter-widgets/controls",
            "_model_module_version": "1.5.0",
            "_model_name": "DescriptionStyleModel",
            "_view_count": null,
            "_view_module": "@jupyter-widgets/base",
            "_view_module_version": "1.2.0",
            "_view_name": "StyleView",
            "description_width": ""
          }
        }
      }
    }
  },
  "cells": [
    {
      "cell_type": "markdown",
      "source": [
        "#**Deep Learning Homework 2: *Optimize and Train Deep Models***\n",
        "### MSc Computer Science, Data Science, Cybersecurity @UniPD\n",
        "### 2nd semester - 6 ECTS\n",
        "### Prof. Nicolò Navarin & Prof. Alessandro Sperduti\n",
        "---"
      ],
      "metadata": {
        "id": "raUKrVPW0SO1"
      }
    },
    {
      "cell_type": "markdown",
      "metadata": {
        "id": "QUc9frYnVBI_"
      },
      "source": [
        "In this homework, we will explore how to develop a simple Deep Neural Network for a classification problem. We will explore two common libraries: TensorFlow and Keras.\n",
        "Then we will explore how to face a well known problem that is common to encounter during the training phase: the Overfitting.\n",
        "Finally, we will study how to perform a fair model selection.\n",
        "Hint: Before starting the exercise take a look at how Tensorflow and Keras are designed.  https://keras.io/"
      ]
    },
    {
      "cell_type": "markdown",
      "metadata": {
        "id": "e-Nc7mFSVEiU"
      },
      "source": [
        "##Exercise 2.1: Text Classficiation with Tensorflow and Keras\n",
        "\n",
        "In this first exercise we will develop a 3 layers Neural Network to perfrom classification.\n",
        "\n",
        "Let's start importing the libraries we will need and setting a couple of environmental variables.\n"
      ]
    },
    {
      "cell_type": "code",
      "metadata": {
        "id": "bWn9FzneVqJo"
      },
      "source": [
        "import matplotlib as mpl\n",
        "import matplotlib.pyplot as plt\n",
        "import numpy as np\n",
        "import os\n",
        "import pandas as pd\n",
        "import sklearn\n",
        "import sys\n",
        "import tensorflow as tf\n",
        "from tensorflow import keras  # tf.keras\n",
        "import tensorflow_datasets as tfds\n",
        "import time\n",
        "\n",
        "import logging\n",
        "logging.disable(logging.WARNING)\n",
        "os.environ[\"TF_CPP_MIN_LOG_LEVEL\"] = \"3\" \n",
        "\n",
        "tf.random.set_seed(42)\n",
        "# os.environ['TF_DETERMINISTIC_OPS']='1'"
      ],
      "execution_count": 1,
      "outputs": []
    },
    {
      "cell_type": "markdown",
      "metadata": {
        "id": "LT2HMYDEXcx0"
      },
      "source": [
        "### Load Data: AG News Subset\n",
        "\n",
        "In this HW, we use the AG News Subset that is available in Tensorflow Dataset. The AG's news topic classification dataset is constructed by choosing the 4 largest topic classes from a larger news corups. The total number of training samples is 120,000 and testing 7,600. Each class contains 30,000 training samples and 1,900 testing samples. Each sample contains both the title and an excerpt of the article, but in this exercise we will use only the excerpt as input.\n",
        "\n",
        "We will split the training set into two 90%-10% splits in order to have a validation set."
      ]
    },
    {
      "cell_type": "code",
      "source": [
        "### NOTE ### \n",
        "# running this cell might yield download-related errors.\n",
        "# just repeating the execution a couple of times should solve the error.\n",
        "\n",
        "train_ds, valid_ds, test_ds = tfds.load('ag_news_subset',\n",
        "                                        as_supervised=True, # return a set of (text, label) tuples \n",
        "                                        split=['train[:90%]', 'train[-10%:]', 'test'],\n",
        "                                        batch_size=-1)  \n",
        "                                        # ^ using batch_size=-1 returns Tensors instead of Dataset objects"
      ],
      "metadata": {
        "id": "d8xZASzs26zD",
        "colab": {
          "base_uri": "https://localhost:8080/",
          "height": 299,
          "referenced_widgets": [
            "d328231dc7284a4bab3eb1760b93c193",
            "a105bcaa87df40e9b0d8549dee793b9a",
            "f52c9861315049db8bf6608424737d5c",
            "5c419f28a66048c496d4cd800b16d8d0",
            "4eab719fbea140cab99aefd27b98a107",
            "16979325255e4dda9bda656d4cbc0039",
            "97df293ba6754289bcec36f7f1edee4f",
            "d0d36538ab874fb5be0f63c50e4fb86c",
            "db675c1820c74b24899ec7933c0b12c9",
            "afeb2cf38f8248a293fa8b9095332c0c",
            "b6e2fa8070f041d78fd6f019fa4204ec",
            "4cd5e2ae5f11475193042725a9ef2946",
            "07a73ae532ce4543adbe1595293caeb7",
            "54c8ff3df60e4f1fad00b0b72555bd7b",
            "93a52aaf33924812ab7edbb217069fe2",
            "b258b869e3bb4117ab82aa615aea8001",
            "0a3190ab89674125a6c10409981698fb",
            "42b2ae8939a34c7ebf3a2d0bfb13f510",
            "bf9f8dd174bf491ea58ce71c46a74c56",
            "51cffcb6dd89478f9a46f9d560b833b5",
            "5e5f89a25ad24905856407f889af64f0",
            "26b06553a09046bcaf4bf9b630759d36",
            "4635fce8d1ac4dfb801205e92b486497",
            "2373e391739341bd8f0936dbd815aee6",
            "17d61948ba00408c86fe9b91403b0a8c",
            "e51f784e29a54595b05ebc353ca72a3d",
            "d379449623594d2e920df1a485b1074a",
            "c1f59064b4f447b0a269e15df6a45337",
            "65cf292abdbc4965a5df8dd3e0c30883",
            "35442aa225cc4a5db34902c917713f73",
            "743b15926285480d91b7894d830860cd",
            "e9031622f6fe43a4ae971907bc385009",
            "fee099dbb1294e23a90de83cae44f51e",
            "a51de75a8a964ca3bbd1a680bf2d47e8",
            "d8dbe3f41dc742c39eef67d6fce4d974",
            "daf4dae6daf04761a6dc3e0dbacbc3c9",
            "6aae9efecd9d40cc806f2cab84da0793",
            "a6e44a9af1c9446a9c8280b9f4e052e6",
            "096635f646c94b9fa8007a9428916af5",
            "f950c5611f6b4564be16e4cc5f0c284e",
            "6260d95c712c431eac05dd54becc3248",
            "b3939efed9c642b69b5bd731e12fca0b",
            "e0c9430fbf534ffb9e0c1cd9a262652d",
            "8f994e5000984343adbe537bf4d00910",
            "4f86fe9010aa4deea3313f809c4443b2",
            "6c6ba754dc92432ea6685959e36bd329",
            "d8cab84962b14f89a9e264888658cc19",
            "cf4df8d606b346fabb4b65c89c3f870b",
            "540e871040814410bf7b62b5e2de0ea1",
            "86ab394451a64350afb60947ccce612c",
            "59c22fe34db74cda83561b3ccdc44a27",
            "36f427453d404a2cb19cf3b4436293fb",
            "d13c534e33074c978b52d2753752b98e",
            "c91f2fcc827d4f7f842c9610a85dc312",
            "b98c9e1e8fad4e23a9d9c4030fb796a7",
            "c943cb62f0284f2c96a1b89ac69237c8",
            "899ac8ebffb340398377022d8622a92a",
            "d15f2bfd9fe540a6a5e23f37ae32ae7f",
            "f258f55201794071aaa1b5812dcd33ab",
            "aacfb0d1d8c54796be350c851b2157f9",
            "f0b374ed8ec140da85b81640dea92f64",
            "46edfe391c96424894514488d272eba0",
            "b7e51aa6a52849edaaf12375ec9bf7fe",
            "1cbad580180a4daca509356e7957f5c7",
            "946ac9cdbdb34b8f8f5ebea41a25e632",
            "38bd9ed9316c4e8daaca528e2c770b9c",
            "bd7c26cae4e044758e214e8170427a50",
            "e23d4c4c7c0046f98d880a40c163f6db",
            "a7bf028b4d394fa883b21b6a21ddbc8c",
            "c07503a5db5f43819d7b2bba16f41a9b",
            "5d720f3230cc4abdac30002d7d512224",
            "7725167486d24a1bb98876f4f343c2b7",
            "00164c015e2043de9df1f0a3ad40d9b7",
            "fd0dfd2979c5489fbfc0d8cf5ab6e64b",
            "1ff0a3fedefe48a698fd2ba474f21fae",
            "bbf3be6620834a12bc831fadda75e9e9",
            "e198a2f9adf54de49243a88cf7fca374"
          ]
        },
        "outputId": "ebf2662e-f7df-44e3-edf5-9ca38b21c250"
      },
      "execution_count": 3,
      "outputs": [
        {
          "output_type": "stream",
          "name": "stdout",
          "text": [
            "\u001b[1mDownloading and preparing dataset ag_news_subset/1.0.0 (download: 11.24 MiB, generated: 35.79 MiB, total: 47.03 MiB) to /root/tensorflow_datasets/ag_news_subset/1.0.0...\u001b[0m\n"
          ]
        },
        {
          "output_type": "display_data",
          "data": {
            "text/plain": [
              "Dl Completed...: 0 url [00:00, ? url/s]"
            ],
            "application/vnd.jupyter.widget-view+json": {
              "version_major": 2,
              "version_minor": 0,
              "model_id": "d328231dc7284a4bab3eb1760b93c193"
            }
          },
          "metadata": {}
        },
        {
          "output_type": "display_data",
          "data": {
            "text/plain": [
              "Dl Size...: 0 MiB [00:00, ? MiB/s]"
            ],
            "application/vnd.jupyter.widget-view+json": {
              "version_major": 2,
              "version_minor": 0,
              "model_id": "4cd5e2ae5f11475193042725a9ef2946"
            }
          },
          "metadata": {}
        },
        {
          "output_type": "display_data",
          "data": {
            "text/plain": [
              "Extraction completed...: 0 file [00:00, ? file/s]"
            ],
            "application/vnd.jupyter.widget-view+json": {
              "version_major": 2,
              "version_minor": 0,
              "model_id": "4635fce8d1ac4dfb801205e92b486497"
            }
          },
          "metadata": {}
        },
        {
          "output_type": "stream",
          "name": "stdout",
          "text": [
            "\n",
            "\n",
            "\n"
          ]
        },
        {
          "output_type": "display_data",
          "data": {
            "text/plain": [
              "0 examples [00:00, ? examples/s]"
            ],
            "application/vnd.jupyter.widget-view+json": {
              "version_major": 2,
              "version_minor": 0,
              "model_id": "a51de75a8a964ca3bbd1a680bf2d47e8"
            }
          },
          "metadata": {}
        },
        {
          "output_type": "stream",
          "name": "stdout",
          "text": [
            "Shuffling and writing examples to /root/tensorflow_datasets/ag_news_subset/1.0.0.incompleteCFIRL1/ag_news_subset-train.tfrecord\n"
          ]
        },
        {
          "output_type": "display_data",
          "data": {
            "text/plain": [
              "  0%|          | 0/120000 [00:00<?, ? examples/s]"
            ],
            "application/vnd.jupyter.widget-view+json": {
              "version_major": 2,
              "version_minor": 0,
              "model_id": "4f86fe9010aa4deea3313f809c4443b2"
            }
          },
          "metadata": {}
        },
        {
          "output_type": "display_data",
          "data": {
            "text/plain": [
              "0 examples [00:00, ? examples/s]"
            ],
            "application/vnd.jupyter.widget-view+json": {
              "version_major": 2,
              "version_minor": 0,
              "model_id": "c943cb62f0284f2c96a1b89ac69237c8"
            }
          },
          "metadata": {}
        },
        {
          "output_type": "stream",
          "name": "stdout",
          "text": [
            "Shuffling and writing examples to /root/tensorflow_datasets/ag_news_subset/1.0.0.incompleteCFIRL1/ag_news_subset-test.tfrecord\n"
          ]
        },
        {
          "output_type": "display_data",
          "data": {
            "text/plain": [
              "  0%|          | 0/7600 [00:00<?, ? examples/s]"
            ],
            "application/vnd.jupyter.widget-view+json": {
              "version_major": 2,
              "version_minor": 0,
              "model_id": "bd7c26cae4e044758e214e8170427a50"
            }
          },
          "metadata": {}
        },
        {
          "output_type": "stream",
          "name": "stdout",
          "text": [
            "\u001b[1mDataset ag_news_subset downloaded and prepared to /root/tensorflow_datasets/ag_news_subset/1.0.0. Subsequent calls will reuse this data.\u001b[0m\n"
          ]
        }
      ]
    },
    {
      "cell_type": "code",
      "source": [
        "# Tensors have two elements, data and labels; let's split them\n",
        "# so we can transform the data\n",
        "X_train, y_train = train_ds\n",
        "X_valid, y_valid = valid_ds\n",
        "X_test, y_test = test_ds"
      ],
      "metadata": {
        "id": "BYkXCTv3NrvC"
      },
      "execution_count": 4,
      "outputs": []
    },
    {
      "cell_type": "markdown",
      "source": [
        "The AG News Subset dataset consists in news articles, each one composed by a sequence of words. In order to encode each article in a single tensor with a fixed number of elements, we will use multi-hot encoding. For testing purposes, we will only consider the first 10,000  most common words. Multi-hot-encoding our lists means turning them into vectors of 0s and 1s. Concretely, this would mean for instance turning the sequence [3, 5] into a 10,000-dimensional vector that would be all-zeros except for indices 3 and 5, which would be ones. The obtained input representation indicates which words are present (at least one time) in the sentence."
      ],
      "metadata": {
        "id": "8prUBtqq8JW7"
      }
    },
    {
      "cell_type": "code",
      "source": [
        "num_words = 1000\n",
        "vectorize_layer = tf.keras.layers.TextVectorization(\n",
        " max_tokens=num_words,\n",
        " standardize=\"lower_and_strip_punctuation\",\n",
        " split=\"whitespace\",\n",
        " output_mode='multi_hot',\n",
        " pad_to_max_tokens=True)\n",
        "\n",
        "vectorize_layer.adapt(X_train)"
      ],
      "metadata": {
        "id": "Brt087tDIDpe"
      },
      "execution_count": 5,
      "outputs": []
    },
    {
      "cell_type": "code",
      "source": [
        "X_train = vectorize_layer(X_train)\n",
        "X_valid = vectorize_layer(X_valid)\n",
        "X_test  = vectorize_layer(X_test)"
      ],
      "metadata": {
        "id": "seuFLH2lNiDT"
      },
      "execution_count": 6,
      "outputs": []
    },
    {
      "cell_type": "markdown",
      "metadata": {
        "id": "jGUg8TexZMNf"
      },
      "source": [
        "### Define the model:\n",
        "\n",
        "Let's build a Sequential model (`keras.models.Sequential`) and add four layers to it by calling its `add()` method:\n",
        "\n",
        "\n",
        "*   a input layer (`tf.keras.Input`) that is the first layer in your model. With this layer you should specify the `input_shape` argument, leaving out the batch size: `(num_words,)`;\n",
        "*  a Dense layer (`keras.layers.Dense`) with 16 neurons, and the \"relu\" activation function;\n",
        "* another Dense layer with 16 neurons, also with the \"relu\" activation function;\n",
        "* a final Dense layer with 4 output neurons, and with the \"softmax\" activation (since we considering a classification task with four classes)."
      ]
    },
    {
      "cell_type": "code",
      "metadata": {
        "id": "OaoEISyaZL56"
      },
      "source": [
        "model = keras.models.Sequential()\n",
        "model.add(tf.keras.Input(shape=(num_words,)))\n",
        "model.add(keras.layers.Dense(16, activation=\"relu\"))\n",
        "model.add(keras.layers.Dense(16, activation=\"relu\"))\n",
        "model.add(keras.layers.Dense(4, activation=\"softmax\"))"
      ],
      "execution_count": 7,
      "outputs": []
    },
    {
      "cell_type": "markdown",
      "metadata": {
        "id": "fYfxUOQVZljh"
      },
      "source": [
        "Call the model's `summary()` method to check if the model has been built correctly. Also, try using `keras.utils.plot_model()` to save an image of your model's architecture."
      ]
    },
    {
      "cell_type": "code",
      "metadata": {
        "id": "IpGkQl5dZoWq",
        "colab": {
          "base_uri": "https://localhost:8080/"
        },
        "outputId": "b4091ea1-b049-4983-ae84-95db89d38a72"
      },
      "source": [
        "model.summary()"
      ],
      "execution_count": 8,
      "outputs": [
        {
          "output_type": "stream",
          "name": "stdout",
          "text": [
            "Model: \"sequential\"\n",
            "_________________________________________________________________\n",
            " Layer (type)                Output Shape              Param #   \n",
            "=================================================================\n",
            " dense (Dense)               (None, 16)                16016     \n",
            "                                                                 \n",
            " dense_1 (Dense)             (None, 16)                272       \n",
            "                                                                 \n",
            " dense_2 (Dense)             (None, 4)                 68        \n",
            "                                                                 \n",
            "=================================================================\n",
            "Total params: 16,356\n",
            "Trainable params: 16,356\n",
            "Non-trainable params: 0\n",
            "_________________________________________________________________\n"
          ]
        }
      ]
    },
    {
      "cell_type": "code",
      "metadata": {
        "id": "b1NbkrXRZwOA",
        "colab": {
          "base_uri": "https://localhost:8080/",
          "height": 422
        },
        "outputId": "1a12a9b9-6390-44cd-8ffe-40ec1f09ef02"
      },
      "source": [
        "keras.utils.plot_model(model, \"my_model.png\", show_shapes=True)"
      ],
      "execution_count": 9,
      "outputs": [
        {
          "output_type": "execute_result",
          "data": {
            "text/plain": [
              "<IPython.core.display.Image object>"
            ],
            "image/png": "[encoded data removed]"
          },
          "metadata": {},
          "execution_count": 9
        }
      ]
    },
    {
      "cell_type": "markdown",
      "metadata": {
        "id": "Mc3xzuA-33WH"
      },
      "source": [
        "As you can see, the first dimension of each layer is not defined (`None`), indeed this dimension in each layer is variable and depends on the batch size."
      ]
    },
    {
      "cell_type": "markdown",
      "metadata": {
        "id": "6FAjFixuHSA_"
      },
      "source": [
        "Instaed of using `add()` method it is also possibile to define the model using the following syntax"
      ]
    },
    {
      "cell_type": "code",
      "metadata": {
        "id": "yOhr57M9GPHy",
        "colab": {
          "base_uri": "https://localhost:8080/",
          "height": 682
        },
        "outputId": "8fd4cbb5-94a2-4c61-c59e-4de00c207a90"
      },
      "source": [
        "model = keras.models.Sequential([\n",
        "    tf.keras.Input(shape=(num_words,)),\n",
        "    keras.layers.Dense(16, activation=\"relu\"),\n",
        "    keras.layers.Dense(16, activation=\"relu\"),\n",
        "    keras.layers.Dense(4, activation=\"softmax\")\n",
        "])\n",
        "model.summary()\n",
        "keras.utils.plot_model(model, \"my_model.png\", show_shapes=True)"
      ],
      "execution_count": 10,
      "outputs": [
        {
          "output_type": "stream",
          "name": "stdout",
          "text": [
            "Model: \"sequential_1\"\n",
            "_________________________________________________________________\n",
            " Layer (type)                Output Shape              Param #   \n",
            "=================================================================\n",
            " dense_3 (Dense)             (None, 16)                16016     \n",
            "                                                                 \n",
            " dense_4 (Dense)             (None, 16)                272       \n",
            "                                                                 \n",
            " dense_5 (Dense)             (None, 4)                 68        \n",
            "                                                                 \n",
            "=================================================================\n",
            "Total params: 16,356\n",
            "Trainable params: 16,356\n",
            "Non-trainable params: 0\n",
            "_________________________________________________________________\n"
          ]
        },
        {
          "output_type": "execute_result",
          "data": {
            "text/plain": [
              "<IPython.core.display.Image object>"
            ],
            "image/png": "[encoded data removed]"
          },
          "metadata": {},
          "execution_count": 10
        }
      ]
    },
    {
      "cell_type": "markdown",
      "metadata": {
        "id": "2ySdJmzxaSuz"
      },
      "source": [
        "### Optimize the model:\n",
        "\n",
        "After the model has been created, you must call its `compile()` method to specify the loss function and the optimizer to use.\n",
        "\n",
        "Since the model performs a classification task, and we have labels encoded as integers, we use the sparse categorical cross-entropy loss. As optimizer we use Adam.\n",
        "\n",
        "Moreover, you can optionally specify a list of additional metrics that should be measured during training. In this case we specify `metrics=[\"accuracy\"]`."
      ]
    },
    {
      "cell_type": "code",
      "metadata": {
        "id": "x3bbsY3uaeh5"
      },
      "source": [
        "model.compile(loss=\"sparse_categorical_crossentropy\",\n",
        "              optimizer=keras.optimizers.Adam(learning_rate=1e-4),\n",
        "              metrics=[\"accuracy\"])"
      ],
      "execution_count": 11,
      "outputs": []
    },
    {
      "cell_type": "markdown",
      "metadata": {
        "id": "NB9SV0MpaeTg"
      },
      "source": [
        "Now our model is ready to be trained. Call its `fit()` method, passing to it the input features (`X_train`) and the target classes (`y_train`). Set the number of epochs to 20. \n",
        "In order to validate our model we will also pass the validation data by setting `validation_data=(X_valid, y_valid)`. Keras will compute the loss and the additional metrics (the accuracy in this case) on the validation set at the end of each epoch. If the loss on the training set is much lower than the one on the validation set, your model is probably overfitting the training set. Note: the `fit()` method will return a `History` object containing training stats."
      ]
    },
    {
      "cell_type": "code",
      "metadata": {
        "id": "5whx-LU3aoKn",
        "colab": {
          "base_uri": "https://localhost:8080/"
        },
        "outputId": "63476d75-0eef-4db9-91b9-cab87b29f470"
      },
      "source": [
        "history = model.fit(X_train, y_train, epochs=20,\n",
        "                    validation_data=(X_valid, y_valid))"
      ],
      "execution_count": 12,
      "outputs": [
        {
          "output_type": "stream",
          "name": "stdout",
          "text": [
            "Epoch 1/20\n",
            "3375/3375 [==============================] - 8s 2ms/step - loss: 0.8503 - accuracy: 0.6761 - val_loss: 0.5107 - val_accuracy: 0.8314\n",
            "Epoch 2/20\n",
            "3375/3375 [==============================] - 7s 2ms/step - loss: 0.4583 - accuracy: 0.8449 - val_loss: 0.4452 - val_accuracy: 0.8475\n",
            "Epoch 3/20\n",
            "3375/3375 [==============================] - 8s 2ms/step - loss: 0.4222 - accuracy: 0.8546 - val_loss: 0.4318 - val_accuracy: 0.8507\n",
            "Epoch 4/20\n",
            "3375/3375 [==============================] - 7s 2ms/step - loss: 0.4089 - accuracy: 0.8573 - val_loss: 0.4241 - val_accuracy: 0.8509\n",
            "Epoch 5/20\n",
            "3375/3375 [==============================] - 7s 2ms/step - loss: 0.4012 - accuracy: 0.8590 - val_loss: 0.4210 - val_accuracy: 0.8525\n",
            "Epoch 6/20\n",
            "3375/3375 [==============================] - 7s 2ms/step - loss: 0.3959 - accuracy: 0.8601 - val_loss: 0.4175 - val_accuracy: 0.8531\n",
            "Epoch 7/20\n",
            "3375/3375 [==============================] - 7s 2ms/step - loss: 0.3917 - accuracy: 0.8615 - val_loss: 0.4149 - val_accuracy: 0.8535\n",
            "Epoch 8/20\n",
            "3375/3375 [==============================] - 7s 2ms/step - loss: 0.3882 - accuracy: 0.8617 - val_loss: 0.4132 - val_accuracy: 0.8550\n",
            "Epoch 9/20\n",
            "3375/3375 [==============================] - 7s 2ms/step - loss: 0.3851 - accuracy: 0.8627 - val_loss: 0.4109 - val_accuracy: 0.8540\n",
            "Epoch 10/20\n",
            "3375/3375 [==============================] - 7s 2ms/step - loss: 0.3825 - accuracy: 0.8629 - val_loss: 0.4096 - val_accuracy: 0.8534\n",
            "Epoch 11/20\n",
            "3375/3375 [==============================] - 7s 2ms/step - loss: 0.3799 - accuracy: 0.8637 - val_loss: 0.4081 - val_accuracy: 0.8539\n",
            "Epoch 12/20\n",
            "3375/3375 [==============================] - 7s 2ms/step - loss: 0.3775 - accuracy: 0.8638 - val_loss: 0.4064 - val_accuracy: 0.8543\n",
            "Epoch 13/20\n",
            "3375/3375 [==============================] - 7s 2ms/step - loss: 0.3753 - accuracy: 0.8645 - val_loss: 0.4051 - val_accuracy: 0.8538\n",
            "Epoch 14/20\n",
            "3375/3375 [==============================] - 7s 2ms/step - loss: 0.3731 - accuracy: 0.8649 - val_loss: 0.4053 - val_accuracy: 0.8543\n",
            "Epoch 15/20\n",
            "3375/3375 [==============================] - 8s 2ms/step - loss: 0.3709 - accuracy: 0.8660 - val_loss: 0.4035 - val_accuracy: 0.8553\n",
            "Epoch 16/20\n",
            "3375/3375 [==============================] - 7s 2ms/step - loss: 0.3689 - accuracy: 0.8661 - val_loss: 0.4027 - val_accuracy: 0.8553\n",
            "Epoch 17/20\n",
            "3375/3375 [==============================] - 8s 2ms/step - loss: 0.3669 - accuracy: 0.8668 - val_loss: 0.4011 - val_accuracy: 0.8565\n",
            "Epoch 18/20\n",
            "3375/3375 [==============================] - 7s 2ms/step - loss: 0.3649 - accuracy: 0.8672 - val_loss: 0.4003 - val_accuracy: 0.8554\n",
            "Epoch 19/20\n",
            "3375/3375 [==============================] - 8s 2ms/step - loss: 0.3630 - accuracy: 0.8679 - val_loss: 0.3992 - val_accuracy: 0.8559\n",
            "Epoch 20/20\n",
            "3375/3375 [==============================] - 7s 2ms/step - loss: 0.3612 - accuracy: 0.8684 - val_loss: 0.3993 - val_accuracy: 0.8564\n"
          ]
        }
      ]
    },
    {
      "cell_type": "markdown",
      "metadata": {
        "id": "EPxiw8iCADr-"
      },
      "source": [
        "Let's plot the loss and the accuracy trends on both training and validation sets. We define the `plot_learning_acc_and_loss` function because we will reuse it in the next steps."
      ]
    },
    {
      "cell_type": "code",
      "metadata": {
        "id": "AJg-F7mUa7st",
        "colab": {
          "base_uri": "https://localhost:8080/",
          "height": 320
        },
        "outputId": "1f6a11ee-b41b-47e8-e27d-821e6f583066"
      },
      "source": [
        "def plot_learning_acc_and_loss(history):\n",
        "    pd.DataFrame(history.history).plot(figsize=(8, 5))\n",
        "    plt.grid(True)\n",
        "    plt.show()\n",
        "plot_learning_acc_and_loss(history)"
      ],
      "execution_count": 31,
      "outputs": [
        {
          "output_type": "display_data",
          "data": {
            "text/plain": [
              "<Figure size 576x360 with 1 Axes>"
            ],
            "image/png": "[encoded data removed]"
          },
          "metadata": {
            "needs_background": "light"
          }
        }
      ]
    },
    {
      "cell_type": "markdown",
      "metadata": {
        "id": "9O3-sLmxansJ"
      },
      "source": [
        "### [TO COMPLETE] Evaluate the model:\n",
        "\n",
        "Now, our model has been optimized on the training set, and as you can see the performance on the validation set in quite similar (so it does not overfit the training data). Let's now evaluate the performance of our model using the test set."
      ]
    },
    {
      "cell_type": "code",
      "metadata": {
        "id": "q-ZvJEcObdyB",
        "colab": {
          "base_uri": "https://localhost:8080/"
        },
        "outputId": "435101d4-c9a3-47fc-83db-accb6486ea21"
      },
      "source": [
        "model.evaluate(X_test, y_test)"
      ],
      "execution_count": 14,
      "outputs": [
        {
          "output_type": "stream",
          "name": "stdout",
          "text": [
            "238/238 [==============================] - 1s 2ms/step - loss: 0.4093 - accuracy: 0.8521\n"
          ]
        },
        {
          "output_type": "execute_result",
          "data": {
            "text/plain": [
              "[0.40926671028137207, 0.8521052598953247]"
            ]
          },
          "metadata": {},
          "execution_count": 14
        }
      ]
    },
    {
      "cell_type": "markdown",
      "metadata": {
        "id": "KTSxlnwrII-n"
      },
      "source": [
        "[TO COMPLETE] Explain why it is important to use test and validation, and why it is important to evaluate the model on the test set instead of the validation set. Finally, explain what is the usefulness of the validation set. Insert the discussion in this cell.\n",
        "<br>\n",
        "**Answer:** It is important to use test and validation sets in order to evaluate the performances of our model on other fresh new data, different from the training set ones, so that we can avoid overfitting and make our model generalize better.\n",
        "<br>\n",
        "The validation set is usually used to evaluate our model across different parameters and to tune the different hyperparameters in our predictor. \n",
        "<br>\n",
        "On the other hand, the test set is used to describe the final evaluation of a final and tuned model, estimating the generalization error. In order to achieve that, it is important to evaluate the model on the test set instead of the validation set because, to avoid overfitting, we need a fresh new set of examples, or (if not possible) use splitting techniques of the original whole dataset."
      ]
    },
    {
      "cell_type": "markdown",
      "metadata": {
        "id": "aeGlzKe864Gq"
      },
      "source": [
        "## [TO COMPLETE] Exercise 2.2: Overfiting\n",
        "\n",
        "A common problem that occurs when you train a deep neural network is overfittig. Overfitting occurs when you achieve a good fit of your model on the training data, while it does not generalize well on new, unseen data. In other words, the model learned patterns specific to the training data, which are irrelevant in other data.\n",
        "As we have seen in the previous exercise, our model does not overfit the training data. In this exercise, we try to modify the training parameters in order to have a model that overfits.\n",
        "Overfitting can have many causes and usually is a combination of some of them, for instance: too many parameters/ layers, too few training samples, wrong learning rate (usualy too high), etc..\n",
        "\n",
        "[TO COMPLETE] In the next cell define a new model (similar to the previuos one) that overfits the training data; then plot the trend of the loss in training and validation set."
      ]
    },
    {
      "cell_type": "code",
      "metadata": {
        "id": "T2B2DFEC8f88",
        "colab": {
          "base_uri": "https://localhost:8080/"
        },
        "outputId": "335921f2-34cf-4bbe-eac6-4e332fadd757"
      },
      "source": [
        "model = keras.models.Sequential()\n",
        "#[TO COMPLETE] modify the previuos model in order to obtain a new model that overfits the training data\n",
        "model.add(tf.keras.Input(shape=(num_words,)))\n",
        "model.add(keras.layers.Dense(50, activation=\"relu\"))\n",
        "model.add(keras.layers.Dense(50, activation=\"relu\"))\n",
        "model.add(keras.layers.Dense(4, activation=\"softmax\"))\n",
        "\n",
        "model.compile(loss=\"sparse_categorical_crossentropy\",\n",
        "              optimizer=keras.optimizers.Adam(learning_rate=3e-4), #[TO COMPLETE] learning rate\n",
        "              metrics=[\"accuracy\"])\n",
        "\n",
        "history = model.fit(X_train, y_train, epochs=30, #[TO COMPLETE] epochs\n",
        "                    validation_data=(X_valid, y_valid))\n",
        "\n",
        "print(\"Model Evaluation\")\n",
        "model.evaluate(X_test, y_test)"
      ],
      "execution_count": 13,
      "outputs": [
        {
          "output_type": "stream",
          "name": "stdout",
          "text": [
            "Epoch 1/30\n",
            "3375/3375 [==============================] - 6s 2ms/step - loss: 0.5119 - accuracy: 0.8185 - val_loss: 0.4224 - val_accuracy: 0.8508\n",
            "Epoch 2/30\n",
            "3375/3375 [==============================] - 6s 2ms/step - loss: 0.4020 - accuracy: 0.8551 - val_loss: 0.4115 - val_accuracy: 0.8547\n",
            "Epoch 3/30\n",
            "3375/3375 [==============================] - 6s 2ms/step - loss: 0.3838 - accuracy: 0.8606 - val_loss: 0.4025 - val_accuracy: 0.8536\n",
            "Epoch 4/30\n",
            "3375/3375 [==============================] - 6s 2ms/step - loss: 0.3675 - accuracy: 0.8648 - val_loss: 0.3955 - val_accuracy: 0.8564\n",
            "Epoch 5/30\n",
            "3375/3375 [==============================] - 5s 2ms/step - loss: 0.3517 - accuracy: 0.8707 - val_loss: 0.3899 - val_accuracy: 0.8563\n",
            "Epoch 6/30\n",
            "3375/3375 [==============================] - 6s 2ms/step - loss: 0.3358 - accuracy: 0.8763 - val_loss: 0.3901 - val_accuracy: 0.8594\n",
            "Epoch 7/30\n",
            "3375/3375 [==============================] - 6s 2ms/step - loss: 0.3203 - accuracy: 0.8823 - val_loss: 0.3938 - val_accuracy: 0.8572\n",
            "Epoch 8/30\n",
            "3375/3375 [==============================] - 6s 2ms/step - loss: 0.3056 - accuracy: 0.8881 - val_loss: 0.3893 - val_accuracy: 0.8608\n",
            "Epoch 9/30\n",
            "3375/3375 [==============================] - 6s 2ms/step - loss: 0.2908 - accuracy: 0.8950 - val_loss: 0.3953 - val_accuracy: 0.8584\n",
            "Epoch 10/30\n",
            "3375/3375 [==============================] - 6s 2ms/step - loss: 0.2768 - accuracy: 0.9000 - val_loss: 0.4009 - val_accuracy: 0.8592\n",
            "Epoch 11/30\n",
            "3375/3375 [==============================] - 6s 2ms/step - loss: 0.2632 - accuracy: 0.9047 - val_loss: 0.4058 - val_accuracy: 0.8597\n",
            "Epoch 12/30\n",
            "3375/3375 [==============================] - 6s 2ms/step - loss: 0.2497 - accuracy: 0.9099 - val_loss: 0.4097 - val_accuracy: 0.8589\n",
            "Epoch 13/30\n",
            "3375/3375 [==============================] - 6s 2ms/step - loss: 0.2367 - accuracy: 0.9145 - val_loss: 0.4200 - val_accuracy: 0.8588\n",
            "Epoch 14/30\n",
            "3375/3375 [==============================] - 6s 2ms/step - loss: 0.2242 - accuracy: 0.9196 - val_loss: 0.4351 - val_accuracy: 0.8543\n",
            "Epoch 15/30\n",
            "3375/3375 [==============================] - 6s 2ms/step - loss: 0.2127 - accuracy: 0.9242 - val_loss: 0.4453 - val_accuracy: 0.8557\n",
            "Epoch 16/30\n",
            "3375/3375 [==============================] - 6s 2ms/step - loss: 0.2013 - accuracy: 0.9287 - val_loss: 0.4605 - val_accuracy: 0.8548\n",
            "Epoch 17/30\n",
            "3375/3375 [==============================] - 6s 2ms/step - loss: 0.1908 - accuracy: 0.9326 - val_loss: 0.4795 - val_accuracy: 0.8517\n",
            "Epoch 18/30\n",
            "3375/3375 [==============================] - 6s 2ms/step - loss: 0.1805 - accuracy: 0.9369 - val_loss: 0.4873 - val_accuracy: 0.8515\n",
            "Epoch 19/30\n",
            "3375/3375 [==============================] - 6s 2ms/step - loss: 0.1711 - accuracy: 0.9407 - val_loss: 0.5109 - val_accuracy: 0.8500\n",
            "Epoch 20/30\n",
            "3375/3375 [==============================] - 6s 2ms/step - loss: 0.1616 - accuracy: 0.9439 - val_loss: 0.5308 - val_accuracy: 0.8461\n",
            "Epoch 21/30\n",
            "3375/3375 [==============================] - 6s 2ms/step - loss: 0.1526 - accuracy: 0.9473 - val_loss: 0.5472 - val_accuracy: 0.8459\n",
            "Epoch 22/30\n",
            "3375/3375 [==============================] - 6s 2ms/step - loss: 0.1447 - accuracy: 0.9505 - val_loss: 0.5711 - val_accuracy: 0.8431\n",
            "Epoch 23/30\n",
            "3375/3375 [==============================] - 6s 2ms/step - loss: 0.1366 - accuracy: 0.9528 - val_loss: 0.5862 - val_accuracy: 0.8455\n",
            "Epoch 24/30\n",
            "3375/3375 [==============================] - 5s 2ms/step - loss: 0.1292 - accuracy: 0.9564 - val_loss: 0.6138 - val_accuracy: 0.8449\n",
            "Epoch 25/30\n",
            "3375/3375 [==============================] - 6s 2ms/step - loss: 0.1226 - accuracy: 0.9589 - val_loss: 0.6424 - val_accuracy: 0.8407\n",
            "Epoch 26/30\n",
            "3375/3375 [==============================] - 6s 2ms/step - loss: 0.1158 - accuracy: 0.9612 - val_loss: 0.6623 - val_accuracy: 0.8412\n",
            "Epoch 27/30\n",
            "3375/3375 [==============================] - 6s 2ms/step - loss: 0.1090 - accuracy: 0.9633 - val_loss: 0.6894 - val_accuracy: 0.8417\n",
            "Epoch 28/30\n",
            "3375/3375 [==============================] - 6s 2ms/step - loss: 0.1027 - accuracy: 0.9662 - val_loss: 0.7090 - val_accuracy: 0.8392\n",
            "Epoch 29/30\n",
            "3375/3375 [==============================] - 6s 2ms/step - loss: 0.0977 - accuracy: 0.9680 - val_loss: 0.7383 - val_accuracy: 0.8363\n",
            "Epoch 30/30\n",
            "3375/3375 [==============================] - 6s 2ms/step - loss: 0.0918 - accuracy: 0.9699 - val_loss: 0.7661 - val_accuracy: 0.8395\n",
            "Model Evaluation\n",
            "238/238 [==============================] - 0s 2ms/step - loss: 0.7971 - accuracy: 0.8322\n"
          ]
        },
        {
          "output_type": "execute_result",
          "data": {
            "text/plain": [
              "[0.7971221208572388, 0.8322368264198303]"
            ]
          },
          "metadata": {},
          "execution_count": 13
        }
      ]
    },
    {
      "cell_type": "markdown",
      "metadata": {
        "id": "MS0fujEqh_m3"
      },
      "source": [
        "Define the `plot_learning_curves` function that plots only the losses (not the accuracy)."
      ]
    },
    {
      "cell_type": "code",
      "metadata": {
        "id": "q5EsklC0DZYH",
        "colab": {
          "base_uri": "https://localhost:8080/",
          "height": 336
        },
        "outputId": "4cbb4305-7f51-4a93-da1c-be72895cbf40"
      },
      "source": [
        "def plot_learning_curves(history):\n",
        "    plt.figure(figsize=(8, 5))\n",
        "    plt.plot(history.epoch,history.history['loss'], label='train loss')\n",
        "    plt.plot(history.epoch,history.history['val_loss'], label='valid loss')\n",
        "    plt.legend()\n",
        "    plt.title('loss')\n",
        "    plt.grid(True)\n",
        "    plt.show()\n",
        "plot_learning_curves(history)"
      ],
      "execution_count": 14,
      "outputs": [
        {
          "output_type": "display_data",
          "data": {
            "text/plain": [
              "<Figure size 576x360 with 1 Axes>"
            ],
            "image/png": "[encoded data removed]"
          },
          "metadata": {
            "needs_background": "light"
          }
        }
      ]
    },
    {
      "cell_type": "markdown",
      "metadata": {
        "id": "OW4Kf4fgDfOs"
      },
      "source": [
        "### [TO COMPLETE] L1 norm\n",
        "\n",
        "One possible way to solve the overitting issue is by using regularization methods. The two most common regularization methods in Deep Learning are the L1-norm regularization and the L2-norm regularization. Both These techniques are based on limiting the capacity of models, by adding a parameter norm penalty to the objective function $\\mathcal{J}$:\n",
        "$$\n",
        "\\hat{\\mathcal{J}}(\\theta,\\mathbf{X},\\mathbf{y}) = \\mathcal{J}(\\theta,\\mathbf{X},\\mathbf{y}) + \\alpha \\Omega(\\theta)\n",
        "$$\n",
        "where $\\alpha$ is a hyperparameter that weighs the relative contribution of the norm penalty $\\Omega$.\n",
        "Lets start by considering the L1-norm regularization where the regularization term is defined as:\n",
        "$$\n",
        " \\Omega(\\theta)=||\\mathbf{W}||_1=\\sum_i |\\mathbf{w}|\n",
        "$$\n",
        "Let's find the values for the $\\alpha$ parameters that allow to remove the overfitting effect."
      ]
    },
    {
      "cell_type": "code",
      "metadata": {
        "id": "QzD8520dDgw3",
        "colab": {
          "base_uri": "https://localhost:8080/",
          "height": 1000
        },
        "outputId": "1473936f-43cd-4094-b9c5-d8744eee7f89"
      },
      "source": [
        "#In Keras is neccesary to add the regularizer by using the attribute kernel_regularizer\n",
        "#to each layer whose weights will be considered in the Omega function.\n",
        "#is it also possibile to consider the bias by using the attribute bias_regularizer \n",
        "#tf.keras.regularizers.l1(alpha) perfroms the L1-norm regularization\n",
        "\n",
        "#[TO COMPLETE] copy the model that you previously defined that overfits the \n",
        "#training data, and add the L1-norm regularization. Use a proper value for the\n",
        "#alpha hyper-parameter, that prevents the model from overfitting. The results  \n",
        "#reached by the model in terms of loss and accuracy (in all data sets) should be\n",
        "#comparable with the ones obtained by the initial model defined in Exercise 2.1 \n",
        "\n",
        "#In general, a layer that exploits L1-norm regularization is defined as follows:\n",
        "\n",
        "#model.add(keras.layers.Dense(units=[TO COMPLETE], activation=[TO COMPLETE], kernel_regularizer=tf.keras.regularizers.l1([TO COMPLETE]))) \n",
        "\n",
        "model = keras.models.Sequential()\n",
        "#[TO COMPLETE]\n",
        "model.add(tf.keras.Input(shape=(num_words,)))\n",
        "model.add(keras.layers.Dense(50, activation=\"relu\", kernel_regularizer=tf.keras.regularizers.L1(5e-4)))\n",
        "model.add(keras.layers.Dense(50, activation=\"relu\", kernel_regularizer=tf.keras.regularizers.L1(5e-4)))\n",
        "model.add(keras.layers.Dense(4, activation=\"softmax\", kernel_regularizer=tf.keras.regularizers.L1(5e-4)))\n",
        "\n",
        "\n",
        "model.compile(loss=\"sparse_categorical_crossentropy\",\n",
        "              optimizer=keras.optimizers.Adam(learning_rate=3e-4),#[TO COMPLETE] learning rate\n",
        "              metrics=[\"accuracy\"])\n",
        "\n",
        "history = model.fit(X_train, y_train, epochs=30,#[TO COMPLETE] epochs\n",
        "                    validation_data=(X_valid, y_valid))\n",
        "\n",
        "print(\"Model Evaluation\")\n",
        "model.evaluate(X_test, y_test)\n",
        "plot_learning_curves(history)"
      ],
      "execution_count": 15,
      "outputs": [
        {
          "output_type": "stream",
          "name": "stdout",
          "text": [
            "Epoch 1/30\n",
            "3375/3375 [==============================] - 10s 3ms/step - loss: 0.9230 - accuracy: 0.8107 - val_loss: 0.7394 - val_accuracy: 0.8397\n",
            "Epoch 2/30\n",
            "3375/3375 [==============================] - 7s 2ms/step - loss: 0.6939 - accuracy: 0.8447 - val_loss: 0.6693 - val_accuracy: 0.8465\n",
            "Epoch 3/30\n",
            "3375/3375 [==============================] - 6s 2ms/step - loss: 0.6411 - accuracy: 0.8488 - val_loss: 0.6320 - val_accuracy: 0.8460\n",
            "Epoch 4/30\n",
            "3375/3375 [==============================] - 7s 2ms/step - loss: 0.6104 - accuracy: 0.8505 - val_loss: 0.6154 - val_accuracy: 0.8444\n",
            "Epoch 5/30\n",
            "3375/3375 [==============================] - 7s 2ms/step - loss: 0.5903 - accuracy: 0.8517 - val_loss: 0.5918 - val_accuracy: 0.8491\n",
            "Epoch 6/30\n",
            "3375/3375 [==============================] - 7s 2ms/step - loss: 0.5739 - accuracy: 0.8528 - val_loss: 0.5825 - val_accuracy: 0.8498\n",
            "Epoch 7/30\n",
            "3375/3375 [==============================] - 8s 2ms/step - loss: 0.5620 - accuracy: 0.8536 - val_loss: 0.5753 - val_accuracy: 0.8495\n",
            "Epoch 8/30\n",
            "3375/3375 [==============================] - 7s 2ms/step - loss: 0.5534 - accuracy: 0.8541 - val_loss: 0.5597 - val_accuracy: 0.8524\n",
            "Epoch 9/30\n",
            "3375/3375 [==============================] - 6s 2ms/step - loss: 0.5461 - accuracy: 0.8545 - val_loss: 0.5586 - val_accuracy: 0.8487\n",
            "Epoch 10/30\n",
            "3375/3375 [==============================] - 7s 2ms/step - loss: 0.5407 - accuracy: 0.8548 - val_loss: 0.5537 - val_accuracy: 0.8512\n",
            "Epoch 11/30\n",
            "3375/3375 [==============================] - 7s 2ms/step - loss: 0.5361 - accuracy: 0.8551 - val_loss: 0.5455 - val_accuracy: 0.8507\n",
            "Epoch 12/30\n",
            "3375/3375 [==============================] - 7s 2ms/step - loss: 0.5321 - accuracy: 0.8554 - val_loss: 0.5419 - val_accuracy: 0.8522\n",
            "Epoch 13/30\n",
            "3375/3375 [==============================] - 7s 2ms/step - loss: 0.5288 - accuracy: 0.8559 - val_loss: 0.5371 - val_accuracy: 0.8518\n",
            "Epoch 14/30\n",
            "3375/3375 [==============================] - 7s 2ms/step - loss: 0.5252 - accuracy: 0.8559 - val_loss: 0.5395 - val_accuracy: 0.8512\n",
            "Epoch 15/30\n",
            "3375/3375 [==============================] - 7s 2ms/step - loss: 0.5222 - accuracy: 0.8556 - val_loss: 0.5329 - val_accuracy: 0.8495\n",
            "Epoch 16/30\n",
            "3375/3375 [==============================] - 7s 2ms/step - loss: 0.5198 - accuracy: 0.8557 - val_loss: 0.5300 - val_accuracy: 0.8537\n",
            "Epoch 17/30\n",
            "3375/3375 [==============================] - 6s 2ms/step - loss: 0.5178 - accuracy: 0.8560 - val_loss: 0.5292 - val_accuracy: 0.8543\n",
            "Epoch 18/30\n",
            "3375/3375 [==============================] - 6s 2ms/step - loss: 0.5161 - accuracy: 0.8563 - val_loss: 0.5275 - val_accuracy: 0.8522\n",
            "Epoch 19/30\n",
            "3375/3375 [==============================] - 7s 2ms/step - loss: 0.5144 - accuracy: 0.8562 - val_loss: 0.5242 - val_accuracy: 0.8542\n",
            "Epoch 20/30\n",
            "3375/3375 [==============================] - 7s 2ms/step - loss: 0.5124 - accuracy: 0.8564 - val_loss: 0.5293 - val_accuracy: 0.8533\n",
            "Epoch 21/30\n",
            "3375/3375 [==============================] - 7s 2ms/step - loss: 0.5118 - accuracy: 0.8561 - val_loss: 0.5232 - val_accuracy: 0.8524\n",
            "Epoch 22/30\n",
            "3375/3375 [==============================] - 7s 2ms/step - loss: 0.5101 - accuracy: 0.8570 - val_loss: 0.5262 - val_accuracy: 0.8509\n",
            "Epoch 23/30\n",
            "3375/3375 [==============================] - 7s 2ms/step - loss: 0.5084 - accuracy: 0.8572 - val_loss: 0.5201 - val_accuracy: 0.8539\n",
            "Epoch 24/30\n",
            "3375/3375 [==============================] - 7s 2ms/step - loss: 0.5074 - accuracy: 0.8568 - val_loss: 0.5190 - val_accuracy: 0.8528\n",
            "Epoch 25/30\n",
            "3375/3375 [==============================] - 7s 2ms/step - loss: 0.5060 - accuracy: 0.8568 - val_loss: 0.5159 - val_accuracy: 0.8551\n",
            "Epoch 26/30\n",
            "3375/3375 [==============================] - 7s 2ms/step - loss: 0.5050 - accuracy: 0.8562 - val_loss: 0.5178 - val_accuracy: 0.8532\n",
            "Epoch 27/30\n",
            "3375/3375 [==============================] - 7s 2ms/step - loss: 0.5038 - accuracy: 0.8576 - val_loss: 0.5166 - val_accuracy: 0.8513\n",
            "Epoch 28/30\n",
            "3375/3375 [==============================] - 7s 2ms/step - loss: 0.5034 - accuracy: 0.8566 - val_loss: 0.5137 - val_accuracy: 0.8547\n",
            "Epoch 29/30\n",
            "3375/3375 [==============================] - 7s 2ms/step - loss: 0.5022 - accuracy: 0.8568 - val_loss: 0.5111 - val_accuracy: 0.8563\n",
            "Epoch 30/30\n",
            "3375/3375 [==============================] - 7s 2ms/step - loss: 0.5009 - accuracy: 0.8574 - val_loss: 0.5106 - val_accuracy: 0.8546\n",
            "Model Evaluation\n",
            "238/238 [==============================] - 1s 2ms/step - loss: 0.5264 - accuracy: 0.8434\n"
          ]
        },
        {
          "output_type": "display_data",
          "data": {
            "text/plain": [
              "<Figure size 576x360 with 1 Axes>"
            ],
            "image/png": "[encoded data removed]"
          },
          "metadata": {
            "needs_background": "light"
          }
        }
      ]
    },
    {
      "cell_type": "markdown",
      "metadata": {
        "id": "CgnCGYUvDqbC"
      },
      "source": [
        "### [TO COMPLETE] L2-norm\n",
        "\n",
        "L2-norm regularization is also known as weight decay. This strategy drives the weights closer to the origin by adding the regularization term omega which is defined as:\n",
        "$$\n",
        " \\Omega(\\theta)=\\frac{1}{2}||\\mathbf{W}||_2^2\n",
        "$$\n",
        "\n",
        "Let's find the values for the $\\alpha$ parameters that allow removing remove the overfitting effect with L2-norm."
      ]
    },
    {
      "cell_type": "code",
      "metadata": {
        "id": "qqNhu350DtJo",
        "colab": {
          "base_uri": "https://localhost:8080/",
          "height": 1000
        },
        "outputId": "0b8be0a7-fd88-417b-e6f3-e7f384e28898"
      },
      "source": [
        "#[TO COMPLETE] insert the model that you previously defined that overfit the \n",
        "#trainig data, and add the L2-norm regularization. Use proper values for the\n",
        "#alpha hyper-parameters, that prevents the model from overfitting. The results  \n",
        "#reached by the model in terms of loss and accuracy (in all data sets) should be\n",
        "#comparable with the ones obtained by the initial model defined in Exercise 2.1\n",
        "\n",
        "#In general, a layer that exploits L2-norm regularization is defined as follow:\n",
        "\n",
        "#model.add(keras.layers.Dense(units=[TO COMPLETE], activation=[TO COMPLETE],kernel_regularizer=tf.keras.regularizers.l2([TO COMPLETE]))) \n",
        "\n",
        "model = keras.models.Sequential()\n",
        "#[TO COMPLETE]\n",
        "model.add(tf.keras.Input(shape=(num_words,)))\n",
        "model.add(keras.layers.Dense(50, activation=\"relu\", kernel_regularizer=tf.keras.regularizers.L2(2e-3)))\n",
        "model.add(keras.layers.Dense(50, activation=\"relu\", kernel_regularizer=tf.keras.regularizers.L2(2e-3)))\n",
        "model.add(keras.layers.Dense(4, activation=\"softmax\", kernel_regularizer=tf.keras.regularizers.L2(2e-3)))\n",
        "\n",
        "model.compile(loss=\"sparse_categorical_crossentropy\",\n",
        "              optimizer=keras.optimizers.Adam(learning_rate=3e-4),#[TO COMPLETE] learning rate\n",
        "              metrics=[\"accuracy\"])\n",
        "\n",
        "history = model.fit(X_train, y_train, epochs=30,#[TO COMPLETE] epochs\n",
        "                    validation_data=(X_valid, y_valid))\n",
        "\n",
        "print(\"Model Evaluation\")\n",
        "model.evaluate(X_test, y_test)\n",
        "plot_learning_curves(history)"
      ],
      "execution_count": 27,
      "outputs": [
        {
          "output_type": "stream",
          "name": "stdout",
          "text": [
            "Epoch 1/30\n",
            "3375/3375 [==============================] - 7s 2ms/step - loss: 0.7065 - accuracy: 0.8206 - val_loss: 0.5936 - val_accuracy: 0.8456\n",
            "Epoch 2/30\n",
            "3375/3375 [==============================] - 6s 2ms/step - loss: 0.5682 - accuracy: 0.8486 - val_loss: 0.5629 - val_accuracy: 0.8481\n",
            "Epoch 3/30\n",
            "3375/3375 [==============================] - 6s 2ms/step - loss: 0.5504 - accuracy: 0.8494 - val_loss: 0.5537 - val_accuracy: 0.8460\n",
            "Epoch 4/30\n",
            "3375/3375 [==============================] - 6s 2ms/step - loss: 0.5429 - accuracy: 0.8503 - val_loss: 0.5561 - val_accuracy: 0.8411\n",
            "Epoch 5/30\n",
            "3375/3375 [==============================] - 6s 2ms/step - loss: 0.5388 - accuracy: 0.8508 - val_loss: 0.5458 - val_accuracy: 0.8488\n",
            "Epoch 6/30\n",
            "3375/3375 [==============================] - 6s 2ms/step - loss: 0.5354 - accuracy: 0.8522 - val_loss: 0.5483 - val_accuracy: 0.8476\n",
            "Epoch 7/30\n",
            "3375/3375 [==============================] - 6s 2ms/step - loss: 0.5328 - accuracy: 0.8526 - val_loss: 0.5493 - val_accuracy: 0.8476\n",
            "Epoch 8/30\n",
            "3375/3375 [==============================] - 6s 2ms/step - loss: 0.5310 - accuracy: 0.8534 - val_loss: 0.5394 - val_accuracy: 0.8531\n",
            "Epoch 9/30\n",
            "3375/3375 [==============================] - 6s 2ms/step - loss: 0.5288 - accuracy: 0.8539 - val_loss: 0.5437 - val_accuracy: 0.8468\n",
            "Epoch 10/30\n",
            "3375/3375 [==============================] - 6s 2ms/step - loss: 0.5277 - accuracy: 0.8544 - val_loss: 0.5436 - val_accuracy: 0.8499\n",
            "Epoch 11/30\n",
            "3375/3375 [==============================] - 6s 2ms/step - loss: 0.5263 - accuracy: 0.8553 - val_loss: 0.5373 - val_accuracy: 0.8496\n",
            "Epoch 12/30\n",
            "3375/3375 [==============================] - 6s 2ms/step - loss: 0.5251 - accuracy: 0.8557 - val_loss: 0.5382 - val_accuracy: 0.8510\n",
            "Epoch 13/30\n",
            "3375/3375 [==============================] - 6s 2ms/step - loss: 0.5244 - accuracy: 0.8561 - val_loss: 0.5348 - val_accuracy: 0.8519\n",
            "Epoch 14/30\n",
            "3375/3375 [==============================] - 6s 2ms/step - loss: 0.5230 - accuracy: 0.8575 - val_loss: 0.5392 - val_accuracy: 0.8514\n",
            "Epoch 15/30\n",
            "3375/3375 [==============================] - 6s 2ms/step - loss: 0.5222 - accuracy: 0.8569 - val_loss: 0.5344 - val_accuracy: 0.8509\n",
            "Epoch 16/30\n",
            "3375/3375 [==============================] - 6s 2ms/step - loss: 0.5213 - accuracy: 0.8575 - val_loss: 0.5341 - val_accuracy: 0.8513\n",
            "Epoch 17/30\n",
            "3375/3375 [==============================] - 6s 2ms/step - loss: 0.5205 - accuracy: 0.8583 - val_loss: 0.5338 - val_accuracy: 0.8547\n",
            "Epoch 18/30\n",
            "3375/3375 [==============================] - 6s 2ms/step - loss: 0.5199 - accuracy: 0.8578 - val_loss: 0.5338 - val_accuracy: 0.8532\n",
            "Epoch 19/30\n",
            "3375/3375 [==============================] - 6s 2ms/step - loss: 0.5195 - accuracy: 0.8586 - val_loss: 0.5317 - val_accuracy: 0.8557\n",
            "Epoch 20/30\n",
            "3375/3375 [==============================] - 6s 2ms/step - loss: 0.5184 - accuracy: 0.8581 - val_loss: 0.5407 - val_accuracy: 0.8524\n",
            "Epoch 21/30\n",
            "3375/3375 [==============================] - 7s 2ms/step - loss: 0.5184 - accuracy: 0.8593 - val_loss: 0.5330 - val_accuracy: 0.8526\n",
            "Epoch 22/30\n",
            "3375/3375 [==============================] - 6s 2ms/step - loss: 0.5177 - accuracy: 0.8591 - val_loss: 0.5358 - val_accuracy: 0.8523\n",
            "Epoch 23/30\n",
            "3375/3375 [==============================] - 6s 2ms/step - loss: 0.5169 - accuracy: 0.8601 - val_loss: 0.5325 - val_accuracy: 0.8556\n",
            "Epoch 24/30\n",
            "3375/3375 [==============================] - 6s 2ms/step - loss: 0.5167 - accuracy: 0.8593 - val_loss: 0.5317 - val_accuracy: 0.8535\n",
            "Epoch 25/30\n",
            "3375/3375 [==============================] - 6s 2ms/step - loss: 0.5164 - accuracy: 0.8600 - val_loss: 0.5301 - val_accuracy: 0.8553\n",
            "Epoch 26/30\n",
            "3375/3375 [==============================] - 6s 2ms/step - loss: 0.5160 - accuracy: 0.8593 - val_loss: 0.5314 - val_accuracy: 0.8540\n",
            "Epoch 27/30\n",
            "3375/3375 [==============================] - 6s 2ms/step - loss: 0.5156 - accuracy: 0.8610 - val_loss: 0.5312 - val_accuracy: 0.8535\n",
            "Epoch 28/30\n",
            "3375/3375 [==============================] - 6s 2ms/step - loss: 0.5155 - accuracy: 0.8610 - val_loss: 0.5301 - val_accuracy: 0.8547\n",
            "Epoch 29/30\n",
            "3375/3375 [==============================] - 6s 2ms/step - loss: 0.5151 - accuracy: 0.8611 - val_loss: 0.5277 - val_accuracy: 0.8569\n",
            "Epoch 30/30\n",
            "3375/3375 [==============================] - 6s 2ms/step - loss: 0.5144 - accuracy: 0.8614 - val_loss: 0.5287 - val_accuracy: 0.8556\n",
            "Model Evaluation\n",
            "238/238 [==============================] - 0s 2ms/step - loss: 0.5395 - accuracy: 0.8486\n"
          ]
        },
        {
          "output_type": "display_data",
          "data": {
            "text/plain": [
              "<Figure size 576x360 with 1 Axes>"
            ],
            "image/png": "[encoded data removed]"
          },
          "metadata": {
            "needs_background": "light"
          }
        }
      ]
    },
    {
      "cell_type": "markdown",
      "metadata": {
        "id": "xvyKPb4DD25G"
      },
      "source": [
        "###[TO COMPLETE] Early stopping\n",
        "\n",
        "Early Stopping is a form of regularization used to avoid overfitting. It is designed to monitor the generalization error of one model and stop training when generalization error begins to degrade. In order to evaluate the generalization error, early stopping requires that a validation dataset is evaluated during training. Then, when the validation error does not improve for a specific number of epochs (`patience` hyper-parameter), it stops the training phase."
      ]
    },
    {
      "cell_type": "code",
      "metadata": {
        "id": "MqNOOZ11D7cq",
        "colab": {
          "base_uri": "https://localhost:8080/",
          "height": 683
        },
        "outputId": "63e4bb8f-099d-4f5f-d5a5-b76adf9d0bcb"
      },
      "source": [
        "#[TO COMPLETE] insert the model that you previously defined that overfit the \n",
        "#trainnig data\n",
        "model = keras.models.Sequential()\n",
        "model.add(tf.keras.Input(shape=(num_words,)))\n",
        "model.add(keras.layers.Dense(50, activation=\"relu\"))\n",
        "model.add(keras.layers.Dense(50, activation=\"relu\"))\n",
        "model.add(keras.layers.Dense(4, activation=\"softmax\"))\n",
        "\n",
        "\n",
        "\n",
        "model.compile(loss=\"sparse_categorical_crossentropy\",\n",
        "              optimizer=keras.optimizers.Adam(learning_rate=3e-4),#[TO COMPLETE] learning rate\n",
        "              metrics=[\"accuracy\"])\n",
        "\n",
        "#Let's define a log dir in order to save the checkpoint file\n",
        "logdir = os.path.join(os.curdir, \"my_logs\", \"run_{}\".format(time.time()))\n",
        "\n",
        "#In Keras the early stopping is manage by using the callbacks argument.\n",
        "callbacks = [\n",
        "    keras.callbacks.TensorBoard(logdir),\n",
        "    keras.callbacks.EarlyStopping(patience=3),#[TO COMPLETE] play with patience and find the value that prevents the model from overfitting.\n",
        "\n",
        "\n",
        "    #Saving the checkpoints file allows to load the \"best\" model when the Early \n",
        "    #stopping detect that the generalization error degrade (after 'patience' epochs)\n",
        "    keras.callbacks.ModelCheckpoint(\"my_mnist_model.h5\", save_best_only=True),\n",
        "]\n",
        "\n",
        "history = model.fit(X_train, y_train, epochs=30,#[TO COMPLETE] epochs\n",
        "                    validation_data=(X_valid, y_valid),\n",
        "                    callbacks=callbacks)\n",
        "\n",
        "print(\"Model Evaluation\")\n",
        "#The early stopping stopped training after few epochs without progress, so your\n",
        "#model may already have started to overfit the training set. Since the \n",
        "#ModelCheckpoint callback only saved the best models (on the validation set) the\n",
        "#last saved model is the best on the validation set.\n",
        "model = keras.models.load_model(\"my_mnist_model.h5\")\n",
        "model.evaluate(X_test, y_test)\n",
        "plot_learning_curves(history)"
      ],
      "execution_count": 25,
      "outputs": [
        {
          "output_type": "stream",
          "name": "stdout",
          "text": [
            "Epoch 1/30\n",
            "3375/3375 [==============================] - 6s 2ms/step - loss: 0.5109 - accuracy: 0.8182 - val_loss: 0.4200 - val_accuracy: 0.8512\n",
            "Epoch 2/30\n",
            "3375/3375 [==============================] - 6s 2ms/step - loss: 0.3994 - accuracy: 0.8555 - val_loss: 0.4091 - val_accuracy: 0.8517\n",
            "Epoch 3/30\n",
            "3375/3375 [==============================] - 6s 2ms/step - loss: 0.3813 - accuracy: 0.8613 - val_loss: 0.4015 - val_accuracy: 0.8533\n",
            "Epoch 4/30\n",
            "3375/3375 [==============================] - 6s 2ms/step - loss: 0.3651 - accuracy: 0.8663 - val_loss: 0.3924 - val_accuracy: 0.8560\n",
            "Epoch 5/30\n",
            "3375/3375 [==============================] - 6s 2ms/step - loss: 0.3495 - accuracy: 0.8721 - val_loss: 0.3888 - val_accuracy: 0.8587\n",
            "Epoch 6/30\n",
            "3375/3375 [==============================] - 6s 2ms/step - loss: 0.3342 - accuracy: 0.8770 - val_loss: 0.3886 - val_accuracy: 0.8584\n",
            "Epoch 7/30\n",
            "3375/3375 [==============================] - 6s 2ms/step - loss: 0.3189 - accuracy: 0.8826 - val_loss: 0.3911 - val_accuracy: 0.8573\n",
            "Epoch 8/30\n",
            "3375/3375 [==============================] - 6s 2ms/step - loss: 0.3045 - accuracy: 0.8887 - val_loss: 0.3900 - val_accuracy: 0.8587\n",
            "Epoch 9/30\n",
            "3375/3375 [==============================] - 6s 2ms/step - loss: 0.2898 - accuracy: 0.8946 - val_loss: 0.3956 - val_accuracy: 0.8568\n",
            "Model Evaluation\n",
            "238/238 [==============================] - 0s 1ms/step - loss: 0.3952 - accuracy: 0.8568\n"
          ]
        },
        {
          "output_type": "display_data",
          "data": {
            "text/plain": [
              "<Figure size 576x360 with 1 Axes>"
            ],
            "image/png": "[encoded data removed]"
          },
          "metadata": {
            "needs_background": "light"
          }
        }
      ]
    },
    {
      "cell_type": "markdown",
      "metadata": {
        "id": "DCV8pwVzl9GK"
      },
      "source": [
        "\n",
        "## Exercise 2.3: Model Selection\n",
        "\n",
        "Hyperparameters are the parameters of the learning method itself which we have to specify a priori, i.e., before model fitting. In contrast, model parameters are parameters which arise as a result of the fit (the network weights). The aim of model selection is selecting the best hyperparameters for our deep network. Finding the right hyperparameters for a model can be crucial for the model performance on given data. For istance lets consider our model trained by using different values for the learning rate: "
      ]
    },
    {
      "cell_type": "code",
      "metadata": {
        "id": "Fw8Hs-AEmLKh"
      },
      "source": [
        "learning_rates = [1e-4, 1e-2, 1e-1]"
      ],
      "execution_count": 28,
      "outputs": []
    },
    {
      "cell_type": "code",
      "metadata": {
        "id": "mym4GOgUmWqD",
        "colab": {
          "base_uri": "https://localhost:8080/"
        },
        "outputId": "11bfb368-d220-45f4-9879-9d261212fe23"
      },
      "source": [
        "histories = []\n",
        "for learning_rate in learning_rates:\n",
        "    model = keras.models.Sequential([\n",
        "                                    tf.keras.Input(shape=(num_words,)),\n",
        "                                    keras.layers.Dense(16, activation=\"relu\"),\n",
        "                                    keras.layers.Dense(16, activation=\"relu\"),\n",
        "                                    keras.layers.Dense(4, activation=\"softmax\")\n",
        "                                     ])\n",
        "    model.compile(loss=\"sparse_categorical_crossentropy\",\n",
        "              optimizer=keras.optimizers.Adam(learning_rate=learning_rate),\n",
        "              metrics=[\"accuracy\"])\n",
        "              \n",
        "    callbacks = [keras.callbacks.EarlyStopping(patience=2)]\n",
        "\n",
        "    history = model.fit(X_train, y_train,\n",
        "                        validation_data=(X_valid, y_valid), epochs=10,\n",
        "                        callbacks=callbacks)\n",
        "    histories.append(history)\n",
        "    print(\"evaluation on test set\")\n",
        "    model.evaluate(X_test, y_test)"
      ],
      "execution_count": 29,
      "outputs": [
        {
          "output_type": "stream",
          "name": "stdout",
          "text": [
            "Epoch 1/10\n",
            "3375/3375 [==============================] - 5s 1ms/step - loss: 0.8445 - accuracy: 0.7034 - val_loss: 0.5164 - val_accuracy: 0.8266\n",
            "Epoch 2/10\n",
            "3375/3375 [==============================] - 5s 1ms/step - loss: 0.4624 - accuracy: 0.8419 - val_loss: 0.4501 - val_accuracy: 0.8462\n",
            "Epoch 3/10\n",
            "3375/3375 [==============================] - 5s 1ms/step - loss: 0.4245 - accuracy: 0.8526 - val_loss: 0.4348 - val_accuracy: 0.8493\n",
            "Epoch 4/10\n",
            "3375/3375 [==============================] - 5s 1ms/step - loss: 0.4103 - accuracy: 0.8559 - val_loss: 0.4260 - val_accuracy: 0.8493\n",
            "Epoch 5/10\n",
            "3375/3375 [==============================] - 5s 1ms/step - loss: 0.4025 - accuracy: 0.8575 - val_loss: 0.4224 - val_accuracy: 0.8511\n",
            "Epoch 6/10\n",
            "3375/3375 [==============================] - 5s 1ms/step - loss: 0.3973 - accuracy: 0.8590 - val_loss: 0.4188 - val_accuracy: 0.8505\n",
            "Epoch 7/10\n",
            "3375/3375 [==============================] - 5s 1ms/step - loss: 0.3934 - accuracy: 0.8597 - val_loss: 0.4162 - val_accuracy: 0.8528\n",
            "Epoch 8/10\n",
            "3375/3375 [==============================] - 5s 1ms/step - loss: 0.3902 - accuracy: 0.8601 - val_loss: 0.4146 - val_accuracy: 0.8541\n",
            "Epoch 9/10\n",
            "3375/3375 [==============================] - 5s 1ms/step - loss: 0.3874 - accuracy: 0.8617 - val_loss: 0.4122 - val_accuracy: 0.8533\n",
            "Epoch 10/10\n",
            "3375/3375 [==============================] - 5s 1ms/step - loss: 0.3850 - accuracy: 0.8616 - val_loss: 0.4116 - val_accuracy: 0.8534\n",
            "evaluation on test set\n",
            "238/238 [==============================] - 0s 1ms/step - loss: 0.4207 - accuracy: 0.8497\n",
            "Epoch 1/10\n",
            "3375/3375 [==============================] - 5s 1ms/step - loss: 0.4614 - accuracy: 0.8322 - val_loss: 0.4332 - val_accuracy: 0.8452\n",
            "Epoch 2/10\n",
            "3375/3375 [==============================] - 5s 1ms/step - loss: 0.4080 - accuracy: 0.8521 - val_loss: 0.4192 - val_accuracy: 0.8537\n",
            "Epoch 3/10\n",
            "3375/3375 [==============================] - 5s 1ms/step - loss: 0.3897 - accuracy: 0.8596 - val_loss: 0.4135 - val_accuracy: 0.8543\n",
            "Epoch 4/10\n",
            "3375/3375 [==============================] - 5s 1ms/step - loss: 0.3748 - accuracy: 0.8656 - val_loss: 0.4265 - val_accuracy: 0.8523\n",
            "Epoch 5/10\n",
            "3375/3375 [==============================] - 5s 2ms/step - loss: 0.3637 - accuracy: 0.8693 - val_loss: 0.4307 - val_accuracy: 0.8498\n",
            "evaluation on test set\n",
            "238/238 [==============================] - 0s 2ms/step - loss: 0.4424 - accuracy: 0.8438\n",
            "Epoch 1/10\n",
            "3375/3375 [==============================] - 6s 2ms/step - loss: 0.7108 - accuracy: 0.7567 - val_loss: 0.6743 - val_accuracy: 0.8015\n",
            "Epoch 2/10\n",
            "3375/3375 [==============================] - 5s 1ms/step - loss: 0.6600 - accuracy: 0.7999 - val_loss: 0.7280 - val_accuracy: 0.7676\n",
            "Epoch 3/10\n",
            "3375/3375 [==============================] - 5s 1ms/step - loss: 0.7945 - accuracy: 0.7144 - val_loss: 0.9578 - val_accuracy: 0.6055\n",
            "evaluation on test set\n",
            "238/238 [==============================] - 0s 1ms/step - loss: 0.9976 - accuracy: 0.5996\n"
          ]
        }
      ]
    },
    {
      "cell_type": "markdown",
      "metadata": {
        "id": "RzTSjfwptkHJ"
      },
      "source": [
        "Let's plot the results"
      ]
    },
    {
      "cell_type": "code",
      "metadata": {
        "id": "cIlN1vlioIYh",
        "colab": {
          "base_uri": "https://localhost:8080/",
          "height": 978
        },
        "outputId": "e4e46f66-3cdd-40ff-bad3-f7f3e30432fc"
      },
      "source": [
        "for learning_rate, history in zip(learning_rates, histories):\n",
        "    print(\"Learning rate:\", learning_rate)\n",
        "    plot_learning_acc_and_loss(history)"
      ],
      "execution_count": 32,
      "outputs": [
        {
          "output_type": "stream",
          "name": "stdout",
          "text": [
            "Learning rate: 0.0001\n"
          ]
        },
        {
          "output_type": "display_data",
          "data": {
            "text/plain": [
              "<Figure size 576x360 with 1 Axes>"
            ],
            "image/png": "[encoded data removed]"
          },
          "metadata": {
            "needs_background": "light"
          }
        },
        {
          "output_type": "stream",
          "name": "stdout",
          "text": [
            "Learning rate: 0.01\n"
          ]
        },
        {
          "output_type": "display_data",
          "data": {
            "text/plain": [
              "<Figure size 576x360 with 1 Axes>"
            ],
            "image/png": "[encoded data removed]"
          },
          "metadata": {
            "needs_background": "light"
          }
        },
        {
          "output_type": "stream",
          "name": "stdout",
          "text": [
            "Learning rate: 0.1\n"
          ]
        },
        {
          "output_type": "display_data",
          "data": {
            "text/plain": [
              "<Figure size 576x360 with 1 Axes>"
            ],
            "image/png": "[encoded data removed]"
          },
          "metadata": {
            "needs_background": "light"
          }
        }
      ]
    },
    {
      "cell_type": "markdown",
      "metadata": {
        "id": "_JntujSWq3e5"
      },
      "source": [
        "### [TO COMPLETE] GRID Search:\n",
        "\n",
        "Since a deep net has many hyperparameters, in order to find the best ones, we have to consider all the possible combinations of all of the possible values. One common method to perform this complex task is Grid-Search.\n",
        "Given a set of values for each hyper-parameter, Grid-Search will build a model on each parameter combination possible. It iterates through every parameter combination and stores a model for each combination. Finally, the model that obtained the best result on the validation set will be select.\n",
        "\n",
        "In order to perfrom Grid-Search we will use the `GridSearchCV` class from `scikit-learn`."
      ]
    },
    {
      "cell_type": "markdown",
      "metadata": {
        "id": "CPz629YSrDhN"
      },
      "source": [
        "Let's Create a `build_model()` function that takes two arguments, `n_neurons` and `learning_rate`, and builds, compiles and returns a model with the given number of of neurons and the given learning rate.\n",
        "In order to limit the time requirements of the process we will consider only these two hyper-paramters.\n",
        "\n",
        "[TO COMPLETE] in the following code cell define the `build_model` function."
      ]
    },
    {
      "cell_type": "code",
      "metadata": {
        "id": "oGSKWTTtqxZ4",
        "colab": {
          "base_uri": "https://localhost:8080/"
        },
        "outputId": "de590eb5-0f38-456f-aa37-4999cbb4d133"
      },
      "source": [
        "def build_model(n_units=30, learning_rate=1e-3):\n",
        "    # The function has to build a model similar to the ones we used in previuous execises:\n",
        "    #- a input layer \n",
        "    #- one or two Dense layers composed of n_units and that exploit Relu activation function \n",
        "    #- the output layer that uses the softmax activation function\n",
        "    # Then, the model has to be compiled.\n",
        "    model = keras.models.Sequential([\n",
        "      tf.keras.Input(shape=(num_words,)),\n",
        "      keras.layers.Dense(n_units, activation=\"relu\"),\n",
        "      keras.layers.Dense(n_units, activation=\"relu\"),\n",
        "      keras.layers.Dense(4, activation=\"softmax\")\n",
        "    ])\n",
        "    \n",
        "    # [TO COMPLETE] Then, the model has to be compiled.\n",
        "    model.compile(loss=\"sparse_categorical_crossentropy\",\n",
        "              optimizer=keras.optimizers.Adam(learning_rate=learning_rate),\n",
        "              metrics=[\"accuracy\"])\n",
        "    \n",
        "    return model\n",
        "\n",
        "    \n",
        "#Create a keras.wrappers.scikit_learn.KerasRegressor and pass the build_model \n",
        "#function to the constructor. This gives you a Scikit-Learn compatible predictor\n",
        "keras_reg = keras.wrappers.scikit_learn.KerasRegressor(build_model)"
      ],
      "execution_count": 33,
      "outputs": [
        {
          "output_type": "stream",
          "name": "stderr",
          "text": [
            "/usr/local/lib/python3.7/dist-packages/ipykernel_launcher.py:24: DeprecationWarning: KerasRegressor is deprecated, use Sci-Keras (https://github.com/adriangb/scikeras) instead. See https://www.adriangb.com/scikeras/stable/migration.html for help migrating.\n"
          ]
        }
      ]
    },
    {
      "cell_type": "markdown",
      "metadata": {
        "id": "PS6W3A2LxDg5"
      },
      "source": [
        "Let's define the lists of hyper-parameters' values. Also in this case, we use a very limited size lists, but in a real-world scenario a reasonable amount of possible values should be considered (try to add some values and check how much the time required to perform the Grid-Search increases)"
      ]
    },
    {
      "cell_type": "code",
      "metadata": {
        "id": "y-uldCW3ru24"
      },
      "source": [
        "param_distribs = {\n",
        "    \"n_units\": [15, 30, 50],# [TO COMPLETE] insert a list that contains few (2 or 3) reasonable value\n",
        "    \"learning_rate\": [1e-3, 5e-3, 1e-4] #[TO COMPLETE] insert a list that contains few (2 or 3) reasonable values\n",
        "    #Check how the time required to perform GRID search increases when increasing the number of values for each hyper-parameter.\n",
        "}"
      ],
      "execution_count": 36,
      "outputs": []
    },
    {
      "cell_type": "markdown",
      "metadata": {
        "id": "bEiBxVYtx_sK"
      },
      "source": [
        "Use a `sklearn.model_selection.GridSearchCV` to search the hyperparameter space of your `KerasRegressor`"
      ]
    },
    {
      "cell_type": "code",
      "metadata": {
        "id": "iobF2Bvdr9ER"
      },
      "source": [
        "from sklearn.model_selection import GridSearchCV\n",
        "\n",
        "grid_search = GridSearchCV(keras_reg, param_distribs)"
      ],
      "execution_count": 37,
      "outputs": []
    },
    {
      "cell_type": "markdown",
      "metadata": {
        "id": "LVGMcZz_yKSX"
      },
      "source": [
        "Run the Grid-Search"
      ]
    },
    {
      "cell_type": "code",
      "metadata": {
        "id": "-BA3vgTjr-hw",
        "colab": {
          "base_uri": "https://localhost:8080/"
        },
        "outputId": "f476365f-bd78-4b8b-86ce-0d49218755f1"
      },
      "source": [
        "grid_search.fit(X_train.numpy(), y_train.numpy(), epochs=5,#The number of epochs can be modified (check what happens by increasing it)\n",
        "                validation_data=(X_valid.numpy(), y_valid.numpy()))"
      ],
      "execution_count": 38,
      "outputs": [
        {
          "output_type": "stream",
          "name": "stdout",
          "text": [
            "Epoch 1/5\n",
            "2700/2700 [==============================] - 5s 2ms/step - loss: 0.5019 - accuracy: 0.8192 - val_loss: 0.4309 - val_accuracy: 0.8459\n",
            "Epoch 2/5\n",
            "2700/2700 [==============================] - 4s 2ms/step - loss: 0.4055 - accuracy: 0.8534 - val_loss: 0.4073 - val_accuracy: 0.8544\n",
            "Epoch 3/5\n",
            "2700/2700 [==============================] - 4s 2ms/step - loss: 0.3875 - accuracy: 0.8587 - val_loss: 0.4053 - val_accuracy: 0.8537\n",
            "Epoch 4/5\n",
            "2700/2700 [==============================] - 4s 1ms/step - loss: 0.3734 - accuracy: 0.8632 - val_loss: 0.3990 - val_accuracy: 0.8563\n",
            "Epoch 5/5\n",
            "2700/2700 [==============================] - 4s 2ms/step - loss: 0.3605 - accuracy: 0.8678 - val_loss: 0.3995 - val_accuracy: 0.8557\n",
            "675/675 [==============================] - 1s 970us/step - loss: 0.3877 - accuracy: 0.8595\n",
            "Epoch 1/5\n",
            "2700/2700 [==============================] - 4s 2ms/step - loss: 0.4958 - accuracy: 0.8166 - val_loss: 0.4276 - val_accuracy: 0.8474\n",
            "Epoch 2/5\n",
            "2700/2700 [==============================] - 4s 1ms/step - loss: 0.3982 - accuracy: 0.8557 - val_loss: 0.4072 - val_accuracy: 0.8523\n",
            "Epoch 3/5\n",
            "2700/2700 [==============================] - 4s 1ms/step - loss: 0.3796 - accuracy: 0.8608 - val_loss: 0.4079 - val_accuracy: 0.8526\n",
            "Epoch 4/5\n",
            "2700/2700 [==============================] - 4s 1ms/step - loss: 0.3667 - accuracy: 0.8650 - val_loss: 0.4046 - val_accuracy: 0.8517\n",
            "Epoch 5/5\n",
            "2700/2700 [==============================] - 4s 2ms/step - loss: 0.3557 - accuracy: 0.8695 - val_loss: 0.4019 - val_accuracy: 0.8539\n",
            "675/675 [==============================] - 1s 1ms/step - loss: 0.3970 - accuracy: 0.8525\n",
            "Epoch 1/5\n",
            "2700/2700 [==============================] - 4s 2ms/step - loss: 0.4860 - accuracy: 0.8272 - val_loss: 0.4286 - val_accuracy: 0.8476\n",
            "Epoch 2/5\n",
            "2700/2700 [==============================] - 4s 2ms/step - loss: 0.3992 - accuracy: 0.8552 - val_loss: 0.4094 - val_accuracy: 0.8503\n",
            "Epoch 3/5\n",
            "2700/2700 [==============================] - 4s 1ms/step - loss: 0.3820 - accuracy: 0.8601 - val_loss: 0.4041 - val_accuracy: 0.8527\n",
            "Epoch 4/5\n",
            "2700/2700 [==============================] - 4s 1ms/step - loss: 0.3678 - accuracy: 0.8654 - val_loss: 0.4088 - val_accuracy: 0.8519\n",
            "Epoch 5/5\n",
            "2700/2700 [==============================] - 4s 1ms/step - loss: 0.3555 - accuracy: 0.8689 - val_loss: 0.3999 - val_accuracy: 0.8560\n",
            "675/675 [==============================] - 1s 1ms/step - loss: 0.4067 - accuracy: 0.8506\n",
            "Epoch 1/5\n",
            "2700/2700 [==============================] - 5s 2ms/step - loss: 0.4943 - accuracy: 0.8212 - val_loss: 0.4198 - val_accuracy: 0.8499\n",
            "Epoch 2/5\n",
            "2700/2700 [==============================] - 4s 1ms/step - loss: 0.4022 - accuracy: 0.8536 - val_loss: 0.4067 - val_accuracy: 0.8533\n",
            "Epoch 3/5\n",
            "2700/2700 [==============================] - 4s 1ms/step - loss: 0.3825 - accuracy: 0.8581 - val_loss: 0.4012 - val_accuracy: 0.8537\n",
            "Epoch 4/5\n",
            "2700/2700 [==============================] - 4s 2ms/step - loss: 0.3674 - accuracy: 0.8637 - val_loss: 0.4028 - val_accuracy: 0.8527\n",
            "Epoch 5/5\n",
            "2700/2700 [==============================] - 4s 1ms/step - loss: 0.3540 - accuracy: 0.8680 - val_loss: 0.3958 - val_accuracy: 0.8556\n",
            "675/675 [==============================] - 1s 953us/step - loss: 0.3906 - accuracy: 0.8594\n",
            "Epoch 1/5\n",
            "2700/2700 [==============================] - 4s 2ms/step - loss: 0.4970 - accuracy: 0.8207 - val_loss: 0.4249 - val_accuracy: 0.8520\n",
            "Epoch 2/5\n",
            "2700/2700 [==============================] - 4s 1ms/step - loss: 0.4017 - accuracy: 0.8541 - val_loss: 0.4112 - val_accuracy: 0.8523\n",
            "Epoch 3/5\n",
            "2700/2700 [==============================] - 4s 2ms/step - loss: 0.3823 - accuracy: 0.8604 - val_loss: 0.4058 - val_accuracy: 0.8543\n",
            "Epoch 4/5\n",
            "2700/2700 [==============================] - 4s 1ms/step - loss: 0.3662 - accuracy: 0.8650 - val_loss: 0.4030 - val_accuracy: 0.8562\n",
            "Epoch 5/5\n",
            "2700/2700 [==============================] - 4s 1ms/step - loss: 0.3527 - accuracy: 0.8696 - val_loss: 0.4040 - val_accuracy: 0.8553\n",
            "675/675 [==============================] - 1s 988us/step - loss: 0.4098 - accuracy: 0.8523\n",
            "Epoch 1/5\n",
            "2700/2700 [==============================] - 7s 2ms/step - loss: 0.4775 - accuracy: 0.8277 - val_loss: 0.4325 - val_accuracy: 0.8447\n",
            "Epoch 2/5\n",
            "2700/2700 [==============================] - 5s 2ms/step - loss: 0.3961 - accuracy: 0.8552 - val_loss: 0.4025 - val_accuracy: 0.8536\n",
            "Epoch 3/5\n",
            "2700/2700 [==============================] - 5s 2ms/step - loss: 0.3692 - accuracy: 0.8637 - val_loss: 0.4027 - val_accuracy: 0.8545\n",
            "Epoch 4/5\n",
            "2700/2700 [==============================] - 5s 2ms/step - loss: 0.3462 - accuracy: 0.8728 - val_loss: 0.3984 - val_accuracy: 0.8558\n",
            "Epoch 5/5\n",
            "2700/2700 [==============================] - 5s 2ms/step - loss: 0.3236 - accuracy: 0.8808 - val_loss: 0.4042 - val_accuracy: 0.8541\n",
            "675/675 [==============================] - 1s 1ms/step - loss: 0.3884 - accuracy: 0.8605\n",
            "Epoch 1/5\n",
            "2700/2700 [==============================] - 6s 2ms/step - loss: 0.4759 - accuracy: 0.8290 - val_loss: 0.4284 - val_accuracy: 0.8471\n",
            "Epoch 2/5\n",
            "2700/2700 [==============================] - 5s 2ms/step - loss: 0.3941 - accuracy: 0.8556 - val_loss: 0.4078 - val_accuracy: 0.8531\n",
            "Epoch 3/5\n",
            "2700/2700 [==============================] - 5s 2ms/step - loss: 0.3674 - accuracy: 0.8641 - val_loss: 0.4069 - val_accuracy: 0.8536\n",
            "Epoch 4/5\n",
            "2700/2700 [==============================] - 5s 2ms/step - loss: 0.3444 - accuracy: 0.8734 - val_loss: 0.4051 - val_accuracy: 0.8553\n",
            "Epoch 5/5\n",
            "2700/2700 [==============================] - 5s 2ms/step - loss: 0.3228 - accuracy: 0.8810 - val_loss: 0.4072 - val_accuracy: 0.8561\n",
            "675/675 [==============================] - 1s 1ms/step - loss: 0.4000 - accuracy: 0.8544\n",
            "Epoch 1/5\n",
            "2700/2700 [==============================] - 5s 2ms/step - loss: 0.4737 - accuracy: 0.8299 - val_loss: 0.4255 - val_accuracy: 0.8482\n",
            "Epoch 2/5\n",
            "2700/2700 [==============================] - 5s 2ms/step - loss: 0.3926 - accuracy: 0.8569 - val_loss: 0.4057 - val_accuracy: 0.8527\n",
            "Epoch 3/5\n",
            "2700/2700 [==============================] - 5s 2ms/step - loss: 0.3661 - accuracy: 0.8651 - val_loss: 0.3967 - val_accuracy: 0.8549\n",
            "Epoch 4/5\n",
            "2700/2700 [==============================] - 5s 2ms/step - loss: 0.3408 - accuracy: 0.8748 - val_loss: 0.4016 - val_accuracy: 0.8557\n",
            "Epoch 5/5\n",
            "2700/2700 [==============================] - 5s 2ms/step - loss: 0.3179 - accuracy: 0.8838 - val_loss: 0.3992 - val_accuracy: 0.8563\n",
            "675/675 [==============================] - 1s 1ms/step - loss: 0.4072 - accuracy: 0.8523\n",
            "Epoch 1/5\n",
            "2700/2700 [==============================] - 5s 2ms/step - loss: 0.4802 - accuracy: 0.8268 - val_loss: 0.4204 - val_accuracy: 0.8493\n",
            "Epoch 2/5\n",
            "2700/2700 [==============================] - 5s 2ms/step - loss: 0.3984 - accuracy: 0.8542 - val_loss: 0.4052 - val_accuracy: 0.8551\n",
            "Epoch 3/5\n",
            "2700/2700 [==============================] - 5s 2ms/step - loss: 0.3725 - accuracy: 0.8628 - val_loss: 0.3963 - val_accuracy: 0.8577\n",
            "Epoch 4/5\n",
            "2700/2700 [==============================] - 5s 2ms/step - loss: 0.3483 - accuracy: 0.8715 - val_loss: 0.4010 - val_accuracy: 0.8564\n",
            "Epoch 5/5\n",
            "2700/2700 [==============================] - 5s 2ms/step - loss: 0.3264 - accuracy: 0.8787 - val_loss: 0.3986 - val_accuracy: 0.8570\n",
            "675/675 [==============================] - 1s 1ms/step - loss: 0.3890 - accuracy: 0.8608\n",
            "Epoch 1/5\n",
            "2700/2700 [==============================] - 6s 2ms/step - loss: 0.4772 - accuracy: 0.8286 - val_loss: 0.4168 - val_accuracy: 0.8513\n",
            "Epoch 2/5\n",
            "2700/2700 [==============================] - 5s 2ms/step - loss: 0.3936 - accuracy: 0.8554 - val_loss: 0.4048 - val_accuracy: 0.8518\n",
            "Epoch 3/5\n",
            "2700/2700 [==============================] - 5s 2ms/step - loss: 0.3678 - accuracy: 0.8644 - val_loss: 0.3978 - val_accuracy: 0.8567\n",
            "Epoch 4/5\n",
            "2700/2700 [==============================] - 5s 2ms/step - loss: 0.3448 - accuracy: 0.8727 - val_loss: 0.3961 - val_accuracy: 0.8569\n",
            "Epoch 5/5\n",
            "2700/2700 [==============================] - 5s 2ms/step - loss: 0.3226 - accuracy: 0.8810 - val_loss: 0.4029 - val_accuracy: 0.8564\n",
            "675/675 [==============================] - 1s 1ms/step - loss: 0.4086 - accuracy: 0.8561\n",
            "Epoch 1/5\n",
            "2700/2700 [==============================] - 6s 2ms/step - loss: 0.4747 - accuracy: 0.8287 - val_loss: 0.4345 - val_accuracy: 0.8443\n",
            "Epoch 2/5\n",
            "2700/2700 [==============================] - 5s 2ms/step - loss: 0.3882 - accuracy: 0.8578 - val_loss: 0.3986 - val_accuracy: 0.8567\n",
            "Epoch 3/5\n",
            "2700/2700 [==============================] - 6s 2ms/step - loss: 0.3490 - accuracy: 0.8725 - val_loss: 0.4004 - val_accuracy: 0.8582\n",
            "Epoch 4/5\n",
            "2700/2700 [==============================] - 5s 2ms/step - loss: 0.3132 - accuracy: 0.8861 - val_loss: 0.4047 - val_accuracy: 0.8579\n",
            "Epoch 5/5\n",
            "2700/2700 [==============================] - 5s 2ms/step - loss: 0.2793 - accuracy: 0.8988 - val_loss: 0.4253 - val_accuracy: 0.8556\n",
            "675/675 [==============================] - 1s 1ms/step - loss: 0.4104 - accuracy: 0.8578\n",
            "Epoch 1/5\n",
            "2700/2700 [==============================] - 6s 2ms/step - loss: 0.4715 - accuracy: 0.8285 - val_loss: 0.4249 - val_accuracy: 0.8479\n",
            "Epoch 2/5\n",
            "2700/2700 [==============================] - 6s 2ms/step - loss: 0.3837 - accuracy: 0.8593 - val_loss: 0.4046 - val_accuracy: 0.8543\n",
            "Epoch 3/5\n",
            "2700/2700 [==============================] - 5s 2ms/step - loss: 0.3435 - accuracy: 0.8745 - val_loss: 0.4050 - val_accuracy: 0.8553\n",
            "Epoch 4/5\n",
            "2700/2700 [==============================] - 5s 2ms/step - loss: 0.3060 - accuracy: 0.8888 - val_loss: 0.4134 - val_accuracy: 0.8547\n",
            "Epoch 5/5\n",
            "2700/2700 [==============================] - 5s 2ms/step - loss: 0.2710 - accuracy: 0.9023 - val_loss: 0.4273 - val_accuracy: 0.8528\n",
            "675/675 [==============================] - 1s 1ms/step - loss: 0.4224 - accuracy: 0.8521\n",
            "Epoch 1/5\n",
            "2700/2700 [==============================] - 5s 2ms/step - loss: 0.4681 - accuracy: 0.8317 - val_loss: 0.4201 - val_accuracy: 0.8476\n",
            "Epoch 2/5\n",
            "2700/2700 [==============================] - 5s 2ms/step - loss: 0.3818 - accuracy: 0.8608 - val_loss: 0.3974 - val_accuracy: 0.8554\n",
            "Epoch 3/5\n",
            "2700/2700 [==============================] - 5s 2ms/step - loss: 0.3461 - accuracy: 0.8736 - val_loss: 0.3931 - val_accuracy: 0.8587\n",
            "Epoch 4/5\n",
            "2700/2700 [==============================] - 5s 2ms/step - loss: 0.3116 - accuracy: 0.8868 - val_loss: 0.4017 - val_accuracy: 0.8602\n",
            "Epoch 5/5\n",
            "2700/2700 [==============================] - 5s 2ms/step - loss: 0.2782 - accuracy: 0.8997 - val_loss: 0.4157 - val_accuracy: 0.8572\n",
            "675/675 [==============================] - 1s 1ms/step - loss: 0.4219 - accuracy: 0.8533\n",
            "Epoch 1/5\n",
            "2700/2700 [==============================] - 6s 2ms/step - loss: 0.4739 - accuracy: 0.8280 - val_loss: 0.4167 - val_accuracy: 0.8501\n",
            "Epoch 2/5\n",
            "2700/2700 [==============================] - 5s 2ms/step - loss: 0.3878 - accuracy: 0.8577 - val_loss: 0.3998 - val_accuracy: 0.8562\n",
            "Epoch 3/5\n",
            "2700/2700 [==============================] - 5s 2ms/step - loss: 0.3505 - accuracy: 0.8712 - val_loss: 0.3976 - val_accuracy: 0.8564\n",
            "Epoch 4/5\n",
            "2700/2700 [==============================] - 5s 2ms/step - loss: 0.3139 - accuracy: 0.8863 - val_loss: 0.4075 - val_accuracy: 0.8521\n",
            "Epoch 5/5\n",
            "2700/2700 [==============================] - 5s 2ms/step - loss: 0.2792 - accuracy: 0.8982 - val_loss: 0.4171 - val_accuracy: 0.8544\n",
            "675/675 [==============================] - 1s 1ms/step - loss: 0.4141 - accuracy: 0.8566\n",
            "Epoch 1/5\n",
            "2700/2700 [==============================] - 6s 2ms/step - loss: 0.4723 - accuracy: 0.8285 - val_loss: 0.4152 - val_accuracy: 0.8510\n",
            "Epoch 2/5\n",
            "2700/2700 [==============================] - 5s 2ms/step - loss: 0.3827 - accuracy: 0.8588 - val_loss: 0.4032 - val_accuracy: 0.8537\n",
            "Epoch 3/5\n",
            "2700/2700 [==============================] - 5s 2ms/step - loss: 0.3441 - accuracy: 0.8735 - val_loss: 0.3976 - val_accuracy: 0.8553\n",
            "Epoch 4/5\n",
            "2700/2700 [==============================] - 5s 2ms/step - loss: 0.3076 - accuracy: 0.8876 - val_loss: 0.4044 - val_accuracy: 0.8557\n",
            "Epoch 5/5\n",
            "2700/2700 [==============================] - 6s 2ms/step - loss: 0.2716 - accuracy: 0.9024 - val_loss: 0.4275 - val_accuracy: 0.8534\n",
            "675/675 [==============================] - 1s 1ms/step - loss: 0.4282 - accuracy: 0.8540\n",
            "Epoch 1/5\n",
            "2700/2700 [==============================] - 5s 2ms/step - loss: 0.4655 - accuracy: 0.8303 - val_loss: 0.4403 - val_accuracy: 0.8412\n",
            "Epoch 2/5\n",
            "2700/2700 [==============================] - 5s 2ms/step - loss: 0.3994 - accuracy: 0.8530 - val_loss: 0.4065 - val_accuracy: 0.8525\n",
            "Epoch 3/5\n",
            "2700/2700 [==============================] - 4s 2ms/step - loss: 0.3746 - accuracy: 0.8620 - val_loss: 0.4145 - val_accuracy: 0.8517\n",
            "Epoch 4/5\n",
            "2700/2700 [==============================] - 5s 2ms/step - loss: 0.3585 - accuracy: 0.8677 - val_loss: 0.4109 - val_accuracy: 0.8525\n",
            "Epoch 5/5\n",
            "2700/2700 [==============================] - 4s 2ms/step - loss: 0.3426 - accuracy: 0.8739 - val_loss: 0.4206 - val_accuracy: 0.8499\n",
            "675/675 [==============================] - 1s 1ms/step - loss: 0.4047 - accuracy: 0.8537\n",
            "Epoch 1/5\n",
            "2700/2700 [==============================] - 5s 2ms/step - loss: 0.4646 - accuracy: 0.8309 - val_loss: 0.4260 - val_accuracy: 0.8480\n",
            "Epoch 2/5\n",
            "2700/2700 [==============================] - 4s 2ms/step - loss: 0.3977 - accuracy: 0.8546 - val_loss: 0.4190 - val_accuracy: 0.8509\n",
            "Epoch 3/5\n",
            "2700/2700 [==============================] - 5s 2ms/step - loss: 0.3746 - accuracy: 0.8624 - val_loss: 0.4185 - val_accuracy: 0.8506\n",
            "Epoch 4/5\n",
            "2700/2700 [==============================] - 4s 2ms/step - loss: 0.3578 - accuracy: 0.8687 - val_loss: 0.4162 - val_accuracy: 0.8531\n",
            "Epoch 5/5\n",
            "2700/2700 [==============================] - 5s 2ms/step - loss: 0.3426 - accuracy: 0.8745 - val_loss: 0.4300 - val_accuracy: 0.8513\n",
            "675/675 [==============================] - 1s 1ms/step - loss: 0.4262 - accuracy: 0.8485\n",
            "Epoch 1/5\n",
            "2700/2700 [==============================] - 5s 2ms/step - loss: 0.4615 - accuracy: 0.8323 - val_loss: 0.4244 - val_accuracy: 0.8455\n",
            "Epoch 2/5\n",
            "2700/2700 [==============================] - 5s 2ms/step - loss: 0.3942 - accuracy: 0.8550 - val_loss: 0.4101 - val_accuracy: 0.8502\n",
            "Epoch 3/5\n",
            "2700/2700 [==============================] - 5s 2ms/step - loss: 0.3696 - accuracy: 0.8641 - val_loss: 0.4061 - val_accuracy: 0.8537\n",
            "Epoch 4/5\n",
            "2700/2700 [==============================] - 5s 2ms/step - loss: 0.3531 - accuracy: 0.8708 - val_loss: 0.4064 - val_accuracy: 0.8545\n",
            "Epoch 5/5\n",
            "2700/2700 [==============================] - 4s 2ms/step - loss: 0.3388 - accuracy: 0.8758 - val_loss: 0.4172 - val_accuracy: 0.8534\n",
            "675/675 [==============================] - 1s 1ms/step - loss: 0.4298 - accuracy: 0.8469\n",
            "Epoch 1/5\n",
            "2700/2700 [==============================] - 5s 2ms/step - loss: 0.4670 - accuracy: 0.8297 - val_loss: 0.4260 - val_accuracy: 0.8456\n",
            "Epoch 2/5\n",
            "2700/2700 [==============================] - 5s 2ms/step - loss: 0.3992 - accuracy: 0.8534 - val_loss: 0.4169 - val_accuracy: 0.8495\n",
            "Epoch 3/5\n",
            "2700/2700 [==============================] - 5s 2ms/step - loss: 0.3742 - accuracy: 0.8623 - val_loss: 0.4072 - val_accuracy: 0.8537\n",
            "Epoch 4/5\n",
            "2700/2700 [==============================] - 5s 2ms/step - loss: 0.3571 - accuracy: 0.8694 - val_loss: 0.4109 - val_accuracy: 0.8507\n",
            "Epoch 5/5\n",
            "2700/2700 [==============================] - 5s 2ms/step - loss: 0.3437 - accuracy: 0.8734 - val_loss: 0.4085 - val_accuracy: 0.8527\n",
            "675/675 [==============================] - 1s 1ms/step - loss: 0.4012 - accuracy: 0.8574\n",
            "Epoch 1/5\n",
            "2700/2700 [==============================] - 5s 2ms/step - loss: 0.4638 - accuracy: 0.8315 - val_loss: 0.4232 - val_accuracy: 0.8490\n",
            "Epoch 2/5\n",
            "2700/2700 [==============================] - 5s 2ms/step - loss: 0.3981 - accuracy: 0.8533 - val_loss: 0.4195 - val_accuracy: 0.8472\n",
            "Epoch 3/5\n",
            "2700/2700 [==============================] - 5s 2ms/step - loss: 0.3749 - accuracy: 0.8618 - val_loss: 0.4091 - val_accuracy: 0.8519\n",
            "Epoch 4/5\n",
            "2700/2700 [==============================] - 5s 2ms/step - loss: 0.3587 - accuracy: 0.8684 - val_loss: 0.4161 - val_accuracy: 0.8476\n",
            "Epoch 5/5\n",
            "2700/2700 [==============================] - 5s 2ms/step - loss: 0.3437 - accuracy: 0.8736 - val_loss: 0.4178 - val_accuracy: 0.8501\n",
            "675/675 [==============================] - 1s 1ms/step - loss: 0.4250 - accuracy: 0.8472\n",
            "Epoch 1/5\n",
            "2700/2700 [==============================] - 6s 2ms/step - loss: 0.4644 - accuracy: 0.8318 - val_loss: 0.4532 - val_accuracy: 0.8376\n",
            "Epoch 2/5\n",
            "2700/2700 [==============================] - 5s 2ms/step - loss: 0.3936 - accuracy: 0.8570 - val_loss: 0.4126 - val_accuracy: 0.8567\n",
            "Epoch 3/5\n",
            "2700/2700 [==============================] - 5s 2ms/step - loss: 0.3575 - accuracy: 0.8688 - val_loss: 0.4102 - val_accuracy: 0.8551\n",
            "Epoch 4/5\n",
            "2700/2700 [==============================] - 5s 2ms/step - loss: 0.3281 - accuracy: 0.8799 - val_loss: 0.4114 - val_accuracy: 0.8534\n",
            "Epoch 5/5\n",
            "2700/2700 [==============================] - 5s 2ms/step - loss: 0.3016 - accuracy: 0.8895 - val_loss: 0.4397 - val_accuracy: 0.8530\n",
            "675/675 [==============================] - 1s 1ms/step - loss: 0.4306 - accuracy: 0.8504\n",
            "Epoch 1/5\n",
            "2700/2700 [==============================] - 5s 2ms/step - loss: 0.4602 - accuracy: 0.8320 - val_loss: 0.4182 - val_accuracy: 0.8481\n",
            "Epoch 2/5\n",
            "2700/2700 [==============================] - 5s 2ms/step - loss: 0.3888 - accuracy: 0.8583 - val_loss: 0.4171 - val_accuracy: 0.8518\n",
            "Epoch 3/5\n",
            "2700/2700 [==============================] - 5s 2ms/step - loss: 0.3541 - accuracy: 0.8706 - val_loss: 0.4201 - val_accuracy: 0.8540\n",
            "Epoch 4/5\n",
            "2700/2700 [==============================] - 5s 2ms/step - loss: 0.3251 - accuracy: 0.8818 - val_loss: 0.4217 - val_accuracy: 0.8528\n",
            "Epoch 5/5\n",
            "2700/2700 [==============================] - 5s 2ms/step - loss: 0.2983 - accuracy: 0.8926 - val_loss: 0.4344 - val_accuracy: 0.8515\n",
            "675/675 [==============================] - 1s 1ms/step - loss: 0.4350 - accuracy: 0.8470\n",
            "Epoch 1/5\n",
            "2700/2700 [==============================] - 6s 2ms/step - loss: 0.4595 - accuracy: 0.8338 - val_loss: 0.4234 - val_accuracy: 0.8470\n",
            "Epoch 2/5\n",
            "2700/2700 [==============================] - 5s 2ms/step - loss: 0.3897 - accuracy: 0.8580 - val_loss: 0.4104 - val_accuracy: 0.8496\n",
            "Epoch 3/5\n",
            "2700/2700 [==============================] - 5s 2ms/step - loss: 0.3562 - accuracy: 0.8702 - val_loss: 0.4049 - val_accuracy: 0.8500\n",
            "Epoch 4/5\n",
            "2700/2700 [==============================] - 5s 2ms/step - loss: 0.3268 - accuracy: 0.8800 - val_loss: 0.4275 - val_accuracy: 0.8487\n",
            "Epoch 5/5\n",
            "2700/2700 [==============================] - 5s 2ms/step - loss: 0.3010 - accuracy: 0.8899 - val_loss: 0.4373 - val_accuracy: 0.8473\n",
            "675/675 [==============================] - 1s 1ms/step - loss: 0.4537 - accuracy: 0.8419\n",
            "Epoch 1/5\n",
            "2700/2700 [==============================] - 6s 2ms/step - loss: 0.4638 - accuracy: 0.8308 - val_loss: 0.4333 - val_accuracy: 0.8425\n",
            "Epoch 2/5\n",
            "2700/2700 [==============================] - 5s 2ms/step - loss: 0.3919 - accuracy: 0.8552 - val_loss: 0.4195 - val_accuracy: 0.8507\n",
            "Epoch 3/5\n",
            "2700/2700 [==============================] - 5s 2ms/step - loss: 0.3567 - accuracy: 0.8689 - val_loss: 0.4074 - val_accuracy: 0.8517\n",
            "Epoch 4/5\n",
            "2700/2700 [==============================] - 5s 2ms/step - loss: 0.3271 - accuracy: 0.8804 - val_loss: 0.4297 - val_accuracy: 0.8482\n",
            "Epoch 5/5\n",
            "2700/2700 [==============================] - 5s 2ms/step - loss: 0.3023 - accuracy: 0.8896 - val_loss: 0.4325 - val_accuracy: 0.8487\n",
            "675/675 [==============================] - 1s 1ms/step - loss: 0.4245 - accuracy: 0.8543\n",
            "Epoch 1/5\n",
            "2700/2700 [==============================] - 5s 2ms/step - loss: 0.4609 - accuracy: 0.8319 - val_loss: 0.4241 - val_accuracy: 0.8478\n",
            "Epoch 2/5\n",
            "2700/2700 [==============================] - 5s 2ms/step - loss: 0.3888 - accuracy: 0.8583 - val_loss: 0.4141 - val_accuracy: 0.8525\n",
            "Epoch 3/5\n",
            "2700/2700 [==============================] - 5s 2ms/step - loss: 0.3556 - accuracy: 0.8708 - val_loss: 0.4094 - val_accuracy: 0.8538\n",
            "Epoch 4/5\n",
            "2700/2700 [==============================] - 5s 2ms/step - loss: 0.3266 - accuracy: 0.8805 - val_loss: 0.4237 - val_accuracy: 0.8474\n",
            "Epoch 5/5\n",
            "2700/2700 [==============================] - 5s 2ms/step - loss: 0.3029 - accuracy: 0.8894 - val_loss: 0.4369 - val_accuracy: 0.8486\n",
            "675/675 [==============================] - 1s 1ms/step - loss: 0.4395 - accuracy: 0.8510\n",
            "Epoch 1/5\n",
            "2700/2700 [==============================] - 6s 2ms/step - loss: 0.4649 - accuracy: 0.8304 - val_loss: 0.4365 - val_accuracy: 0.8453\n",
            "Epoch 2/5\n",
            "2700/2700 [==============================] - 6s 2ms/step - loss: 0.3884 - accuracy: 0.8588 - val_loss: 0.4084 - val_accuracy: 0.8550\n",
            "Epoch 3/5\n",
            "2700/2700 [==============================] - 5s 2ms/step - loss: 0.3426 - accuracy: 0.8752 - val_loss: 0.4224 - val_accuracy: 0.8564\n",
            "Epoch 4/5\n",
            "2700/2700 [==============================] - 5s 2ms/step - loss: 0.3009 - accuracy: 0.8908 - val_loss: 0.4216 - val_accuracy: 0.8545\n",
            "Epoch 5/5\n",
            "2700/2700 [==============================] - 6s 2ms/step - loss: 0.2642 - accuracy: 0.9048 - val_loss: 0.4813 - val_accuracy: 0.8483\n",
            "675/675 [==============================] - 1s 1ms/step - loss: 0.4651 - accuracy: 0.8511\n",
            "Epoch 1/5\n",
            "2700/2700 [==============================] - 6s 2ms/step - loss: 0.4617 - accuracy: 0.8310 - val_loss: 0.4233 - val_accuracy: 0.8452\n",
            "Epoch 2/5\n",
            "2700/2700 [==============================] - 5s 2ms/step - loss: 0.3857 - accuracy: 0.8600 - val_loss: 0.4162 - val_accuracy: 0.8518\n",
            "Epoch 3/5\n",
            "2700/2700 [==============================] - 6s 2ms/step - loss: 0.3400 - accuracy: 0.8758 - val_loss: 0.4226 - val_accuracy: 0.8514\n",
            "Epoch 4/5\n",
            "2700/2700 [==============================] - 6s 2ms/step - loss: 0.2969 - accuracy: 0.8925 - val_loss: 0.4230 - val_accuracy: 0.8513\n",
            "Epoch 5/5\n",
            "2700/2700 [==============================] - 5s 2ms/step - loss: 0.2604 - accuracy: 0.9058 - val_loss: 0.4591 - val_accuracy: 0.8468\n",
            "675/675 [==============================] - 1s 1ms/step - loss: 0.4563 - accuracy: 0.8469\n",
            "Epoch 1/5\n",
            "2700/2700 [==============================] - 6s 2ms/step - loss: 0.4587 - accuracy: 0.8342 - val_loss: 0.4259 - val_accuracy: 0.8453\n",
            "Epoch 2/5\n",
            "2700/2700 [==============================] - 6s 2ms/step - loss: 0.3842 - accuracy: 0.8597 - val_loss: 0.4059 - val_accuracy: 0.8523\n",
            "Epoch 3/5\n",
            "2700/2700 [==============================] - 5s 2ms/step - loss: 0.3400 - accuracy: 0.8765 - val_loss: 0.4026 - val_accuracy: 0.8548\n",
            "Epoch 4/5\n",
            "2700/2700 [==============================] - 6s 2ms/step - loss: 0.2971 - accuracy: 0.8928 - val_loss: 0.4232 - val_accuracy: 0.8514\n",
            "Epoch 5/5\n",
            "2700/2700 [==============================] - 5s 2ms/step - loss: 0.2593 - accuracy: 0.9059 - val_loss: 0.4543 - val_accuracy: 0.8522\n",
            "675/675 [==============================] - 1s 1ms/step - loss: 0.4710 - accuracy: 0.8452\n",
            "Epoch 1/5\n",
            "2700/2700 [==============================] - 6s 2ms/step - loss: 0.4645 - accuracy: 0.8304 - val_loss: 0.4295 - val_accuracy: 0.8475\n",
            "Epoch 2/5\n",
            "2700/2700 [==============================] - 5s 2ms/step - loss: 0.3878 - accuracy: 0.8578 - val_loss: 0.4236 - val_accuracy: 0.8493\n",
            "Epoch 3/5\n",
            "2700/2700 [==============================] - 5s 2ms/step - loss: 0.3410 - accuracy: 0.8758 - val_loss: 0.4054 - val_accuracy: 0.8529\n",
            "Epoch 4/5\n",
            "2700/2700 [==============================] - 5s 2ms/step - loss: 0.3003 - accuracy: 0.8903 - val_loss: 0.4303 - val_accuracy: 0.8511\n",
            "Epoch 5/5\n",
            "2700/2700 [==============================] - 5s 2ms/step - loss: 0.2637 - accuracy: 0.9037 - val_loss: 0.4547 - val_accuracy: 0.8502\n",
            "675/675 [==============================] - 1s 1ms/step - loss: 0.4443 - accuracy: 0.8523\n",
            "Epoch 1/5\n",
            "2700/2700 [==============================] - 6s 2ms/step - loss: 0.4611 - accuracy: 0.8331 - val_loss: 0.4270 - val_accuracy: 0.8445\n",
            "Epoch 2/5\n",
            "2700/2700 [==============================] - 6s 2ms/step - loss: 0.3826 - accuracy: 0.8608 - val_loss: 0.4099 - val_accuracy: 0.8503\n",
            "Epoch 3/5\n",
            "2700/2700 [==============================] - 5s 2ms/step - loss: 0.3365 - accuracy: 0.8777 - val_loss: 0.4201 - val_accuracy: 0.8523\n",
            "Epoch 4/5\n",
            "2700/2700 [==============================] - 6s 2ms/step - loss: 0.2950 - accuracy: 0.8934 - val_loss: 0.4258 - val_accuracy: 0.8494\n",
            "Epoch 5/5\n",
            "2700/2700 [==============================] - 5s 2ms/step - loss: 0.2591 - accuracy: 0.9068 - val_loss: 0.4703 - val_accuracy: 0.8453\n",
            "675/675 [==============================] - 1s 1ms/step - loss: 0.4866 - accuracy: 0.8438\n",
            "Epoch 1/5\n",
            "2700/2700 [==============================] - 5s 2ms/step - loss: 0.9914 - accuracy: 0.6206 - val_loss: 0.5869 - val_accuracy: 0.8183\n",
            "Epoch 2/5\n",
            "2700/2700 [==============================] - 5s 2ms/step - loss: 0.4967 - accuracy: 0.8340 - val_loss: 0.4629 - val_accuracy: 0.8399\n",
            "Epoch 3/5\n",
            "2700/2700 [==============================] - 5s 2ms/step - loss: 0.4363 - accuracy: 0.8487 - val_loss: 0.4392 - val_accuracy: 0.8468\n",
            "Epoch 4/5\n",
            "2700/2700 [==============================] - 5s 2ms/step - loss: 0.4165 - accuracy: 0.8549 - val_loss: 0.4285 - val_accuracy: 0.8502\n",
            "Epoch 5/5\n",
            "2700/2700 [==============================] - 5s 2ms/step - loss: 0.4057 - accuracy: 0.8577 - val_loss: 0.4231 - val_accuracy: 0.8522\n",
            "675/675 [==============================] - 1s 1ms/step - loss: 0.4093 - accuracy: 0.8551\n",
            "Epoch 1/5\n",
            "2700/2700 [==============================] - 5s 2ms/step - loss: 0.9031 - accuracy: 0.6806 - val_loss: 0.5569 - val_accuracy: 0.8152\n",
            "Epoch 2/5\n",
            "2700/2700 [==============================] - 5s 2ms/step - loss: 0.4919 - accuracy: 0.8327 - val_loss: 0.4690 - val_accuracy: 0.8379\n",
            "Epoch 3/5\n",
            "2700/2700 [==============================] - 5s 2ms/step - loss: 0.4389 - accuracy: 0.8476 - val_loss: 0.4447 - val_accuracy: 0.8457\n",
            "Epoch 4/5\n",
            "2700/2700 [==============================] - 5s 2ms/step - loss: 0.4179 - accuracy: 0.8537 - val_loss: 0.4330 - val_accuracy: 0.8485\n",
            "Epoch 5/5\n",
            "2700/2700 [==============================] - 5s 2ms/step - loss: 0.4062 - accuracy: 0.8568 - val_loss: 0.4271 - val_accuracy: 0.8496\n",
            "675/675 [==============================] - 1s 1ms/step - loss: 0.4195 - accuracy: 0.8500\n",
            "Epoch 1/5\n",
            "2700/2700 [==============================] - 5s 2ms/step - loss: 0.8661 - accuracy: 0.6863 - val_loss: 0.5356 - val_accuracy: 0.8229\n",
            "Epoch 2/5\n",
            "2700/2700 [==============================] - 6s 2ms/step - loss: 0.4699 - accuracy: 0.8397 - val_loss: 0.4573 - val_accuracy: 0.8432\n",
            "Epoch 3/5\n",
            "2700/2700 [==============================] - 5s 2ms/step - loss: 0.4246 - accuracy: 0.8523 - val_loss: 0.4382 - val_accuracy: 0.8480\n",
            "Epoch 4/5\n",
            "2700/2700 [==============================] - 5s 2ms/step - loss: 0.4074 - accuracy: 0.8569 - val_loss: 0.4288 - val_accuracy: 0.8487\n",
            "Epoch 5/5\n",
            "2700/2700 [==============================] - 5s 2ms/step - loss: 0.3979 - accuracy: 0.8602 - val_loss: 0.4232 - val_accuracy: 0.8513\n",
            "675/675 [==============================] - 1s 1ms/step - loss: 0.4262 - accuracy: 0.8466\n",
            "Epoch 1/5\n",
            "2700/2700 [==============================] - 5s 2ms/step - loss: 0.9193 - accuracy: 0.6647 - val_loss: 0.5464 - val_accuracy: 0.8225\n",
            "Epoch 2/5\n",
            "2700/2700 [==============================] - 5s 2ms/step - loss: 0.4811 - accuracy: 0.8372 - val_loss: 0.4569 - val_accuracy: 0.8419\n",
            "Epoch 3/5\n",
            "2700/2700 [==============================] - 5s 2ms/step - loss: 0.4316 - accuracy: 0.8492 - val_loss: 0.4362 - val_accuracy: 0.8495\n",
            "Epoch 4/5\n",
            "2700/2700 [==============================] - 5s 2ms/step - loss: 0.4135 - accuracy: 0.8542 - val_loss: 0.4277 - val_accuracy: 0.8499\n",
            "Epoch 5/5\n",
            "2700/2700 [==============================] - 5s 2ms/step - loss: 0.4035 - accuracy: 0.8574 - val_loss: 0.4218 - val_accuracy: 0.8518\n",
            "675/675 [==============================] - 1s 1ms/step - loss: 0.4106 - accuracy: 0.8567\n",
            "Epoch 1/5\n",
            "2700/2700 [==============================] - 6s 2ms/step - loss: 0.8781 - accuracy: 0.6817 - val_loss: 0.5383 - val_accuracy: 0.8242\n",
            "Epoch 2/5\n",
            "2700/2700 [==============================] - 5s 2ms/step - loss: 0.4744 - accuracy: 0.8416 - val_loss: 0.4597 - val_accuracy: 0.8407\n",
            "Epoch 3/5\n",
            "2700/2700 [==============================] - 5s 2ms/step - loss: 0.4298 - accuracy: 0.8519 - val_loss: 0.4407 - val_accuracy: 0.8490\n",
            "Epoch 4/5\n",
            "2700/2700 [==============================] - 5s 2ms/step - loss: 0.4128 - accuracy: 0.8561 - val_loss: 0.4318 - val_accuracy: 0.8508\n",
            "Epoch 5/5\n",
            "2700/2700 [==============================] - 5s 2ms/step - loss: 0.4034 - accuracy: 0.8581 - val_loss: 0.4267 - val_accuracy: 0.8511\n",
            "675/675 [==============================] - 1s 1ms/step - loss: 0.4242 - accuracy: 0.8492\n",
            "Epoch 1/5\n",
            "2700/2700 [==============================] - 6s 2ms/step - loss: 0.7588 - accuracy: 0.7365 - val_loss: 0.4808 - val_accuracy: 0.8339\n",
            "Epoch 2/5\n",
            "2700/2700 [==============================] - 5s 2ms/step - loss: 0.4409 - accuracy: 0.8481 - val_loss: 0.4368 - val_accuracy: 0.8475\n",
            "Epoch 3/5\n",
            "2700/2700 [==============================] - 5s 2ms/step - loss: 0.4126 - accuracy: 0.8553 - val_loss: 0.4249 - val_accuracy: 0.8491\n",
            "Epoch 4/5\n",
            "2700/2700 [==============================] - 5s 2ms/step - loss: 0.4009 - accuracy: 0.8581 - val_loss: 0.4184 - val_accuracy: 0.8513\n",
            "Epoch 5/5\n",
            "2700/2700 [==============================] - 5s 2ms/step - loss: 0.3940 - accuracy: 0.8595 - val_loss: 0.4158 - val_accuracy: 0.8524\n",
            "675/675 [==============================] - 1s 1ms/step - loss: 0.4030 - accuracy: 0.8562\n",
            "Epoch 1/5\n",
            "2700/2700 [==============================] - 5s 2ms/step - loss: 0.7722 - accuracy: 0.7250 - val_loss: 0.4838 - val_accuracy: 0.8354\n",
            "Epoch 2/5\n",
            "2700/2700 [==============================] - 5s 2ms/step - loss: 0.4437 - accuracy: 0.8460 - val_loss: 0.4393 - val_accuracy: 0.8482\n",
            "Epoch 3/5\n",
            "2700/2700 [==============================] - 5s 2ms/step - loss: 0.4135 - accuracy: 0.8550 - val_loss: 0.4271 - val_accuracy: 0.8520\n",
            "Epoch 4/5\n",
            "2700/2700 [==============================] - 5s 2ms/step - loss: 0.4005 - accuracy: 0.8584 - val_loss: 0.4203 - val_accuracy: 0.8521\n",
            "Epoch 5/5\n",
            "2700/2700 [==============================] - 5s 2ms/step - loss: 0.3926 - accuracy: 0.8600 - val_loss: 0.4172 - val_accuracy: 0.8517\n",
            "675/675 [==============================] - 1s 1ms/step - loss: 0.4113 - accuracy: 0.8529\n",
            "Epoch 1/5\n",
            "2700/2700 [==============================] - 6s 2ms/step - loss: 0.7608 - accuracy: 0.7282 - val_loss: 0.4790 - val_accuracy: 0.8357\n",
            "Epoch 2/5\n",
            "2700/2700 [==============================] - 5s 2ms/step - loss: 0.4366 - accuracy: 0.8490 - val_loss: 0.4369 - val_accuracy: 0.8463\n",
            "Epoch 3/5\n",
            "2700/2700 [==============================] - 5s 2ms/step - loss: 0.4085 - accuracy: 0.8570 - val_loss: 0.4259 - val_accuracy: 0.8504\n",
            "Epoch 4/5\n",
            "2700/2700 [==============================] - 5s 2ms/step - loss: 0.3967 - accuracy: 0.8600 - val_loss: 0.4212 - val_accuracy: 0.8503\n",
            "Epoch 5/5\n",
            "2700/2700 [==============================] - 5s 2ms/step - loss: 0.3896 - accuracy: 0.8618 - val_loss: 0.4165 - val_accuracy: 0.8521\n",
            "675/675 [==============================] - 1s 1ms/step - loss: 0.4230 - accuracy: 0.8467\n",
            "Epoch 1/5\n",
            "2700/2700 [==============================] - 6s 2ms/step - loss: 0.7824 - accuracy: 0.7209 - val_loss: 0.4883 - val_accuracy: 0.8349\n",
            "Epoch 2/5\n",
            "2700/2700 [==============================] - 5s 2ms/step - loss: 0.4487 - accuracy: 0.8447 - val_loss: 0.4428 - val_accuracy: 0.8476\n",
            "Epoch 3/5\n",
            "2700/2700 [==============================] - 6s 2ms/step - loss: 0.4186 - accuracy: 0.8525 - val_loss: 0.4300 - val_accuracy: 0.8522\n",
            "Epoch 4/5\n",
            "2700/2700 [==============================] - 5s 2ms/step - loss: 0.4052 - accuracy: 0.8562 - val_loss: 0.4243 - val_accuracy: 0.8509\n",
            "Epoch 5/5\n",
            "2700/2700 [==============================] - 5s 2ms/step - loss: 0.3971 - accuracy: 0.8580 - val_loss: 0.4182 - val_accuracy: 0.8510\n",
            "675/675 [==============================] - 1s 1ms/step - loss: 0.4076 - accuracy: 0.8569\n",
            "Epoch 1/5\n",
            "2700/2700 [==============================] - 5s 2ms/step - loss: 0.7772 - accuracy: 0.7202 - val_loss: 0.4802 - val_accuracy: 0.8356\n",
            "Epoch 2/5\n",
            "2700/2700 [==============================] - 5s 2ms/step - loss: 0.4398 - accuracy: 0.8484 - val_loss: 0.4396 - val_accuracy: 0.8468\n",
            "Epoch 3/5\n",
            "2700/2700 [==============================] - 5s 2ms/step - loss: 0.4121 - accuracy: 0.8559 - val_loss: 0.4288 - val_accuracy: 0.8503\n",
            "Epoch 4/5\n",
            "2700/2700 [==============================] - 5s 2ms/step - loss: 0.4001 - accuracy: 0.8584 - val_loss: 0.4243 - val_accuracy: 0.8511\n",
            "Epoch 5/5\n",
            "2700/2700 [==============================] - 5s 2ms/step - loss: 0.3929 - accuracy: 0.8606 - val_loss: 0.4202 - val_accuracy: 0.8518\n",
            "675/675 [==============================] - 1s 1ms/step - loss: 0.4198 - accuracy: 0.8504\n",
            "Epoch 1/5\n",
            "2700/2700 [==============================] - 6s 2ms/step - loss: 0.7103 - accuracy: 0.7524 - val_loss: 0.4664 - val_accuracy: 0.8393\n",
            "Epoch 2/5\n",
            "2700/2700 [==============================] - 6s 2ms/step - loss: 0.4320 - accuracy: 0.8492 - val_loss: 0.4341 - val_accuracy: 0.8480\n",
            "Epoch 3/5\n",
            "2700/2700 [==============================] - 6s 2ms/step - loss: 0.4082 - accuracy: 0.8556 - val_loss: 0.4254 - val_accuracy: 0.8503\n",
            "Epoch 4/5\n",
            "2700/2700 [==============================] - 6s 2ms/step - loss: 0.3971 - accuracy: 0.8590 - val_loss: 0.4176 - val_accuracy: 0.8518\n",
            "Epoch 5/5\n",
            "2700/2700 [==============================] - 6s 2ms/step - loss: 0.3894 - accuracy: 0.8608 - val_loss: 0.4139 - val_accuracy: 0.8520\n",
            "675/675 [==============================] - 1s 1ms/step - loss: 0.4007 - accuracy: 0.8562\n",
            "Epoch 1/5\n",
            "2700/2700 [==============================] - 6s 2ms/step - loss: 0.6960 - accuracy: 0.7562 - val_loss: 0.4609 - val_accuracy: 0.8413\n",
            "Epoch 2/5\n",
            "2700/2700 [==============================] - 5s 2ms/step - loss: 0.4268 - accuracy: 0.8511 - val_loss: 0.4314 - val_accuracy: 0.8488\n",
            "Epoch 3/5\n",
            "2700/2700 [==============================] - 6s 2ms/step - loss: 0.4045 - accuracy: 0.8573 - val_loss: 0.4243 - val_accuracy: 0.8508\n",
            "Epoch 4/5\n",
            "2700/2700 [==============================] - 6s 2ms/step - loss: 0.3940 - accuracy: 0.8603 - val_loss: 0.4185 - val_accuracy: 0.8508\n",
            "Epoch 5/5\n",
            "2700/2700 [==============================] - 6s 2ms/step - loss: 0.3866 - accuracy: 0.8622 - val_loss: 0.4157 - val_accuracy: 0.8522\n",
            "675/675 [==============================] - 1s 1ms/step - loss: 0.4099 - accuracy: 0.8528\n",
            "Epoch 1/5\n",
            "2700/2700 [==============================] - 6s 2ms/step - loss: 0.7166 - accuracy: 0.7492 - val_loss: 0.4637 - val_accuracy: 0.8414\n",
            "Epoch 2/5\n",
            "2700/2700 [==============================] - 6s 2ms/step - loss: 0.4262 - accuracy: 0.8516 - val_loss: 0.4311 - val_accuracy: 0.8480\n",
            "Epoch 3/5\n",
            "2700/2700 [==============================] - 6s 2ms/step - loss: 0.4035 - accuracy: 0.8579 - val_loss: 0.4248 - val_accuracy: 0.8501\n",
            "Epoch 4/5\n",
            "2700/2700 [==============================] - 5s 2ms/step - loss: 0.3930 - accuracy: 0.8612 - val_loss: 0.4206 - val_accuracy: 0.8491\n",
            "Epoch 5/5\n",
            "2700/2700 [==============================] - 6s 2ms/step - loss: 0.3859 - accuracy: 0.8629 - val_loss: 0.4167 - val_accuracy: 0.8506\n",
            "675/675 [==============================] - 1s 1ms/step - loss: 0.4247 - accuracy: 0.8460\n",
            "Epoch 1/5\n",
            "2700/2700 [==============================] - 6s 2ms/step - loss: 0.7141 - accuracy: 0.7466 - val_loss: 0.4613 - val_accuracy: 0.8402\n",
            "Epoch 2/5\n",
            "2700/2700 [==============================] - 6s 2ms/step - loss: 0.4277 - accuracy: 0.8504 - val_loss: 0.4287 - val_accuracy: 0.8500\n",
            "Epoch 3/5\n",
            "2700/2700 [==============================] - 5s 2ms/step - loss: 0.4048 - accuracy: 0.8565 - val_loss: 0.4200 - val_accuracy: 0.8524\n",
            "Epoch 4/5\n",
            "2700/2700 [==============================] - 5s 2ms/step - loss: 0.3941 - accuracy: 0.8593 - val_loss: 0.4173 - val_accuracy: 0.8518\n",
            "Epoch 5/5\n",
            "2700/2700 [==============================] - 6s 2ms/step - loss: 0.3868 - accuracy: 0.8612 - val_loss: 0.4108 - val_accuracy: 0.8535\n",
            "675/675 [==============================] - 1s 1ms/step - loss: 0.4017 - accuracy: 0.8569\n",
            "Epoch 1/5\n",
            "2700/2700 [==============================] - 6s 2ms/step - loss: 0.7062 - accuracy: 0.7573 - val_loss: 0.4639 - val_accuracy: 0.8395\n",
            "Epoch 2/5\n",
            "2700/2700 [==============================] - 6s 2ms/step - loss: 0.4262 - accuracy: 0.8506 - val_loss: 0.4325 - val_accuracy: 0.8478\n",
            "Epoch 3/5\n",
            "2700/2700 [==============================] - 6s 2ms/step - loss: 0.4029 - accuracy: 0.8565 - val_loss: 0.4234 - val_accuracy: 0.8511\n",
            "Epoch 4/5\n",
            "2700/2700 [==============================] - 6s 2ms/step - loss: 0.3918 - accuracy: 0.8601 - val_loss: 0.4191 - val_accuracy: 0.8518\n",
            "Epoch 5/5\n",
            "2700/2700 [==============================] - 6s 2ms/step - loss: 0.3843 - accuracy: 0.8618 - val_loss: 0.4148 - val_accuracy: 0.8528\n",
            "675/675 [==============================] - 1s 1ms/step - loss: 0.4165 - accuracy: 0.8511\n",
            "Epoch 1/5\n",
            "3375/3375 [==============================] - 7s 2ms/step - loss: 0.4801 - accuracy: 0.8254 - val_loss: 0.4198 - val_accuracy: 0.8513\n",
            "Epoch 2/5\n",
            "3375/3375 [==============================] - 6s 2ms/step - loss: 0.3985 - accuracy: 0.8548 - val_loss: 0.4097 - val_accuracy: 0.8518\n",
            "Epoch 3/5\n",
            "3375/3375 [==============================] - 6s 2ms/step - loss: 0.3784 - accuracy: 0.8615 - val_loss: 0.3985 - val_accuracy: 0.8562\n",
            "Epoch 4/5\n",
            "3375/3375 [==============================] - 6s 2ms/step - loss: 0.3630 - accuracy: 0.8663 - val_loss: 0.3954 - val_accuracy: 0.8584\n",
            "Epoch 5/5\n",
            "3375/3375 [==============================] - 6s 2ms/step - loss: 0.3506 - accuracy: 0.8709 - val_loss: 0.3942 - val_accuracy: 0.8575\n"
          ]
        },
        {
          "output_type": "execute_result",
          "data": {
            "text/plain": [
              "GridSearchCV(estimator=<keras.wrappers.scikit_learn.KerasRegressor object at 0x7fdcdbea3f50>,\n",
              "             param_grid={'learning_rate': [0.001, 0.005, 0.0001],\n",
              "                         'n_units': [15, 30, 50]})"
            ]
          },
          "metadata": {},
          "execution_count": 38
        }
      ]
    },
    {
      "cell_type": "markdown",
      "metadata": {
        "id": "aadmkiOoyM94"
      },
      "source": [
        "Print the best hyper-parameters, and evealuate the best model on the test set."
      ]
    },
    {
      "cell_type": "code",
      "metadata": {
        "id": "b0nL5OZkylNX",
        "colab": {
          "base_uri": "https://localhost:8080/"
        },
        "outputId": "593832f0-4c3c-402a-a9fc-676fbf4fd508"
      },
      "source": [
        "print(grid_search.best_params_)\n",
        "\n",
        "model = grid_search.best_estimator_.model\n",
        "model.evaluate(X_test, y_test)"
      ],
      "execution_count": 39,
      "outputs": [
        {
          "output_type": "stream",
          "name": "stdout",
          "text": [
            "{'learning_rate': 0.001, 'n_units': 15}\n",
            "238/238 [==============================] - 0s 1ms/step - loss: 0.4048 - accuracy: 0.8521\n"
          ]
        },
        {
          "output_type": "execute_result",
          "data": {
            "text/plain": [
              "[0.4048321545124054, 0.8521052598953247]"
            ]
          },
          "metadata": {},
          "execution_count": 39
        }
      ]
    }
  ]
}